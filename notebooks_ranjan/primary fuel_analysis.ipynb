{
 "cells": [
  {
   "cell_type": "code",
   "execution_count": 1,
   "metadata": {},
   "outputs": [
    {
     "name": "stdout",
     "output_type": "stream",
     "text": [
      "Requirement already satisfied: geopandas in c:\\programdata\\anaconda3\\envs\\geo_env\\lib\\site-packages (0.9.0)\n",
      "Requirement already satisfied: pandas>=0.24.0 in c:\\programdata\\anaconda3\\envs\\geo_env\\lib\\site-packages (from geopandas) (1.2.3)\n",
      "Requirement already satisfied: fiona>=1.8 in c:\\programdata\\anaconda3\\envs\\geo_env\\lib\\site-packages (from geopandas) (1.8.18)\n",
      "Requirement already satisfied: shapely>=1.6 in c:\\programdata\\anaconda3\\envs\\geo_env\\lib\\site-packages (from geopandas) (1.7.1)\n",
      "Requirement already satisfied: pyproj>=2.2.0 in c:\\programdata\\anaconda3\\envs\\geo_env\\lib\\site-packages (from geopandas) (3.0.1)\n",
      "Requirement already satisfied: attrs>=17 in c:\\programdata\\anaconda3\\envs\\geo_env\\lib\\site-packages (from fiona>=1.8->geopandas) (20.3.0)\n",
      "Requirement already satisfied: certifi in c:\\programdata\\anaconda3\\envs\\geo_env\\lib\\site-packages (from fiona>=1.8->geopandas) (2020.12.5)\n",
      "Requirement already satisfied: click<8,>=4.0 in c:\\programdata\\anaconda3\\envs\\geo_env\\lib\\site-packages (from fiona>=1.8->geopandas) (7.1.2)\n",
      "Requirement already satisfied: cligj>=0.5 in c:\\programdata\\anaconda3\\envs\\geo_env\\lib\\site-packages (from fiona>=1.8->geopandas) (0.7.1)\n",
      "Requirement already satisfied: click-plugins>=1.0 in c:\\programdata\\anaconda3\\envs\\geo_env\\lib\\site-packages (from fiona>=1.8->geopandas) (1.1.1)\n",
      "Requirement already satisfied: six>=1.7 in c:\\programdata\\anaconda3\\envs\\geo_env\\lib\\site-packages (from fiona>=1.8->geopandas) (1.15.0)\n",
      "Requirement already satisfied: munch in c:\\programdata\\anaconda3\\envs\\geo_env\\lib\\site-packages (from fiona>=1.8->geopandas) (2.5.0)\n",
      "Requirement already satisfied: numpy>=1.16.5 in c:\\programdata\\anaconda3\\envs\\geo_env\\lib\\site-packages (from pandas>=0.24.0->geopandas) (1.20.1)\n",
      "Requirement already satisfied: python-dateutil>=2.7.3 in c:\\programdata\\anaconda3\\envs\\geo_env\\lib\\site-packages (from pandas>=0.24.0->geopandas) (2.8.1)\n",
      "Requirement already satisfied: pytz>=2017.3 in c:\\programdata\\anaconda3\\envs\\geo_env\\lib\\site-packages (from pandas>=0.24.0->geopandas) (2021.1)\n",
      "Requirement already satisfied: plotly in c:\\programdata\\anaconda3\\envs\\geo_env\\lib\\site-packages (4.14.3)\n",
      "Requirement already satisfied: six in c:\\programdata\\anaconda3\\envs\\geo_env\\lib\\site-packages (from plotly) (1.15.0)\n",
      "Requirement already satisfied: retrying>=1.3.3 in c:\\programdata\\anaconda3\\envs\\geo_env\\lib\\site-packages (from plotly) (1.3.3)\n"
     ]
    }
   ],
   "source": [
    "!pip install geopandas\n",
    "!pip install plotly\n",
    "import plotly\n",
    "import plotly.express as px\n",
    "import geopandas as gpd\n",
    "import pandas as pd"
   ]
  },
  {
   "cell_type": "code",
   "execution_count": 2,
   "metadata": {},
   "outputs": [
    {
     "data": {
      "text/html": [
       "<div>\n",
       "<style scoped>\n",
       "    .dataframe tbody tr th:only-of-type {\n",
       "        vertical-align: middle;\n",
       "    }\n",
       "\n",
       "    .dataframe tbody tr th {\n",
       "        vertical-align: top;\n",
       "    }\n",
       "\n",
       "    .dataframe thead th {\n",
       "        text-align: right;\n",
       "    }\n",
       "</style>\n",
       "<table border=\"1\" class=\"dataframe\">\n",
       "  <thead>\n",
       "    <tr style=\"text-align: right;\">\n",
       "      <th></th>\n",
       "      <th>country</th>\n",
       "      <th>primary_fuel</th>\n",
       "      <th>capacity_mw</th>\n",
       "    </tr>\n",
       "  </thead>\n",
       "  <tbody>\n",
       "    <tr>\n",
       "      <th>0</th>\n",
       "      <td>AFG</td>\n",
       "      <td>Hydro</td>\n",
       "      <td>238.55</td>\n",
       "    </tr>\n",
       "    <tr>\n",
       "      <th>1</th>\n",
       "      <td>AGO</td>\n",
       "      <td>Hydro</td>\n",
       "      <td>770.60</td>\n",
       "    </tr>\n",
       "    <tr>\n",
       "      <th>2</th>\n",
       "      <td>ALB</td>\n",
       "      <td>Hydro</td>\n",
       "      <td>1431.00</td>\n",
       "    </tr>\n",
       "    <tr>\n",
       "      <th>3</th>\n",
       "      <td>ARE</td>\n",
       "      <td>Gas</td>\n",
       "      <td>29487.00</td>\n",
       "    </tr>\n",
       "    <tr>\n",
       "      <th>4</th>\n",
       "      <td>ARG</td>\n",
       "      <td>Gas</td>\n",
       "      <td>13041.84</td>\n",
       "    </tr>\n",
       "    <tr>\n",
       "      <th>...</th>\n",
       "      <td>...</td>\n",
       "      <td>...</td>\n",
       "      <td>...</td>\n",
       "    </tr>\n",
       "    <tr>\n",
       "      <th>159</th>\n",
       "      <td>VNM</td>\n",
       "      <td>Hydro</td>\n",
       "      <td>16750.09</td>\n",
       "    </tr>\n",
       "    <tr>\n",
       "      <th>160</th>\n",
       "      <td>YEM</td>\n",
       "      <td>Oil</td>\n",
       "      <td>645.00</td>\n",
       "    </tr>\n",
       "    <tr>\n",
       "      <th>161</th>\n",
       "      <td>ZAF</td>\n",
       "      <td>Coal</td>\n",
       "      <td>39794.00</td>\n",
       "    </tr>\n",
       "    <tr>\n",
       "      <th>162</th>\n",
       "      <td>ZMB</td>\n",
       "      <td>Hydro</td>\n",
       "      <td>2160.00</td>\n",
       "    </tr>\n",
       "    <tr>\n",
       "      <th>163</th>\n",
       "      <td>ZWE</td>\n",
       "      <td>Coal</td>\n",
       "      <td>920.00</td>\n",
       "    </tr>\n",
       "  </tbody>\n",
       "</table>\n",
       "<p>164 rows × 3 columns</p>\n",
       "</div>"
      ],
      "text/plain": [
       "    country primary_fuel  capacity_mw\n",
       "0       AFG        Hydro       238.55\n",
       "1       AGO        Hydro       770.60\n",
       "2       ALB        Hydro      1431.00\n",
       "3       ARE          Gas     29487.00\n",
       "4       ARG          Gas     13041.84\n",
       "..      ...          ...          ...\n",
       "159     VNM        Hydro     16750.09\n",
       "160     YEM          Oil       645.00\n",
       "161     ZAF         Coal     39794.00\n",
       "162     ZMB        Hydro      2160.00\n",
       "163     ZWE         Coal       920.00\n",
       "\n",
       "[164 rows x 3 columns]"
      ]
     },
     "execution_count": 2,
     "metadata": {},
     "output_type": "execute_result"
    }
   ],
   "source": [
    "df = pd.read_csv(\"global_power_plant_database.csv\")\n",
    "df.drop(['country_long', 'name', 'gppd_idnr',\n",
    "       'latitude', 'longitude', 'other_fuel1', 'other_fuel2',\n",
    "       'other_fuel3', 'commissioning_year', 'owner', 'source', 'url',\n",
    "       'geolocation_source', 'wepp_id', 'year_of_capacity_data',\n",
    "       'generation_gwh_2013', 'generation_gwh_2014', 'generation_gwh_2015',\n",
    "       'generation_gwh_2016', 'generation_gwh_2017',\n",
    "       'estimated_generation_gwh'], axis=1, inplace=True) # only keeps the columns country, primary_fuel and capacity_mw\n",
    "df = df.groupby(['country', 'primary_fuel'], as_index = False)[[\"capacity_mw\"]].sum() # groups countries by primary fuel types along with their aggregate capacity\n",
    "df = df.sort_values(['country','capacity_mw'], ascending = [True, False], ignore_index = True) # sorts countries by maximum capacity for each fuel type\n",
    "df = df.drop_duplicates(subset=['country'], keep='first', ignore_index = True) # only keeps the fuel type with highest maximum capacity\n",
    "df"
   ]
  },
  {
   "cell_type": "code",
   "execution_count": 5,
   "metadata": {},
   "outputs": [
    {
     "data": {
      "application/vnd.plotly.v1+json": {
       "config": {
        "plotlyServerURL": "https://plot.ly"
       },
       "data": [
        {
         "colorscale": [
          [
           0,
           "#636efa"
          ],
          [
           1,
           "#636efa"
          ]
         ],
         "geo": "geo",
         "hovertemplate": "<b>%{hovertext}</b><br><br>primary_fuel=Hydro<br>country=%{location}<extra></extra>",
         "hovertext": [
          "AFG",
          "AGO",
          "ALB",
          "AUT",
          "BDI",
          "BIH",
          "BRA",
          "BTN",
          "CAF",
          "CAN",
          "CHE",
          "CHL",
          "CMR",
          "COD",
          "COL",
          "CRI",
          "ECU",
          "ETH",
          "FJI",
          "GAB",
          "GEO",
          "GHA",
          "GIN",
          "GNQ",
          "GTM",
          "GUF",
          "HRV",
          "ISL",
          "KEN",
          "KGZ",
          "KHM",
          "LAO",
          "LBR",
          "LKA",
          "LSO",
          "LUX",
          "LVA",
          "MLI",
          "MMR",
          "MNE",
          "MOZ",
          "MWI",
          "NAM",
          "NOR",
          "NPL",
          "NZL",
          "PAK",
          "PAN",
          "PNG",
          "PRY",
          "RWA",
          "SDN",
          "SVK",
          "SWE",
          "SWZ",
          "TJK",
          "TZA",
          "UGA",
          "URY",
          "VEN",
          "VNM",
          "ZMB"
         ],
         "locations": [
          "AFG",
          "AGO",
          "ALB",
          "AUT",
          "BDI",
          "BIH",
          "BRA",
          "BTN",
          "CAF",
          "CAN",
          "CHE",
          "CHL",
          "CMR",
          "COD",
          "COL",
          "CRI",
          "ECU",
          "ETH",
          "FJI",
          "GAB",
          "GEO",
          "GHA",
          "GIN",
          "GNQ",
          "GTM",
          "GUF",
          "HRV",
          "ISL",
          "KEN",
          "KGZ",
          "KHM",
          "LAO",
          "LBR",
          "LKA",
          "LSO",
          "LUX",
          "LVA",
          "MLI",
          "MMR",
          "MNE",
          "MOZ",
          "MWI",
          "NAM",
          "NOR",
          "NPL",
          "NZL",
          "PAK",
          "PAN",
          "PNG",
          "PRY",
          "RWA",
          "SDN",
          "SVK",
          "SWE",
          "SWZ",
          "TJK",
          "TZA",
          "UGA",
          "URY",
          "VEN",
          "VNM",
          "ZMB"
         ],
         "name": "Hydro",
         "showlegend": true,
         "showscale": false,
         "type": "choropleth",
         "z": [
          1,
          1,
          1,
          1,
          1,
          1,
          1,
          1,
          1,
          1,
          1,
          1,
          1,
          1,
          1,
          1,
          1,
          1,
          1,
          1,
          1,
          1,
          1,
          1,
          1,
          1,
          1,
          1,
          1,
          1,
          1,
          1,
          1,
          1,
          1,
          1,
          1,
          1,
          1,
          1,
          1,
          1,
          1,
          1,
          1,
          1,
          1,
          1,
          1,
          1,
          1,
          1,
          1,
          1,
          1,
          1,
          1,
          1,
          1,
          1,
          1,
          1
         ]
        },
        {
         "colorscale": [
          [
           0,
           "#EF553B"
          ],
          [
           1,
           "#EF553B"
          ]
         ],
         "geo": "geo",
         "hovertemplate": "<b>%{hovertext}</b><br><br>primary_fuel=Gas<br>country=%{location}<extra></extra>",
         "hovertext": [
          "ARE",
          "ARG",
          "ARM",
          "BEN",
          "BGD",
          "BHR",
          "BLR",
          "BOL",
          "BRN",
          "CIV",
          "COG",
          "CYP",
          "DZA",
          "EGY",
          "ESP",
          "GBR",
          "GRC",
          "HUN",
          "IRL",
          "IRN",
          "IRQ",
          "ISR",
          "ITA",
          "JOR",
          "JPN",
          "KWT",
          "LBY",
          "LTU",
          "MEX",
          "MYS",
          "NGA",
          "NLD",
          "OMN",
          "PER",
          "QAT",
          "RUS",
          "SGP",
          "THA",
          "TTO",
          "TUN",
          "USA",
          "UZB"
         ],
         "locations": [
          "ARE",
          "ARG",
          "ARM",
          "BEN",
          "BGD",
          "BHR",
          "BLR",
          "BOL",
          "BRN",
          "CIV",
          "COG",
          "CYP",
          "DZA",
          "EGY",
          "ESP",
          "GBR",
          "GRC",
          "HUN",
          "IRL",
          "IRN",
          "IRQ",
          "ISR",
          "ITA",
          "JOR",
          "JPN",
          "KWT",
          "LBY",
          "LTU",
          "MEX",
          "MYS",
          "NGA",
          "NLD",
          "OMN",
          "PER",
          "QAT",
          "RUS",
          "SGP",
          "THA",
          "TTO",
          "TUN",
          "USA",
          "UZB"
         ],
         "name": "Gas",
         "showlegend": true,
         "showscale": false,
         "type": "choropleth",
         "z": [
          1,
          1,
          1,
          1,
          1,
          1,
          1,
          1,
          1,
          1,
          1,
          1,
          1,
          1,
          1,
          1,
          1,
          1,
          1,
          1,
          1,
          1,
          1,
          1,
          1,
          1,
          1,
          1,
          1,
          1,
          1,
          1,
          1,
          1,
          1,
          1,
          1,
          1,
          1,
          1,
          1,
          1
         ]
        },
        {
         "colorscale": [
          [
           0,
           "#00cc96"
          ],
          [
           1,
           "#00cc96"
          ]
         ],
         "geo": "geo",
         "hovertemplate": "<b>%{hovertext}</b><br><br>primary_fuel=Oil<br>country=%{location}<extra></extra>",
         "hovertext": [
          "ATA",
          "AZE",
          "BFA",
          "CPV",
          "CUB",
          "DJI",
          "DOM",
          "ERI",
          "ESH",
          "EST",
          "GMB",
          "GNB",
          "GUY",
          "HND",
          "JAM",
          "LBN",
          "MRT",
          "MUS",
          "NER",
          "NIC",
          "SAU",
          "SEN",
          "SLE",
          "SLV",
          "SYR",
          "TGO",
          "TKM",
          "YEM"
         ],
         "locations": [
          "ATA",
          "AZE",
          "BFA",
          "CPV",
          "CUB",
          "DJI",
          "DOM",
          "ERI",
          "ESH",
          "EST",
          "GMB",
          "GNB",
          "GUY",
          "HND",
          "JAM",
          "LBN",
          "MRT",
          "MUS",
          "NER",
          "NIC",
          "SAU",
          "SEN",
          "SLE",
          "SLV",
          "SYR",
          "TGO",
          "TKM",
          "YEM"
         ],
         "name": "Oil",
         "showlegend": true,
         "showscale": false,
         "type": "choropleth",
         "z": [
          1,
          1,
          1,
          1,
          1,
          1,
          1,
          1,
          1,
          1,
          1,
          1,
          1,
          1,
          1,
          1,
          1,
          1,
          1,
          1,
          1,
          1,
          1,
          1,
          1,
          1,
          1,
          1
         ]
        },
        {
         "colorscale": [
          [
           0,
           "#ab63fa"
          ],
          [
           1,
           "#ab63fa"
          ]
         ],
         "geo": "geo",
         "hovertemplate": "<b>%{hovertext}</b><br><br>primary_fuel=Coal<br>country=%{location}<extra></extra>",
         "hovertext": [
          "AUS",
          "BGR",
          "BWA",
          "CHN",
          "CZE",
          "DEU",
          "DNK",
          "IDN",
          "IND",
          "KAZ",
          "KOR",
          "KOS",
          "MAR",
          "MDA",
          "MDG",
          "MKD",
          "MNG",
          "PHL",
          "POL",
          "PRK",
          "ROU",
          "SRB",
          "SVN",
          "TUR",
          "TWN",
          "UKR",
          "ZAF",
          "ZWE"
         ],
         "locations": [
          "AUS",
          "BGR",
          "BWA",
          "CHN",
          "CZE",
          "DEU",
          "DNK",
          "IDN",
          "IND",
          "KAZ",
          "KOR",
          "KOS",
          "MAR",
          "MDA",
          "MDG",
          "MKD",
          "MNG",
          "PHL",
          "POL",
          "PRK",
          "ROU",
          "SRB",
          "SVN",
          "TUR",
          "TWN",
          "UKR",
          "ZAF",
          "ZWE"
         ],
         "name": "Coal",
         "showlegend": true,
         "showscale": false,
         "type": "choropleth",
         "z": [
          1,
          1,
          1,
          1,
          1,
          1,
          1,
          1,
          1,
          1,
          1,
          1,
          1,
          1,
          1,
          1,
          1,
          1,
          1,
          1,
          1,
          1,
          1,
          1,
          1,
          1,
          1,
          1
         ]
        },
        {
         "colorscale": [
          [
           0,
           "#FFA15A"
          ],
          [
           1,
           "#FFA15A"
          ]
         ],
         "geo": "geo",
         "hovertemplate": "<b>%{hovertext}</b><br><br>primary_fuel=Nuclear<br>country=%{location}<extra></extra>",
         "hovertext": [
          "BEL",
          "FIN",
          "FRA"
         ],
         "locations": [
          "BEL",
          "FIN",
          "FRA"
         ],
         "name": "Nuclear",
         "showlegend": true,
         "showscale": false,
         "type": "choropleth",
         "z": [
          1,
          1,
          1
         ]
        },
        {
         "colorscale": [
          [
           0,
           "#19d3f3"
          ],
          [
           1,
           "#19d3f3"
          ]
         ],
         "geo": "geo",
         "hovertemplate": "<b>%{hovertext}</b><br><br>primary_fuel=Wind<br>country=%{location}<extra></extra>",
         "hovertext": [
          "PRT"
         ],
         "locations": [
          "PRT"
         ],
         "name": "Wind",
         "showlegend": true,
         "showscale": false,
         "type": "choropleth",
         "z": [
          1
         ]
        }
       ],
       "layout": {
        "geo": {
         "center": {},
         "domain": {
          "x": [
           0,
           1
          ],
          "y": [
           0,
           1
          ]
         }
        },
        "legend": {
         "title": {
          "text": "primary_fuel"
         },
         "tracegroupgap": 0
        },
        "margin": {
         "t": 60
        },
        "template": {
         "data": {
          "bar": [
           {
            "error_x": {
             "color": "#2a3f5f"
            },
            "error_y": {
             "color": "#2a3f5f"
            },
            "marker": {
             "line": {
              "color": "#E5ECF6",
              "width": 0.5
             }
            },
            "type": "bar"
           }
          ],
          "barpolar": [
           {
            "marker": {
             "line": {
              "color": "#E5ECF6",
              "width": 0.5
             }
            },
            "type": "barpolar"
           }
          ],
          "carpet": [
           {
            "aaxis": {
             "endlinecolor": "#2a3f5f",
             "gridcolor": "white",
             "linecolor": "white",
             "minorgridcolor": "white",
             "startlinecolor": "#2a3f5f"
            },
            "baxis": {
             "endlinecolor": "#2a3f5f",
             "gridcolor": "white",
             "linecolor": "white",
             "minorgridcolor": "white",
             "startlinecolor": "#2a3f5f"
            },
            "type": "carpet"
           }
          ],
          "choropleth": [
           {
            "colorbar": {
             "outlinewidth": 0,
             "ticks": ""
            },
            "type": "choropleth"
           }
          ],
          "contour": [
           {
            "colorbar": {
             "outlinewidth": 0,
             "ticks": ""
            },
            "colorscale": [
             [
              0,
              "#0d0887"
             ],
             [
              0.1111111111111111,
              "#46039f"
             ],
             [
              0.2222222222222222,
              "#7201a8"
             ],
             [
              0.3333333333333333,
              "#9c179e"
             ],
             [
              0.4444444444444444,
              "#bd3786"
             ],
             [
              0.5555555555555556,
              "#d8576b"
             ],
             [
              0.6666666666666666,
              "#ed7953"
             ],
             [
              0.7777777777777778,
              "#fb9f3a"
             ],
             [
              0.8888888888888888,
              "#fdca26"
             ],
             [
              1,
              "#f0f921"
             ]
            ],
            "type": "contour"
           }
          ],
          "contourcarpet": [
           {
            "colorbar": {
             "outlinewidth": 0,
             "ticks": ""
            },
            "type": "contourcarpet"
           }
          ],
          "heatmap": [
           {
            "colorbar": {
             "outlinewidth": 0,
             "ticks": ""
            },
            "colorscale": [
             [
              0,
              "#0d0887"
             ],
             [
              0.1111111111111111,
              "#46039f"
             ],
             [
              0.2222222222222222,
              "#7201a8"
             ],
             [
              0.3333333333333333,
              "#9c179e"
             ],
             [
              0.4444444444444444,
              "#bd3786"
             ],
             [
              0.5555555555555556,
              "#d8576b"
             ],
             [
              0.6666666666666666,
              "#ed7953"
             ],
             [
              0.7777777777777778,
              "#fb9f3a"
             ],
             [
              0.8888888888888888,
              "#fdca26"
             ],
             [
              1,
              "#f0f921"
             ]
            ],
            "type": "heatmap"
           }
          ],
          "heatmapgl": [
           {
            "colorbar": {
             "outlinewidth": 0,
             "ticks": ""
            },
            "colorscale": [
             [
              0,
              "#0d0887"
             ],
             [
              0.1111111111111111,
              "#46039f"
             ],
             [
              0.2222222222222222,
              "#7201a8"
             ],
             [
              0.3333333333333333,
              "#9c179e"
             ],
             [
              0.4444444444444444,
              "#bd3786"
             ],
             [
              0.5555555555555556,
              "#d8576b"
             ],
             [
              0.6666666666666666,
              "#ed7953"
             ],
             [
              0.7777777777777778,
              "#fb9f3a"
             ],
             [
              0.8888888888888888,
              "#fdca26"
             ],
             [
              1,
              "#f0f921"
             ]
            ],
            "type": "heatmapgl"
           }
          ],
          "histogram": [
           {
            "marker": {
             "colorbar": {
              "outlinewidth": 0,
              "ticks": ""
             }
            },
            "type": "histogram"
           }
          ],
          "histogram2d": [
           {
            "colorbar": {
             "outlinewidth": 0,
             "ticks": ""
            },
            "colorscale": [
             [
              0,
              "#0d0887"
             ],
             [
              0.1111111111111111,
              "#46039f"
             ],
             [
              0.2222222222222222,
              "#7201a8"
             ],
             [
              0.3333333333333333,
              "#9c179e"
             ],
             [
              0.4444444444444444,
              "#bd3786"
             ],
             [
              0.5555555555555556,
              "#d8576b"
             ],
             [
              0.6666666666666666,
              "#ed7953"
             ],
             [
              0.7777777777777778,
              "#fb9f3a"
             ],
             [
              0.8888888888888888,
              "#fdca26"
             ],
             [
              1,
              "#f0f921"
             ]
            ],
            "type": "histogram2d"
           }
          ],
          "histogram2dcontour": [
           {
            "colorbar": {
             "outlinewidth": 0,
             "ticks": ""
            },
            "colorscale": [
             [
              0,
              "#0d0887"
             ],
             [
              0.1111111111111111,
              "#46039f"
             ],
             [
              0.2222222222222222,
              "#7201a8"
             ],
             [
              0.3333333333333333,
              "#9c179e"
             ],
             [
              0.4444444444444444,
              "#bd3786"
             ],
             [
              0.5555555555555556,
              "#d8576b"
             ],
             [
              0.6666666666666666,
              "#ed7953"
             ],
             [
              0.7777777777777778,
              "#fb9f3a"
             ],
             [
              0.8888888888888888,
              "#fdca26"
             ],
             [
              1,
              "#f0f921"
             ]
            ],
            "type": "histogram2dcontour"
           }
          ],
          "mesh3d": [
           {
            "colorbar": {
             "outlinewidth": 0,
             "ticks": ""
            },
            "type": "mesh3d"
           }
          ],
          "parcoords": [
           {
            "line": {
             "colorbar": {
              "outlinewidth": 0,
              "ticks": ""
             }
            },
            "type": "parcoords"
           }
          ],
          "pie": [
           {
            "automargin": true,
            "type": "pie"
           }
          ],
          "scatter": [
           {
            "marker": {
             "colorbar": {
              "outlinewidth": 0,
              "ticks": ""
             }
            },
            "type": "scatter"
           }
          ],
          "scatter3d": [
           {
            "line": {
             "colorbar": {
              "outlinewidth": 0,
              "ticks": ""
             }
            },
            "marker": {
             "colorbar": {
              "outlinewidth": 0,
              "ticks": ""
             }
            },
            "type": "scatter3d"
           }
          ],
          "scattercarpet": [
           {
            "marker": {
             "colorbar": {
              "outlinewidth": 0,
              "ticks": ""
             }
            },
            "type": "scattercarpet"
           }
          ],
          "scattergeo": [
           {
            "marker": {
             "colorbar": {
              "outlinewidth": 0,
              "ticks": ""
             }
            },
            "type": "scattergeo"
           }
          ],
          "scattergl": [
           {
            "marker": {
             "colorbar": {
              "outlinewidth": 0,
              "ticks": ""
             }
            },
            "type": "scattergl"
           }
          ],
          "scattermapbox": [
           {
            "marker": {
             "colorbar": {
              "outlinewidth": 0,
              "ticks": ""
             }
            },
            "type": "scattermapbox"
           }
          ],
          "scatterpolar": [
           {
            "marker": {
             "colorbar": {
              "outlinewidth": 0,
              "ticks": ""
             }
            },
            "type": "scatterpolar"
           }
          ],
          "scatterpolargl": [
           {
            "marker": {
             "colorbar": {
              "outlinewidth": 0,
              "ticks": ""
             }
            },
            "type": "scatterpolargl"
           }
          ],
          "scatterternary": [
           {
            "marker": {
             "colorbar": {
              "outlinewidth": 0,
              "ticks": ""
             }
            },
            "type": "scatterternary"
           }
          ],
          "surface": [
           {
            "colorbar": {
             "outlinewidth": 0,
             "ticks": ""
            },
            "colorscale": [
             [
              0,
              "#0d0887"
             ],
             [
              0.1111111111111111,
              "#46039f"
             ],
             [
              0.2222222222222222,
              "#7201a8"
             ],
             [
              0.3333333333333333,
              "#9c179e"
             ],
             [
              0.4444444444444444,
              "#bd3786"
             ],
             [
              0.5555555555555556,
              "#d8576b"
             ],
             [
              0.6666666666666666,
              "#ed7953"
             ],
             [
              0.7777777777777778,
              "#fb9f3a"
             ],
             [
              0.8888888888888888,
              "#fdca26"
             ],
             [
              1,
              "#f0f921"
             ]
            ],
            "type": "surface"
           }
          ],
          "table": [
           {
            "cells": {
             "fill": {
              "color": "#EBF0F8"
             },
             "line": {
              "color": "white"
             }
            },
            "header": {
             "fill": {
              "color": "#C8D4E3"
             },
             "line": {
              "color": "white"
             }
            },
            "type": "table"
           }
          ]
         },
         "layout": {
          "annotationdefaults": {
           "arrowcolor": "#2a3f5f",
           "arrowhead": 0,
           "arrowwidth": 1
          },
          "autotypenumbers": "strict",
          "coloraxis": {
           "colorbar": {
            "outlinewidth": 0,
            "ticks": ""
           }
          },
          "colorscale": {
           "diverging": [
            [
             0,
             "#8e0152"
            ],
            [
             0.1,
             "#c51b7d"
            ],
            [
             0.2,
             "#de77ae"
            ],
            [
             0.3,
             "#f1b6da"
            ],
            [
             0.4,
             "#fde0ef"
            ],
            [
             0.5,
             "#f7f7f7"
            ],
            [
             0.6,
             "#e6f5d0"
            ],
            [
             0.7,
             "#b8e186"
            ],
            [
             0.8,
             "#7fbc41"
            ],
            [
             0.9,
             "#4d9221"
            ],
            [
             1,
             "#276419"
            ]
           ],
           "sequential": [
            [
             0,
             "#0d0887"
            ],
            [
             0.1111111111111111,
             "#46039f"
            ],
            [
             0.2222222222222222,
             "#7201a8"
            ],
            [
             0.3333333333333333,
             "#9c179e"
            ],
            [
             0.4444444444444444,
             "#bd3786"
            ],
            [
             0.5555555555555556,
             "#d8576b"
            ],
            [
             0.6666666666666666,
             "#ed7953"
            ],
            [
             0.7777777777777778,
             "#fb9f3a"
            ],
            [
             0.8888888888888888,
             "#fdca26"
            ],
            [
             1,
             "#f0f921"
            ]
           ],
           "sequentialminus": [
            [
             0,
             "#0d0887"
            ],
            [
             0.1111111111111111,
             "#46039f"
            ],
            [
             0.2222222222222222,
             "#7201a8"
            ],
            [
             0.3333333333333333,
             "#9c179e"
            ],
            [
             0.4444444444444444,
             "#bd3786"
            ],
            [
             0.5555555555555556,
             "#d8576b"
            ],
            [
             0.6666666666666666,
             "#ed7953"
            ],
            [
             0.7777777777777778,
             "#fb9f3a"
            ],
            [
             0.8888888888888888,
             "#fdca26"
            ],
            [
             1,
             "#f0f921"
            ]
           ]
          },
          "colorway": [
           "#636efa",
           "#EF553B",
           "#00cc96",
           "#ab63fa",
           "#FFA15A",
           "#19d3f3",
           "#FF6692",
           "#B6E880",
           "#FF97FF",
           "#FECB52"
          ],
          "font": {
           "color": "#2a3f5f"
          },
          "geo": {
           "bgcolor": "white",
           "lakecolor": "white",
           "landcolor": "#E5ECF6",
           "showlakes": true,
           "showland": true,
           "subunitcolor": "white"
          },
          "hoverlabel": {
           "align": "left"
          },
          "hovermode": "closest",
          "mapbox": {
           "style": "light"
          },
          "paper_bgcolor": "white",
          "plot_bgcolor": "#E5ECF6",
          "polar": {
           "angularaxis": {
            "gridcolor": "white",
            "linecolor": "white",
            "ticks": ""
           },
           "bgcolor": "#E5ECF6",
           "radialaxis": {
            "gridcolor": "white",
            "linecolor": "white",
            "ticks": ""
           }
          },
          "scene": {
           "xaxis": {
            "backgroundcolor": "#E5ECF6",
            "gridcolor": "white",
            "gridwidth": 2,
            "linecolor": "white",
            "showbackground": true,
            "ticks": "",
            "zerolinecolor": "white"
           },
           "yaxis": {
            "backgroundcolor": "#E5ECF6",
            "gridcolor": "white",
            "gridwidth": 2,
            "linecolor": "white",
            "showbackground": true,
            "ticks": "",
            "zerolinecolor": "white"
           },
           "zaxis": {
            "backgroundcolor": "#E5ECF6",
            "gridcolor": "white",
            "gridwidth": 2,
            "linecolor": "white",
            "showbackground": true,
            "ticks": "",
            "zerolinecolor": "white"
           }
          },
          "shapedefaults": {
           "line": {
            "color": "#2a3f5f"
           }
          },
          "ternary": {
           "aaxis": {
            "gridcolor": "white",
            "linecolor": "white",
            "ticks": ""
           },
           "baxis": {
            "gridcolor": "white",
            "linecolor": "white",
            "ticks": ""
           },
           "bgcolor": "#E5ECF6",
           "caxis": {
            "gridcolor": "white",
            "linecolor": "white",
            "ticks": ""
           }
          },
          "title": {
           "x": 0.05
          },
          "xaxis": {
           "automargin": true,
           "gridcolor": "white",
           "linecolor": "white",
           "ticks": "",
           "title": {
            "standoff": 15
           },
           "zerolinecolor": "white",
           "zerolinewidth": 2
          },
          "yaxis": {
           "automargin": true,
           "gridcolor": "white",
           "linecolor": "white",
           "ticks": "",
           "title": {
            "standoff": 15
           },
           "zerolinecolor": "white",
           "zerolinewidth": 2
          }
         }
        }
       }
      },
      "text/html": [
       "<div>                            <div id=\"12bc1238-49b2-4911-b384-5ffa38fdb8c2\" class=\"plotly-graph-div\" style=\"height:525px; width:100%;\"></div>            <script type=\"text/javascript\">                require([\"plotly\"], function(Plotly) {                    window.PLOTLYENV=window.PLOTLYENV || {};                                    if (document.getElementById(\"12bc1238-49b2-4911-b384-5ffa38fdb8c2\")) {                    Plotly.newPlot(                        \"12bc1238-49b2-4911-b384-5ffa38fdb8c2\",                        [{\"colorscale\": [[0.0, \"#636efa\"], [1.0, \"#636efa\"]], \"geo\": \"geo\", \"hovertemplate\": \"<b>%{hovertext}</b><br><br>primary_fuel=Hydro<br>country=%{location}<extra></extra>\", \"hovertext\": [\"AFG\", \"AGO\", \"ALB\", \"AUT\", \"BDI\", \"BIH\", \"BRA\", \"BTN\", \"CAF\", \"CAN\", \"CHE\", \"CHL\", \"CMR\", \"COD\", \"COL\", \"CRI\", \"ECU\", \"ETH\", \"FJI\", \"GAB\", \"GEO\", \"GHA\", \"GIN\", \"GNQ\", \"GTM\", \"GUF\", \"HRV\", \"ISL\", \"KEN\", \"KGZ\", \"KHM\", \"LAO\", \"LBR\", \"LKA\", \"LSO\", \"LUX\", \"LVA\", \"MLI\", \"MMR\", \"MNE\", \"MOZ\", \"MWI\", \"NAM\", \"NOR\", \"NPL\", \"NZL\", \"PAK\", \"PAN\", \"PNG\", \"PRY\", \"RWA\", \"SDN\", \"SVK\", \"SWE\", \"SWZ\", \"TJK\", \"TZA\", \"UGA\", \"URY\", \"VEN\", \"VNM\", \"ZMB\"], \"locations\": [\"AFG\", \"AGO\", \"ALB\", \"AUT\", \"BDI\", \"BIH\", \"BRA\", \"BTN\", \"CAF\", \"CAN\", \"CHE\", \"CHL\", \"CMR\", \"COD\", \"COL\", \"CRI\", \"ECU\", \"ETH\", \"FJI\", \"GAB\", \"GEO\", \"GHA\", \"GIN\", \"GNQ\", \"GTM\", \"GUF\", \"HRV\", \"ISL\", \"KEN\", \"KGZ\", \"KHM\", \"LAO\", \"LBR\", \"LKA\", \"LSO\", \"LUX\", \"LVA\", \"MLI\", \"MMR\", \"MNE\", \"MOZ\", \"MWI\", \"NAM\", \"NOR\", \"NPL\", \"NZL\", \"PAK\", \"PAN\", \"PNG\", \"PRY\", \"RWA\", \"SDN\", \"SVK\", \"SWE\", \"SWZ\", \"TJK\", \"TZA\", \"UGA\", \"URY\", \"VEN\", \"VNM\", \"ZMB\"], \"name\": \"Hydro\", \"showlegend\": true, \"showscale\": false, \"type\": \"choropleth\", \"z\": [1, 1, 1, 1, 1, 1, 1, 1, 1, 1, 1, 1, 1, 1, 1, 1, 1, 1, 1, 1, 1, 1, 1, 1, 1, 1, 1, 1, 1, 1, 1, 1, 1, 1, 1, 1, 1, 1, 1, 1, 1, 1, 1, 1, 1, 1, 1, 1, 1, 1, 1, 1, 1, 1, 1, 1, 1, 1, 1, 1, 1, 1]}, {\"colorscale\": [[0.0, \"#EF553B\"], [1.0, \"#EF553B\"]], \"geo\": \"geo\", \"hovertemplate\": \"<b>%{hovertext}</b><br><br>primary_fuel=Gas<br>country=%{location}<extra></extra>\", \"hovertext\": [\"ARE\", \"ARG\", \"ARM\", \"BEN\", \"BGD\", \"BHR\", \"BLR\", \"BOL\", \"BRN\", \"CIV\", \"COG\", \"CYP\", \"DZA\", \"EGY\", \"ESP\", \"GBR\", \"GRC\", \"HUN\", \"IRL\", \"IRN\", \"IRQ\", \"ISR\", \"ITA\", \"JOR\", \"JPN\", \"KWT\", \"LBY\", \"LTU\", \"MEX\", \"MYS\", \"NGA\", \"NLD\", \"OMN\", \"PER\", \"QAT\", \"RUS\", \"SGP\", \"THA\", \"TTO\", \"TUN\", \"USA\", \"UZB\"], \"locations\": [\"ARE\", \"ARG\", \"ARM\", \"BEN\", \"BGD\", \"BHR\", \"BLR\", \"BOL\", \"BRN\", \"CIV\", \"COG\", \"CYP\", \"DZA\", \"EGY\", \"ESP\", \"GBR\", \"GRC\", \"HUN\", \"IRL\", \"IRN\", \"IRQ\", \"ISR\", \"ITA\", \"JOR\", \"JPN\", \"KWT\", \"LBY\", \"LTU\", \"MEX\", \"MYS\", \"NGA\", \"NLD\", \"OMN\", \"PER\", \"QAT\", \"RUS\", \"SGP\", \"THA\", \"TTO\", \"TUN\", \"USA\", \"UZB\"], \"name\": \"Gas\", \"showlegend\": true, \"showscale\": false, \"type\": \"choropleth\", \"z\": [1, 1, 1, 1, 1, 1, 1, 1, 1, 1, 1, 1, 1, 1, 1, 1, 1, 1, 1, 1, 1, 1, 1, 1, 1, 1, 1, 1, 1, 1, 1, 1, 1, 1, 1, 1, 1, 1, 1, 1, 1, 1]}, {\"colorscale\": [[0.0, \"#00cc96\"], [1.0, \"#00cc96\"]], \"geo\": \"geo\", \"hovertemplate\": \"<b>%{hovertext}</b><br><br>primary_fuel=Oil<br>country=%{location}<extra></extra>\", \"hovertext\": [\"ATA\", \"AZE\", \"BFA\", \"CPV\", \"CUB\", \"DJI\", \"DOM\", \"ERI\", \"ESH\", \"EST\", \"GMB\", \"GNB\", \"GUY\", \"HND\", \"JAM\", \"LBN\", \"MRT\", \"MUS\", \"NER\", \"NIC\", \"SAU\", \"SEN\", \"SLE\", \"SLV\", \"SYR\", \"TGO\", \"TKM\", \"YEM\"], \"locations\": [\"ATA\", \"AZE\", \"BFA\", \"CPV\", \"CUB\", \"DJI\", \"DOM\", \"ERI\", \"ESH\", \"EST\", \"GMB\", \"GNB\", \"GUY\", \"HND\", \"JAM\", \"LBN\", \"MRT\", \"MUS\", \"NER\", \"NIC\", \"SAU\", \"SEN\", \"SLE\", \"SLV\", \"SYR\", \"TGO\", \"TKM\", \"YEM\"], \"name\": \"Oil\", \"showlegend\": true, \"showscale\": false, \"type\": \"choropleth\", \"z\": [1, 1, 1, 1, 1, 1, 1, 1, 1, 1, 1, 1, 1, 1, 1, 1, 1, 1, 1, 1, 1, 1, 1, 1, 1, 1, 1, 1]}, {\"colorscale\": [[0.0, \"#ab63fa\"], [1.0, \"#ab63fa\"]], \"geo\": \"geo\", \"hovertemplate\": \"<b>%{hovertext}</b><br><br>primary_fuel=Coal<br>country=%{location}<extra></extra>\", \"hovertext\": [\"AUS\", \"BGR\", \"BWA\", \"CHN\", \"CZE\", \"DEU\", \"DNK\", \"IDN\", \"IND\", \"KAZ\", \"KOR\", \"KOS\", \"MAR\", \"MDA\", \"MDG\", \"MKD\", \"MNG\", \"PHL\", \"POL\", \"PRK\", \"ROU\", \"SRB\", \"SVN\", \"TUR\", \"TWN\", \"UKR\", \"ZAF\", \"ZWE\"], \"locations\": [\"AUS\", \"BGR\", \"BWA\", \"CHN\", \"CZE\", \"DEU\", \"DNK\", \"IDN\", \"IND\", \"KAZ\", \"KOR\", \"KOS\", \"MAR\", \"MDA\", \"MDG\", \"MKD\", \"MNG\", \"PHL\", \"POL\", \"PRK\", \"ROU\", \"SRB\", \"SVN\", \"TUR\", \"TWN\", \"UKR\", \"ZAF\", \"ZWE\"], \"name\": \"Coal\", \"showlegend\": true, \"showscale\": false, \"type\": \"choropleth\", \"z\": [1, 1, 1, 1, 1, 1, 1, 1, 1, 1, 1, 1, 1, 1, 1, 1, 1, 1, 1, 1, 1, 1, 1, 1, 1, 1, 1, 1]}, {\"colorscale\": [[0.0, \"#FFA15A\"], [1.0, \"#FFA15A\"]], \"geo\": \"geo\", \"hovertemplate\": \"<b>%{hovertext}</b><br><br>primary_fuel=Nuclear<br>country=%{location}<extra></extra>\", \"hovertext\": [\"BEL\", \"FIN\", \"FRA\"], \"locations\": [\"BEL\", \"FIN\", \"FRA\"], \"name\": \"Nuclear\", \"showlegend\": true, \"showscale\": false, \"type\": \"choropleth\", \"z\": [1, 1, 1]}, {\"colorscale\": [[0.0, \"#19d3f3\"], [1.0, \"#19d3f3\"]], \"geo\": \"geo\", \"hovertemplate\": \"<b>%{hovertext}</b><br><br>primary_fuel=Wind<br>country=%{location}<extra></extra>\", \"hovertext\": [\"PRT\"], \"locations\": [\"PRT\"], \"name\": \"Wind\", \"showlegend\": true, \"showscale\": false, \"type\": \"choropleth\", \"z\": [1]}],                        {\"geo\": {\"center\": {}, \"domain\": {\"x\": [0.0, 1.0], \"y\": [0.0, 1.0]}}, \"legend\": {\"title\": {\"text\": \"primary_fuel\"}, \"tracegroupgap\": 0}, \"margin\": {\"t\": 60}, \"template\": {\"data\": {\"bar\": [{\"error_x\": {\"color\": \"#2a3f5f\"}, \"error_y\": {\"color\": \"#2a3f5f\"}, \"marker\": {\"line\": {\"color\": \"#E5ECF6\", \"width\": 0.5}}, \"type\": \"bar\"}], \"barpolar\": [{\"marker\": {\"line\": {\"color\": \"#E5ECF6\", \"width\": 0.5}}, \"type\": \"barpolar\"}], \"carpet\": [{\"aaxis\": {\"endlinecolor\": \"#2a3f5f\", \"gridcolor\": \"white\", \"linecolor\": \"white\", \"minorgridcolor\": \"white\", \"startlinecolor\": \"#2a3f5f\"}, \"baxis\": {\"endlinecolor\": \"#2a3f5f\", \"gridcolor\": \"white\", \"linecolor\": \"white\", \"minorgridcolor\": \"white\", \"startlinecolor\": \"#2a3f5f\"}, \"type\": \"carpet\"}], \"choropleth\": [{\"colorbar\": {\"outlinewidth\": 0, \"ticks\": \"\"}, \"type\": \"choropleth\"}], \"contour\": [{\"colorbar\": {\"outlinewidth\": 0, \"ticks\": \"\"}, \"colorscale\": [[0.0, \"#0d0887\"], [0.1111111111111111, \"#46039f\"], [0.2222222222222222, \"#7201a8\"], [0.3333333333333333, \"#9c179e\"], [0.4444444444444444, \"#bd3786\"], [0.5555555555555556, \"#d8576b\"], [0.6666666666666666, \"#ed7953\"], [0.7777777777777778, \"#fb9f3a\"], [0.8888888888888888, \"#fdca26\"], [1.0, \"#f0f921\"]], \"type\": \"contour\"}], \"contourcarpet\": [{\"colorbar\": {\"outlinewidth\": 0, \"ticks\": \"\"}, \"type\": \"contourcarpet\"}], \"heatmap\": [{\"colorbar\": {\"outlinewidth\": 0, \"ticks\": \"\"}, \"colorscale\": [[0.0, \"#0d0887\"], [0.1111111111111111, \"#46039f\"], [0.2222222222222222, \"#7201a8\"], [0.3333333333333333, \"#9c179e\"], [0.4444444444444444, \"#bd3786\"], [0.5555555555555556, \"#d8576b\"], [0.6666666666666666, \"#ed7953\"], [0.7777777777777778, \"#fb9f3a\"], [0.8888888888888888, \"#fdca26\"], [1.0, \"#f0f921\"]], \"type\": \"heatmap\"}], \"heatmapgl\": [{\"colorbar\": {\"outlinewidth\": 0, \"ticks\": \"\"}, \"colorscale\": [[0.0, \"#0d0887\"], [0.1111111111111111, \"#46039f\"], [0.2222222222222222, \"#7201a8\"], [0.3333333333333333, \"#9c179e\"], [0.4444444444444444, \"#bd3786\"], [0.5555555555555556, \"#d8576b\"], [0.6666666666666666, \"#ed7953\"], [0.7777777777777778, \"#fb9f3a\"], [0.8888888888888888, \"#fdca26\"], [1.0, \"#f0f921\"]], \"type\": \"heatmapgl\"}], \"histogram\": [{\"marker\": {\"colorbar\": {\"outlinewidth\": 0, \"ticks\": \"\"}}, \"type\": \"histogram\"}], \"histogram2d\": [{\"colorbar\": {\"outlinewidth\": 0, \"ticks\": \"\"}, \"colorscale\": [[0.0, \"#0d0887\"], [0.1111111111111111, \"#46039f\"], [0.2222222222222222, \"#7201a8\"], [0.3333333333333333, \"#9c179e\"], [0.4444444444444444, \"#bd3786\"], [0.5555555555555556, \"#d8576b\"], [0.6666666666666666, \"#ed7953\"], [0.7777777777777778, \"#fb9f3a\"], [0.8888888888888888, \"#fdca26\"], [1.0, \"#f0f921\"]], \"type\": \"histogram2d\"}], \"histogram2dcontour\": [{\"colorbar\": {\"outlinewidth\": 0, \"ticks\": \"\"}, \"colorscale\": [[0.0, \"#0d0887\"], [0.1111111111111111, \"#46039f\"], [0.2222222222222222, \"#7201a8\"], [0.3333333333333333, \"#9c179e\"], [0.4444444444444444, \"#bd3786\"], [0.5555555555555556, \"#d8576b\"], [0.6666666666666666, \"#ed7953\"], [0.7777777777777778, \"#fb9f3a\"], [0.8888888888888888, \"#fdca26\"], [1.0, \"#f0f921\"]], \"type\": \"histogram2dcontour\"}], \"mesh3d\": [{\"colorbar\": {\"outlinewidth\": 0, \"ticks\": \"\"}, \"type\": \"mesh3d\"}], \"parcoords\": [{\"line\": {\"colorbar\": {\"outlinewidth\": 0, \"ticks\": \"\"}}, \"type\": \"parcoords\"}], \"pie\": [{\"automargin\": true, \"type\": \"pie\"}], \"scatter\": [{\"marker\": {\"colorbar\": {\"outlinewidth\": 0, \"ticks\": \"\"}}, \"type\": \"scatter\"}], \"scatter3d\": [{\"line\": {\"colorbar\": {\"outlinewidth\": 0, \"ticks\": \"\"}}, \"marker\": {\"colorbar\": {\"outlinewidth\": 0, \"ticks\": \"\"}}, \"type\": \"scatter3d\"}], \"scattercarpet\": [{\"marker\": {\"colorbar\": {\"outlinewidth\": 0, \"ticks\": \"\"}}, \"type\": \"scattercarpet\"}], \"scattergeo\": [{\"marker\": {\"colorbar\": {\"outlinewidth\": 0, \"ticks\": \"\"}}, \"type\": \"scattergeo\"}], \"scattergl\": [{\"marker\": {\"colorbar\": {\"outlinewidth\": 0, \"ticks\": \"\"}}, \"type\": \"scattergl\"}], \"scattermapbox\": [{\"marker\": {\"colorbar\": {\"outlinewidth\": 0, \"ticks\": \"\"}}, \"type\": \"scattermapbox\"}], \"scatterpolar\": [{\"marker\": {\"colorbar\": {\"outlinewidth\": 0, \"ticks\": \"\"}}, \"type\": \"scatterpolar\"}], \"scatterpolargl\": [{\"marker\": {\"colorbar\": {\"outlinewidth\": 0, \"ticks\": \"\"}}, \"type\": \"scatterpolargl\"}], \"scatterternary\": [{\"marker\": {\"colorbar\": {\"outlinewidth\": 0, \"ticks\": \"\"}}, \"type\": \"scatterternary\"}], \"surface\": [{\"colorbar\": {\"outlinewidth\": 0, \"ticks\": \"\"}, \"colorscale\": [[0.0, \"#0d0887\"], [0.1111111111111111, \"#46039f\"], [0.2222222222222222, \"#7201a8\"], [0.3333333333333333, \"#9c179e\"], [0.4444444444444444, \"#bd3786\"], [0.5555555555555556, \"#d8576b\"], [0.6666666666666666, \"#ed7953\"], [0.7777777777777778, \"#fb9f3a\"], [0.8888888888888888, \"#fdca26\"], [1.0, \"#f0f921\"]], \"type\": \"surface\"}], \"table\": [{\"cells\": {\"fill\": {\"color\": \"#EBF0F8\"}, \"line\": {\"color\": \"white\"}}, \"header\": {\"fill\": {\"color\": \"#C8D4E3\"}, \"line\": {\"color\": \"white\"}}, \"type\": \"table\"}]}, \"layout\": {\"annotationdefaults\": {\"arrowcolor\": \"#2a3f5f\", \"arrowhead\": 0, \"arrowwidth\": 1}, \"autotypenumbers\": \"strict\", \"coloraxis\": {\"colorbar\": {\"outlinewidth\": 0, \"ticks\": \"\"}}, \"colorscale\": {\"diverging\": [[0, \"#8e0152\"], [0.1, \"#c51b7d\"], [0.2, \"#de77ae\"], [0.3, \"#f1b6da\"], [0.4, \"#fde0ef\"], [0.5, \"#f7f7f7\"], [0.6, \"#e6f5d0\"], [0.7, \"#b8e186\"], [0.8, \"#7fbc41\"], [0.9, \"#4d9221\"], [1, \"#276419\"]], \"sequential\": [[0.0, \"#0d0887\"], [0.1111111111111111, \"#46039f\"], [0.2222222222222222, \"#7201a8\"], [0.3333333333333333, \"#9c179e\"], [0.4444444444444444, \"#bd3786\"], [0.5555555555555556, \"#d8576b\"], [0.6666666666666666, \"#ed7953\"], [0.7777777777777778, \"#fb9f3a\"], [0.8888888888888888, \"#fdca26\"], [1.0, \"#f0f921\"]], \"sequentialminus\": [[0.0, \"#0d0887\"], [0.1111111111111111, \"#46039f\"], [0.2222222222222222, \"#7201a8\"], [0.3333333333333333, \"#9c179e\"], [0.4444444444444444, \"#bd3786\"], [0.5555555555555556, \"#d8576b\"], [0.6666666666666666, \"#ed7953\"], [0.7777777777777778, \"#fb9f3a\"], [0.8888888888888888, \"#fdca26\"], [1.0, \"#f0f921\"]]}, \"colorway\": [\"#636efa\", \"#EF553B\", \"#00cc96\", \"#ab63fa\", \"#FFA15A\", \"#19d3f3\", \"#FF6692\", \"#B6E880\", \"#FF97FF\", \"#FECB52\"], \"font\": {\"color\": \"#2a3f5f\"}, \"geo\": {\"bgcolor\": \"white\", \"lakecolor\": \"white\", \"landcolor\": \"#E5ECF6\", \"showlakes\": true, \"showland\": true, \"subunitcolor\": \"white\"}, \"hoverlabel\": {\"align\": \"left\"}, \"hovermode\": \"closest\", \"mapbox\": {\"style\": \"light\"}, \"paper_bgcolor\": \"white\", \"plot_bgcolor\": \"#E5ECF6\", \"polar\": {\"angularaxis\": {\"gridcolor\": \"white\", \"linecolor\": \"white\", \"ticks\": \"\"}, \"bgcolor\": \"#E5ECF6\", \"radialaxis\": {\"gridcolor\": \"white\", \"linecolor\": \"white\", \"ticks\": \"\"}}, \"scene\": {\"xaxis\": {\"backgroundcolor\": \"#E5ECF6\", \"gridcolor\": \"white\", \"gridwidth\": 2, \"linecolor\": \"white\", \"showbackground\": true, \"ticks\": \"\", \"zerolinecolor\": \"white\"}, \"yaxis\": {\"backgroundcolor\": \"#E5ECF6\", \"gridcolor\": \"white\", \"gridwidth\": 2, \"linecolor\": \"white\", \"showbackground\": true, \"ticks\": \"\", \"zerolinecolor\": \"white\"}, \"zaxis\": {\"backgroundcolor\": \"#E5ECF6\", \"gridcolor\": \"white\", \"gridwidth\": 2, \"linecolor\": \"white\", \"showbackground\": true, \"ticks\": \"\", \"zerolinecolor\": \"white\"}}, \"shapedefaults\": {\"line\": {\"color\": \"#2a3f5f\"}}, \"ternary\": {\"aaxis\": {\"gridcolor\": \"white\", \"linecolor\": \"white\", \"ticks\": \"\"}, \"baxis\": {\"gridcolor\": \"white\", \"linecolor\": \"white\", \"ticks\": \"\"}, \"bgcolor\": \"#E5ECF6\", \"caxis\": {\"gridcolor\": \"white\", \"linecolor\": \"white\", \"ticks\": \"\"}}, \"title\": {\"x\": 0.05}, \"xaxis\": {\"automargin\": true, \"gridcolor\": \"white\", \"linecolor\": \"white\", \"ticks\": \"\", \"title\": {\"standoff\": 15}, \"zerolinecolor\": \"white\", \"zerolinewidth\": 2}, \"yaxis\": {\"automargin\": true, \"gridcolor\": \"white\", \"linecolor\": \"white\", \"ticks\": \"\", \"title\": {\"standoff\": 15}, \"zerolinecolor\": \"white\", \"zerolinewidth\": 2}}}},                        {\"responsive\": true}                    ).then(function(){\n",
       "                            \n",
       "var gd = document.getElementById('12bc1238-49b2-4911-b384-5ffa38fdb8c2');\n",
       "var x = new MutationObserver(function (mutations, observer) {{\n",
       "        var display = window.getComputedStyle(gd).display;\n",
       "        if (!display || display === 'none') {{\n",
       "            console.log([gd, 'removed!']);\n",
       "            Plotly.purge(gd);\n",
       "            observer.disconnect();\n",
       "        }}\n",
       "}});\n",
       "\n",
       "// Listen for the removal of the full notebook cells\n",
       "var notebookContainer = gd.closest('#notebook-container');\n",
       "if (notebookContainer) {{\n",
       "    x.observe(notebookContainer, {childList: true});\n",
       "}}\n",
       "\n",
       "// Listen for the clearing of the current output cell\n",
       "var outputEl = gd.closest('.output');\n",
       "if (outputEl) {{\n",
       "    x.observe(outputEl, {childList: true});\n",
       "}}\n",
       "\n",
       "                        })                };                });            </script>        </div>"
      ]
     },
     "metadata": {},
     "output_type": "display_data"
    }
   ],
   "source": [
    "# plots the countries based on the most used primary fuel types\n",
    "fig = px.choropleth(df, locations=df[\"country\"],\n",
    "                    hover_name=df[\"country\"],\n",
    "                    color = df[\"primary_fuel\"],\n",
    "                    color_continuous_scale=px.colors.sequential.Plasma)\n",
    "fig.show()"
   ]
  }
 ],
 "metadata": {
  "kernelspec": {
   "display_name": "Python 3",
   "language": "python",
   "name": "python3"
  },
  "language_info": {
   "codemirror_mode": {
    "name": "ipython",
    "version": 3
   },
   "file_extension": ".py",
   "mimetype": "text/x-python",
   "name": "python",
   "nbconvert_exporter": "python",
   "pygments_lexer": "ipython3",
   "version": "3.9.2"
  }
 },
 "nbformat": 4,
 "nbformat_minor": 4
}
