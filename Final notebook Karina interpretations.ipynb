{
 "cells": [
  {
   "cell_type": "code",
   "execution_count": 1,
   "metadata": {},
   "outputs": [],
   "source": [
    "#!pip install reverse_geocoder\n",
    "#!pip install plotly_express\n",
    "\n",
    "import pandas as pd\n",
    "import numpy as np\n",
    "import matplotlib.pyplot as plt\n",
    "import reverse_geocoder as rg\n",
    "import statsmodels.formula.api as sm\n",
    "#import plotly.graph_objects as go\n",
    "#import plotly_express as px\n",
    "\n",
    "\n",
    "# disable SettingWithCopyWarning\n",
    "pd.options.mode.chained_assignment = None  # default='warn'"
   ]
  },
  {
   "cell_type": "code",
   "execution_count": 2,
   "metadata": {},
   "outputs": [],
   "source": [
    "# Output\n",
    "#  df_ts_complete: df with values where time series is complete\n",
    "#  df_estimate: df where all time series values are NaN but there is an estimate\n",
    "#  df_ts_incomplete: df with values where at least one of time series values is NaN\n",
    "# \n",
    "# Reads global powerplant data data from CSV, drops irrelevant columns, splits df (see output), \n",
    "# and re-indexes df with gppdf_idnr as index\n",
    "def read_clean_and_split():  \n",
    "    df = pd.read_csv(\"global_power_plant_database.csv\")\n",
    "    df_all = df.drop(['country_long', 'url', 'geolocation_source', 'wepp_id'], axis=1)\n",
    "    \n",
    "    df_ts = (df_all.dropna(how='all', subset=['generation_gwh_2013', 'generation_gwh_2014', 'generation_gwh_2015', 'generation_gwh_2016', 'generation_gwh_2017'])\n",
    "                      .set_index('gppd_idnr'))\n",
    "    df_ts_complete = df_ts.dropna(how='any', subset=['generation_gwh_2013', 'generation_gwh_2014', 'generation_gwh_2015', 'generation_gwh_2016', 'generation_gwh_2017'])\n",
    "    df_estimate = (df_all.dropna(how='any', subset=['estimated_generation_gwh'])\n",
    "                   .set_index('gppd_idnr'))\n",
    "    df_ts_incomplete = df_ts[df_ts[['generation_gwh_2013', 'generation_gwh_2014', 'generation_gwh_2015', 'generation_gwh_2016', 'generation_gwh_2017']].isnull().any(axis=1)]\n",
    "    return df_all, df_ts_complete, df_ts_incomplete, df_estimate     "
   ]
  },
  {
   "cell_type": "code",
   "execution_count": 3,
   "metadata": {},
   "outputs": [
    {
     "data": {
      "text/html": [
       "<div>\n",
       "<style scoped>\n",
       "    .dataframe tbody tr th:only-of-type {\n",
       "        vertical-align: middle;\n",
       "    }\n",
       "\n",
       "    .dataframe tbody tr th {\n",
       "        vertical-align: top;\n",
       "    }\n",
       "\n",
       "    .dataframe thead th {\n",
       "        text-align: right;\n",
       "    }\n",
       "</style>\n",
       "<table border=\"1\" class=\"dataframe\">\n",
       "  <thead>\n",
       "    <tr style=\"text-align: right;\">\n",
       "      <th></th>\n",
       "      <th>country</th>\n",
       "      <th>name</th>\n",
       "      <th>gppd_idnr</th>\n",
       "      <th>capacity_mw</th>\n",
       "      <th>latitude</th>\n",
       "      <th>longitude</th>\n",
       "      <th>primary_fuel</th>\n",
       "      <th>other_fuel1</th>\n",
       "      <th>other_fuel2</th>\n",
       "      <th>other_fuel3</th>\n",
       "      <th>commissioning_year</th>\n",
       "      <th>owner</th>\n",
       "      <th>source</th>\n",
       "      <th>year_of_capacity_data</th>\n",
       "      <th>generation_gwh_2013</th>\n",
       "      <th>generation_gwh_2014</th>\n",
       "      <th>generation_gwh_2015</th>\n",
       "      <th>generation_gwh_2016</th>\n",
       "      <th>generation_gwh_2017</th>\n",
       "      <th>estimated_generation_gwh</th>\n",
       "    </tr>\n",
       "  </thead>\n",
       "  <tbody>\n",
       "    <tr>\n",
       "      <th>0</th>\n",
       "      <td>AFG</td>\n",
       "      <td>Kajaki Hydroelectric Power Plant Afghanistan</td>\n",
       "      <td>GEODB0040538</td>\n",
       "      <td>33.00</td>\n",
       "      <td>32.3220</td>\n",
       "      <td>65.1190</td>\n",
       "      <td>Hydro</td>\n",
       "      <td>NaN</td>\n",
       "      <td>NaN</td>\n",
       "      <td>NaN</td>\n",
       "      <td>NaN</td>\n",
       "      <td>NaN</td>\n",
       "      <td>GEODB</td>\n",
       "      <td>2017.0</td>\n",
       "      <td>NaN</td>\n",
       "      <td>NaN</td>\n",
       "      <td>NaN</td>\n",
       "      <td>NaN</td>\n",
       "      <td>NaN</td>\n",
       "      <td>NaN</td>\n",
       "    </tr>\n",
       "    <tr>\n",
       "      <th>1</th>\n",
       "      <td>AFG</td>\n",
       "      <td>Mahipar Hydroelectric Power Plant Afghanistan</td>\n",
       "      <td>GEODB0040541</td>\n",
       "      <td>66.00</td>\n",
       "      <td>34.5560</td>\n",
       "      <td>69.4787</td>\n",
       "      <td>Hydro</td>\n",
       "      <td>NaN</td>\n",
       "      <td>NaN</td>\n",
       "      <td>NaN</td>\n",
       "      <td>NaN</td>\n",
       "      <td>NaN</td>\n",
       "      <td>GEODB</td>\n",
       "      <td>2017.0</td>\n",
       "      <td>NaN</td>\n",
       "      <td>NaN</td>\n",
       "      <td>NaN</td>\n",
       "      <td>NaN</td>\n",
       "      <td>NaN</td>\n",
       "      <td>NaN</td>\n",
       "    </tr>\n",
       "    <tr>\n",
       "      <th>2</th>\n",
       "      <td>AFG</td>\n",
       "      <td>Naghlu Dam Hydroelectric Power Plant Afghanistan</td>\n",
       "      <td>GEODB0040534</td>\n",
       "      <td>100.00</td>\n",
       "      <td>34.6410</td>\n",
       "      <td>69.7170</td>\n",
       "      <td>Hydro</td>\n",
       "      <td>NaN</td>\n",
       "      <td>NaN</td>\n",
       "      <td>NaN</td>\n",
       "      <td>NaN</td>\n",
       "      <td>NaN</td>\n",
       "      <td>GEODB</td>\n",
       "      <td>2017.0</td>\n",
       "      <td>NaN</td>\n",
       "      <td>NaN</td>\n",
       "      <td>NaN</td>\n",
       "      <td>NaN</td>\n",
       "      <td>NaN</td>\n",
       "      <td>NaN</td>\n",
       "    </tr>\n",
       "    <tr>\n",
       "      <th>3</th>\n",
       "      <td>AFG</td>\n",
       "      <td>Nangarhar (Darunta) Hydroelectric Power Plant ...</td>\n",
       "      <td>GEODB0040536</td>\n",
       "      <td>11.55</td>\n",
       "      <td>34.4847</td>\n",
       "      <td>70.3633</td>\n",
       "      <td>Hydro</td>\n",
       "      <td>NaN</td>\n",
       "      <td>NaN</td>\n",
       "      <td>NaN</td>\n",
       "      <td>NaN</td>\n",
       "      <td>NaN</td>\n",
       "      <td>GEODB</td>\n",
       "      <td>2017.0</td>\n",
       "      <td>NaN</td>\n",
       "      <td>NaN</td>\n",
       "      <td>NaN</td>\n",
       "      <td>NaN</td>\n",
       "      <td>NaN</td>\n",
       "      <td>NaN</td>\n",
       "    </tr>\n",
       "    <tr>\n",
       "      <th>4</th>\n",
       "      <td>AFG</td>\n",
       "      <td>Northwest Kabul Power Plant Afghanistan</td>\n",
       "      <td>GEODB0040540</td>\n",
       "      <td>42.00</td>\n",
       "      <td>34.5638</td>\n",
       "      <td>69.1134</td>\n",
       "      <td>Gas</td>\n",
       "      <td>NaN</td>\n",
       "      <td>NaN</td>\n",
       "      <td>NaN</td>\n",
       "      <td>NaN</td>\n",
       "      <td>NaN</td>\n",
       "      <td>GEODB</td>\n",
       "      <td>2017.0</td>\n",
       "      <td>NaN</td>\n",
       "      <td>NaN</td>\n",
       "      <td>NaN</td>\n",
       "      <td>NaN</td>\n",
       "      <td>NaN</td>\n",
       "      <td>NaN</td>\n",
       "    </tr>\n",
       "  </tbody>\n",
       "</table>\n",
       "</div>"
      ],
      "text/plain": [
       "  country                                               name     gppd_idnr  \\\n",
       "0     AFG       Kajaki Hydroelectric Power Plant Afghanistan  GEODB0040538   \n",
       "1     AFG      Mahipar Hydroelectric Power Plant Afghanistan  GEODB0040541   \n",
       "2     AFG   Naghlu Dam Hydroelectric Power Plant Afghanistan  GEODB0040534   \n",
       "3     AFG  Nangarhar (Darunta) Hydroelectric Power Plant ...  GEODB0040536   \n",
       "4     AFG            Northwest Kabul Power Plant Afghanistan  GEODB0040540   \n",
       "\n",
       "   capacity_mw  latitude  longitude primary_fuel other_fuel1 other_fuel2  \\\n",
       "0        33.00   32.3220    65.1190        Hydro         NaN         NaN   \n",
       "1        66.00   34.5560    69.4787        Hydro         NaN         NaN   \n",
       "2       100.00   34.6410    69.7170        Hydro         NaN         NaN   \n",
       "3        11.55   34.4847    70.3633        Hydro         NaN         NaN   \n",
       "4        42.00   34.5638    69.1134          Gas         NaN         NaN   \n",
       "\n",
       "  other_fuel3  commissioning_year owner source  year_of_capacity_data  \\\n",
       "0         NaN                 NaN   NaN  GEODB                 2017.0   \n",
       "1         NaN                 NaN   NaN  GEODB                 2017.0   \n",
       "2         NaN                 NaN   NaN  GEODB                 2017.0   \n",
       "3         NaN                 NaN   NaN  GEODB                 2017.0   \n",
       "4         NaN                 NaN   NaN  GEODB                 2017.0   \n",
       "\n",
       "   generation_gwh_2013  generation_gwh_2014  generation_gwh_2015  \\\n",
       "0                  NaN                  NaN                  NaN   \n",
       "1                  NaN                  NaN                  NaN   \n",
       "2                  NaN                  NaN                  NaN   \n",
       "3                  NaN                  NaN                  NaN   \n",
       "4                  NaN                  NaN                  NaN   \n",
       "\n",
       "   generation_gwh_2016  generation_gwh_2017  estimated_generation_gwh  \n",
       "0                  NaN                  NaN                       NaN  \n",
       "1                  NaN                  NaN                       NaN  \n",
       "2                  NaN                  NaN                       NaN  \n",
       "3                  NaN                  NaN                       NaN  \n",
       "4                  NaN                  NaN                       NaN  "
      ]
     },
     "execution_count": 3,
     "metadata": {},
     "output_type": "execute_result"
    }
   ],
   "source": [
    "df_all, df_ts_complete, df_ts_incomplete, df_estimate = read_clean_and_split()\n",
    "df_all.head()"
   ]
  },
  {
   "cell_type": "markdown",
   "metadata": {},
   "source": [
    "# EDA\n",
    "## 1. Plot distribution of capacity for each fuel type"
   ]
  },
  {
   "cell_type": "code",
   "execution_count": 4,
   "metadata": {},
   "outputs": [
    {
     "data": {
      "text/html": [
       "<div>\n",
       "<style scoped>\n",
       "    .dataframe tbody tr th:only-of-type {\n",
       "        vertical-align: middle;\n",
       "    }\n",
       "\n",
       "    .dataframe tbody tr th {\n",
       "        vertical-align: top;\n",
       "    }\n",
       "\n",
       "    .dataframe thead tr th {\n",
       "        text-align: left;\n",
       "    }\n",
       "\n",
       "    .dataframe thead tr:last-of-type th {\n",
       "        text-align: right;\n",
       "    }\n",
       "</style>\n",
       "<table border=\"1\" class=\"dataframe\">\n",
       "  <thead>\n",
       "    <tr>\n",
       "      <th></th>\n",
       "      <th colspan=\"8\" halign=\"left\">capacity_mw</th>\n",
       "      <th colspan=\"2\" halign=\"left\">latitude</th>\n",
       "      <th>...</th>\n",
       "      <th colspan=\"2\" halign=\"left\">generation_gwh_2017</th>\n",
       "      <th colspan=\"8\" halign=\"left\">estimated_generation_gwh</th>\n",
       "    </tr>\n",
       "    <tr>\n",
       "      <th></th>\n",
       "      <th>count</th>\n",
       "      <th>mean</th>\n",
       "      <th>std</th>\n",
       "      <th>min</th>\n",
       "      <th>25%</th>\n",
       "      <th>50%</th>\n",
       "      <th>75%</th>\n",
       "      <th>max</th>\n",
       "      <th>count</th>\n",
       "      <th>mean</th>\n",
       "      <th>...</th>\n",
       "      <th>75%</th>\n",
       "      <th>max</th>\n",
       "      <th>count</th>\n",
       "      <th>mean</th>\n",
       "      <th>std</th>\n",
       "      <th>min</th>\n",
       "      <th>25%</th>\n",
       "      <th>50%</th>\n",
       "      <th>75%</th>\n",
       "      <th>max</th>\n",
       "    </tr>\n",
       "    <tr>\n",
       "      <th>primary_fuel</th>\n",
       "      <th></th>\n",
       "      <th></th>\n",
       "      <th></th>\n",
       "      <th></th>\n",
       "      <th></th>\n",
       "      <th></th>\n",
       "      <th></th>\n",
       "      <th></th>\n",
       "      <th></th>\n",
       "      <th></th>\n",
       "      <th></th>\n",
       "      <th></th>\n",
       "      <th></th>\n",
       "      <th></th>\n",
       "      <th></th>\n",
       "      <th></th>\n",
       "      <th></th>\n",
       "      <th></th>\n",
       "      <th></th>\n",
       "      <th></th>\n",
       "      <th></th>\n",
       "    </tr>\n",
       "  </thead>\n",
       "  <tbody>\n",
       "    <tr>\n",
       "      <th>Biomass</th>\n",
       "      <td>1396.0</td>\n",
       "      <td>24.667408</td>\n",
       "      <td>39.970655</td>\n",
       "      <td>1.0</td>\n",
       "      <td>3.0000</td>\n",
       "      <td>9.95</td>\n",
       "      <td>29.175</td>\n",
       "      <td>528.00</td>\n",
       "      <td>1396.0</td>\n",
       "      <td>19.364704</td>\n",
       "      <td>...</td>\n",
       "      <td>338.506503</td>\n",
       "      <td>831.165002</td>\n",
       "      <td>1241.0</td>\n",
       "      <td>204.980708</td>\n",
       "      <td>831.923881</td>\n",
       "      <td>0.000000</td>\n",
       "      <td>16.002365</td>\n",
       "      <td>43.006357</td>\n",
       "      <td>185.307828</td>\n",
       "      <td>18468.400120</td>\n",
       "    </tr>\n",
       "    <tr>\n",
       "      <th>Coal</th>\n",
       "      <td>2390.0</td>\n",
       "      <td>836.619247</td>\n",
       "      <td>883.792022</td>\n",
       "      <td>1.2</td>\n",
       "      <td>200.0000</td>\n",
       "      <td>600.00</td>\n",
       "      <td>1200.000</td>\n",
       "      <td>7000.00</td>\n",
       "      <td>2390.0</td>\n",
       "      <td>32.725796</td>\n",
       "      <td>...</td>\n",
       "      <td>6262.190992</td>\n",
       "      <td>35116.000000</td>\n",
       "      <td>1846.0</td>\n",
       "      <td>4048.023188</td>\n",
       "      <td>11396.837546</td>\n",
       "      <td>0.000000</td>\n",
       "      <td>820.454778</td>\n",
       "      <td>2583.533009</td>\n",
       "      <td>5167.066017</td>\n",
       "      <td>450562.692300</td>\n",
       "    </tr>\n",
       "    <tr>\n",
       "      <th>Cogeneration</th>\n",
       "      <td>41.0</td>\n",
       "      <td>97.624390</td>\n",
       "      <td>283.717419</td>\n",
       "      <td>1.6</td>\n",
       "      <td>7.5000</td>\n",
       "      <td>30.00</td>\n",
       "      <td>49.300</td>\n",
       "      <td>1404.00</td>\n",
       "      <td>41.0</td>\n",
       "      <td>38.124766</td>\n",
       "      <td>...</td>\n",
       "      <td>166.049000</td>\n",
       "      <td>564.213000</td>\n",
       "      <td>11.0</td>\n",
       "      <td>0.000000</td>\n",
       "      <td>0.000000</td>\n",
       "      <td>0.000000</td>\n",
       "      <td>0.000000</td>\n",
       "      <td>0.000000</td>\n",
       "      <td>0.000000</td>\n",
       "      <td>0.000000</td>\n",
       "    </tr>\n",
       "    <tr>\n",
       "      <th>Gas</th>\n",
       "      <td>3922.0</td>\n",
       "      <td>375.495683</td>\n",
       "      <td>562.794664</td>\n",
       "      <td>1.0</td>\n",
       "      <td>31.1250</td>\n",
       "      <td>152.25</td>\n",
       "      <td>530.000</td>\n",
       "      <td>8865.00</td>\n",
       "      <td>3922.0</td>\n",
       "      <td>31.662952</td>\n",
       "      <td>...</td>\n",
       "      <td>530.573000</td>\n",
       "      <td>20515.369720</td>\n",
       "      <td>2115.0</td>\n",
       "      <td>1839.948213</td>\n",
       "      <td>3161.524135</td>\n",
       "      <td>0.000000</td>\n",
       "      <td>141.965096</td>\n",
       "      <td>720.463007</td>\n",
       "      <td>2296.383701</td>\n",
       "      <td>39746.040070</td>\n",
       "    </tr>\n",
       "    <tr>\n",
       "      <th>Geothermal</th>\n",
       "      <td>189.0</td>\n",
       "      <td>66.473810</td>\n",
       "      <td>114.770905</td>\n",
       "      <td>1.0</td>\n",
       "      <td>18.0000</td>\n",
       "      <td>30.00</td>\n",
       "      <td>77.000</td>\n",
       "      <td>1163.00</td>\n",
       "      <td>189.0</td>\n",
       "      <td>29.557186</td>\n",
       "      <td>...</td>\n",
       "      <td>303.664250</td>\n",
       "      <td>4667.659000</td>\n",
       "      <td>127.0</td>\n",
       "      <td>485.728165</td>\n",
       "      <td>647.566931</td>\n",
       "      <td>0.000000</td>\n",
       "      <td>117.353559</td>\n",
       "      <td>221.625000</td>\n",
       "      <td>617.688021</td>\n",
       "      <td>3784.860558</td>\n",
       "    </tr>\n",
       "    <tr>\n",
       "      <th>Hydro</th>\n",
       "      <td>7155.0</td>\n",
       "      <td>146.804321</td>\n",
       "      <td>549.433962</td>\n",
       "      <td>1.0</td>\n",
       "      <td>5.3000</td>\n",
       "      <td>20.00</td>\n",
       "      <td>93.000</td>\n",
       "      <td>22500.00</td>\n",
       "      <td>7155.0</td>\n",
       "      <td>30.309767</td>\n",
       "      <td>...</td>\n",
       "      <td>158.727375</td>\n",
       "      <td>20983.990000</td>\n",
       "      <td>5438.0</td>\n",
       "      <td>649.839148</td>\n",
       "      <td>2548.580861</td>\n",
       "      <td>0.967611</td>\n",
       "      <td>26.057324</td>\n",
       "      <td>86.793675</td>\n",
       "      <td>408.504385</td>\n",
       "      <td>92452.570330</td>\n",
       "    </tr>\n",
       "    <tr>\n",
       "      <th>Nuclear</th>\n",
       "      <td>198.0</td>\n",
       "      <td>2069.832626</td>\n",
       "      <td>1304.270269</td>\n",
       "      <td>20.0</td>\n",
       "      <td>1100.0000</td>\n",
       "      <td>1883.40</td>\n",
       "      <td>2665.025</td>\n",
       "      <td>8212.00</td>\n",
       "      <td>198.0</td>\n",
       "      <td>38.597543</td>\n",
       "      <td>...</td>\n",
       "      <td>17592.001000</td>\n",
       "      <td>32340.138000</td>\n",
       "      <td>128.0</td>\n",
       "      <td>12815.188335</td>\n",
       "      <td>9818.116399</td>\n",
       "      <td>0.000000</td>\n",
       "      <td>5349.980786</td>\n",
       "      <td>11944.505065</td>\n",
       "      <td>18390.952640</td>\n",
       "      <td>39989.655920</td>\n",
       "    </tr>\n",
       "    <tr>\n",
       "      <th>Oil</th>\n",
       "      <td>2290.0</td>\n",
       "      <td>114.565943</td>\n",
       "      <td>394.966198</td>\n",
       "      <td>1.0</td>\n",
       "      <td>2.5404</td>\n",
       "      <td>9.20</td>\n",
       "      <td>50.000</td>\n",
       "      <td>6794.00</td>\n",
       "      <td>2290.0</td>\n",
       "      <td>14.116997</td>\n",
       "      <td>...</td>\n",
       "      <td>0.732500</td>\n",
       "      <td>6972.247003</td>\n",
       "      <td>1442.0</td>\n",
       "      <td>607.707310</td>\n",
       "      <td>1758.390564</td>\n",
       "      <td>0.000000</td>\n",
       "      <td>9.410237</td>\n",
       "      <td>39.193171</td>\n",
       "      <td>322.240088</td>\n",
       "      <td>20816.372360</td>\n",
       "    </tr>\n",
       "    <tr>\n",
       "      <th>Other</th>\n",
       "      <td>44.0</td>\n",
       "      <td>85.399091</td>\n",
       "      <td>144.155122</td>\n",
       "      <td>4.5</td>\n",
       "      <td>17.5000</td>\n",
       "      <td>40.00</td>\n",
       "      <td>98.625</td>\n",
       "      <td>845.26</td>\n",
       "      <td>44.0</td>\n",
       "      <td>38.899089</td>\n",
       "      <td>...</td>\n",
       "      <td>128.024499</td>\n",
       "      <td>508.701000</td>\n",
       "      <td>28.0</td>\n",
       "      <td>315.078995</td>\n",
       "      <td>652.666552</td>\n",
       "      <td>0.000000</td>\n",
       "      <td>41.061947</td>\n",
       "      <td>103.938053</td>\n",
       "      <td>233.330559</td>\n",
       "      <td>3226.211860</td>\n",
       "    </tr>\n",
       "    <tr>\n",
       "      <th>Petcoke</th>\n",
       "      <td>13.0</td>\n",
       "      <td>192.082885</td>\n",
       "      <td>458.141449</td>\n",
       "      <td>4.7</td>\n",
       "      <td>27.3000</td>\n",
       "      <td>67.00</td>\n",
       "      <td>122.900</td>\n",
       "      <td>1707.30</td>\n",
       "      <td>13.0</td>\n",
       "      <td>31.472562</td>\n",
       "      <td>...</td>\n",
       "      <td>297.125749</td>\n",
       "      <td>5776.007940</td>\n",
       "      <td>1.0</td>\n",
       "      <td>0.000000</td>\n",
       "      <td>NaN</td>\n",
       "      <td>0.000000</td>\n",
       "      <td>0.000000</td>\n",
       "      <td>0.000000</td>\n",
       "      <td>0.000000</td>\n",
       "      <td>0.000000</td>\n",
       "    </tr>\n",
       "    <tr>\n",
       "      <th>Solar</th>\n",
       "      <td>5929.0</td>\n",
       "      <td>10.747651</td>\n",
       "      <td>26.418461</td>\n",
       "      <td>1.0</td>\n",
       "      <td>2.0000</td>\n",
       "      <td>4.70</td>\n",
       "      <td>9.000</td>\n",
       "      <td>648.00</td>\n",
       "      <td>5929.0</td>\n",
       "      <td>40.678147</td>\n",
       "      <td>...</td>\n",
       "      <td>9.928000</td>\n",
       "      <td>1237.532000</td>\n",
       "      <td>4567.0</td>\n",
       "      <td>36.697794</td>\n",
       "      <td>129.331961</td>\n",
       "      <td>0.000000</td>\n",
       "      <td>1.999729</td>\n",
       "      <td>3.642870</td>\n",
       "      <td>15.099373</td>\n",
       "      <td>3359.415186</td>\n",
       "    </tr>\n",
       "    <tr>\n",
       "      <th>Storage</th>\n",
       "      <td>58.0</td>\n",
       "      <td>7.820690</td>\n",
       "      <td>9.682517</td>\n",
       "      <td>1.0</td>\n",
       "      <td>2.0000</td>\n",
       "      <td>2.90</td>\n",
       "      <td>10.000</td>\n",
       "      <td>40.00</td>\n",
       "      <td>58.0</td>\n",
       "      <td>39.166022</td>\n",
       "      <td>...</td>\n",
       "      <td>0.056000</td>\n",
       "      <td>34.300000</td>\n",
       "      <td>0.0</td>\n",
       "      <td>NaN</td>\n",
       "      <td>NaN</td>\n",
       "      <td>NaN</td>\n",
       "      <td>NaN</td>\n",
       "      <td>NaN</td>\n",
       "      <td>NaN</td>\n",
       "      <td>NaN</td>\n",
       "    </tr>\n",
       "    <tr>\n",
       "      <th>Waste</th>\n",
       "      <td>1087.0</td>\n",
       "      <td>13.898081</td>\n",
       "      <td>20.690791</td>\n",
       "      <td>1.0</td>\n",
       "      <td>2.3000</td>\n",
       "      <td>4.90</td>\n",
       "      <td>15.250</td>\n",
       "      <td>160.90</td>\n",
       "      <td>1087.0</td>\n",
       "      <td>39.106433</td>\n",
       "      <td>...</td>\n",
       "      <td>99.123750</td>\n",
       "      <td>928.862008</td>\n",
       "      <td>538.0</td>\n",
       "      <td>56.014870</td>\n",
       "      <td>297.770000</td>\n",
       "      <td>0.000000</td>\n",
       "      <td>2.782749</td>\n",
       "      <td>5.565497</td>\n",
       "      <td>23.015649</td>\n",
       "      <td>6595.000000</td>\n",
       "    </tr>\n",
       "    <tr>\n",
       "      <th>Wave and Tidal</th>\n",
       "      <td>10.0</td>\n",
       "      <td>55.220000</td>\n",
       "      <td>101.440708</td>\n",
       "      <td>1.0</td>\n",
       "      <td>1.4000</td>\n",
       "      <td>5.00</td>\n",
       "      <td>22.250</td>\n",
       "      <td>254.00</td>\n",
       "      <td>10.0</td>\n",
       "      <td>52.995930</td>\n",
       "      <td>...</td>\n",
       "      <td>NaN</td>\n",
       "      <td>NaN</td>\n",
       "      <td>0.0</td>\n",
       "      <td>NaN</td>\n",
       "      <td>NaN</td>\n",
       "      <td>NaN</td>\n",
       "      <td>NaN</td>\n",
       "      <td>NaN</td>\n",
       "      <td>NaN</td>\n",
       "      <td>NaN</td>\n",
       "    </tr>\n",
       "    <tr>\n",
       "      <th>Wind</th>\n",
       "      <td>5188.0</td>\n",
       "      <td>46.299842</td>\n",
       "      <td>102.712898</td>\n",
       "      <td>1.0</td>\n",
       "      <td>10.0000</td>\n",
       "      <td>26.00</td>\n",
       "      <td>49.000</td>\n",
       "      <td>6000.00</td>\n",
       "      <td>5188.0</td>\n",
       "      <td>36.618024</td>\n",
       "      <td>...</td>\n",
       "      <td>374.916500</td>\n",
       "      <td>1972.964000</td>\n",
       "      <td>4309.0</td>\n",
       "      <td>120.798706</td>\n",
       "      <td>452.266463</td>\n",
       "      <td>0.000000</td>\n",
       "      <td>19.033102</td>\n",
       "      <td>37.946357</td>\n",
       "      <td>149.985644</td>\n",
       "      <td>18365.589100</td>\n",
       "    </tr>\n",
       "  </tbody>\n",
       "</table>\n",
       "<p>15 rows × 88 columns</p>\n",
       "</div>"
      ],
      "text/plain": [
       "               capacity_mw                                             \\\n",
       "                     count         mean          std   min        25%   \n",
       "primary_fuel                                                            \n",
       "Biomass             1396.0    24.667408    39.970655   1.0     3.0000   \n",
       "Coal                2390.0   836.619247   883.792022   1.2   200.0000   \n",
       "Cogeneration          41.0    97.624390   283.717419   1.6     7.5000   \n",
       "Gas                 3922.0   375.495683   562.794664   1.0    31.1250   \n",
       "Geothermal           189.0    66.473810   114.770905   1.0    18.0000   \n",
       "Hydro               7155.0   146.804321   549.433962   1.0     5.3000   \n",
       "Nuclear              198.0  2069.832626  1304.270269  20.0  1100.0000   \n",
       "Oil                 2290.0   114.565943   394.966198   1.0     2.5404   \n",
       "Other                 44.0    85.399091   144.155122   4.5    17.5000   \n",
       "Petcoke               13.0   192.082885   458.141449   4.7    27.3000   \n",
       "Solar               5929.0    10.747651    26.418461   1.0     2.0000   \n",
       "Storage               58.0     7.820690     9.682517   1.0     2.0000   \n",
       "Waste               1087.0    13.898081    20.690791   1.0     2.3000   \n",
       "Wave and Tidal        10.0    55.220000   101.440708   1.0     1.4000   \n",
       "Wind                5188.0    46.299842   102.712898   1.0    10.0000   \n",
       "\n",
       "                                            latitude             ...  \\\n",
       "                    50%       75%       max    count       mean  ...   \n",
       "primary_fuel                                                     ...   \n",
       "Biomass            9.95    29.175    528.00   1396.0  19.364704  ...   \n",
       "Coal             600.00  1200.000   7000.00   2390.0  32.725796  ...   \n",
       "Cogeneration      30.00    49.300   1404.00     41.0  38.124766  ...   \n",
       "Gas              152.25   530.000   8865.00   3922.0  31.662952  ...   \n",
       "Geothermal        30.00    77.000   1163.00    189.0  29.557186  ...   \n",
       "Hydro             20.00    93.000  22500.00   7155.0  30.309767  ...   \n",
       "Nuclear         1883.40  2665.025   8212.00    198.0  38.597543  ...   \n",
       "Oil                9.20    50.000   6794.00   2290.0  14.116997  ...   \n",
       "Other             40.00    98.625    845.26     44.0  38.899089  ...   \n",
       "Petcoke           67.00   122.900   1707.30     13.0  31.472562  ...   \n",
       "Solar              4.70     9.000    648.00   5929.0  40.678147  ...   \n",
       "Storage            2.90    10.000     40.00     58.0  39.166022  ...   \n",
       "Waste              4.90    15.250    160.90   1087.0  39.106433  ...   \n",
       "Wave and Tidal     5.00    22.250    254.00     10.0  52.995930  ...   \n",
       "Wind              26.00    49.000   6000.00   5188.0  36.618024  ...   \n",
       "\n",
       "               generation_gwh_2017               estimated_generation_gwh  \\\n",
       "                               75%           max                    count   \n",
       "primary_fuel                                                                \n",
       "Biomass                 338.506503    831.165002                   1241.0   \n",
       "Coal                   6262.190992  35116.000000                   1846.0   \n",
       "Cogeneration            166.049000    564.213000                     11.0   \n",
       "Gas                     530.573000  20515.369720                   2115.0   \n",
       "Geothermal              303.664250   4667.659000                    127.0   \n",
       "Hydro                   158.727375  20983.990000                   5438.0   \n",
       "Nuclear               17592.001000  32340.138000                    128.0   \n",
       "Oil                       0.732500   6972.247003                   1442.0   \n",
       "Other                   128.024499    508.701000                     28.0   \n",
       "Petcoke                 297.125749   5776.007940                      1.0   \n",
       "Solar                     9.928000   1237.532000                   4567.0   \n",
       "Storage                   0.056000     34.300000                      0.0   \n",
       "Waste                    99.123750    928.862008                    538.0   \n",
       "Wave and Tidal                 NaN           NaN                      0.0   \n",
       "Wind                    374.916500   1972.964000                   4309.0   \n",
       "\n",
       "                                                                   \\\n",
       "                        mean           std       min          25%   \n",
       "primary_fuel                                                        \n",
       "Biomass           204.980708    831.923881  0.000000    16.002365   \n",
       "Coal             4048.023188  11396.837546  0.000000   820.454778   \n",
       "Cogeneration        0.000000      0.000000  0.000000     0.000000   \n",
       "Gas              1839.948213   3161.524135  0.000000   141.965096   \n",
       "Geothermal        485.728165    647.566931  0.000000   117.353559   \n",
       "Hydro             649.839148   2548.580861  0.967611    26.057324   \n",
       "Nuclear         12815.188335   9818.116399  0.000000  5349.980786   \n",
       "Oil               607.707310   1758.390564  0.000000     9.410237   \n",
       "Other             315.078995    652.666552  0.000000    41.061947   \n",
       "Petcoke             0.000000           NaN  0.000000     0.000000   \n",
       "Solar              36.697794    129.331961  0.000000     1.999729   \n",
       "Storage                  NaN           NaN       NaN          NaN   \n",
       "Waste              56.014870    297.770000  0.000000     2.782749   \n",
       "Wave and Tidal           NaN           NaN       NaN          NaN   \n",
       "Wind              120.798706    452.266463  0.000000    19.033102   \n",
       "\n",
       "                                                           \n",
       "                         50%           75%            max  \n",
       "primary_fuel                                               \n",
       "Biomass            43.006357    185.307828   18468.400120  \n",
       "Coal             2583.533009   5167.066017  450562.692300  \n",
       "Cogeneration        0.000000      0.000000       0.000000  \n",
       "Gas               720.463007   2296.383701   39746.040070  \n",
       "Geothermal        221.625000    617.688021    3784.860558  \n",
       "Hydro              86.793675    408.504385   92452.570330  \n",
       "Nuclear         11944.505065  18390.952640   39989.655920  \n",
       "Oil                39.193171    322.240088   20816.372360  \n",
       "Other             103.938053    233.330559    3226.211860  \n",
       "Petcoke             0.000000      0.000000       0.000000  \n",
       "Solar               3.642870     15.099373    3359.415186  \n",
       "Storage                  NaN           NaN            NaN  \n",
       "Waste               5.565497     23.015649    6595.000000  \n",
       "Wave and Tidal           NaN           NaN            NaN  \n",
       "Wind               37.946357    149.985644   18365.589100  \n",
       "\n",
       "[15 rows x 88 columns]"
      ]
     },
     "execution_count": 4,
     "metadata": {},
     "output_type": "execute_result"
    }
   ],
   "source": [
    "# Group by the fuel type\n",
    "fueltype = df_all.groupby(\"primary_fuel\")\n",
    "fueltype.describe()"
   ]
  },
  {
   "cell_type": "markdown",
   "metadata": {},
   "source": [
    "**Interpretation:**\n",
    "We can see that the power plants of some 'green' fuel types are numerous in numbers: Hydro (7155), Solar (5292), Wind (5188); and that the number of Gas (3922), Coal (2390) and Oil (2290) power plants is considerably lower. However, when looking at the mean capacities, we see that Nuclear (appr. 2070), Coal (appr. 873) and Gas (appr. 375) have much higher mean capacity than Hydro (appr. 147), Solar (appr. 11) and Wind (appr. 46). To investigate which fuel types are really resposnsible for the most energy output, it seems more logical to compare the total sum of capacities of all power plants of a particular fuel type (as we do not have reported values for actual energy outputs for some power plants)."
   ]
  },
  {
   "cell_type": "code",
   "execution_count": 5,
   "metadata": {},
   "outputs": [],
   "source": [
    "#Green fuels = 1, non-green fuels = 0, other = 2 ???\n",
    "green_map = dict.fromkeys(['Hydro', 'Nuclear', 'Wind', 'Solar', 'Biomass', 'Waste', 'Geothermal', 'Cogeneration', 'Wave and Tidal', 'Storage'], 1)\n",
    "green_map.update(dict.fromkeys(['Coal', 'Gas', 'Oil', 'Petcoke'], 0))\n",
    "green_map.update(dict.fromkeys(['Other'], -1))"
   ]
  },
  {
   "cell_type": "code",
   "execution_count": 6,
   "metadata": {},
   "outputs": [
    {
     "data": {
      "text/html": [
       "<div>\n",
       "<style scoped>\n",
       "    .dataframe tbody tr th:only-of-type {\n",
       "        vertical-align: middle;\n",
       "    }\n",
       "\n",
       "    .dataframe tbody tr th {\n",
       "        vertical-align: top;\n",
       "    }\n",
       "\n",
       "    .dataframe thead th {\n",
       "        text-align: right;\n",
       "    }\n",
       "</style>\n",
       "<table border=\"1\" class=\"dataframe\">\n",
       "  <thead>\n",
       "    <tr style=\"text-align: right;\">\n",
       "      <th></th>\n",
       "      <th>primary_fuel</th>\n",
       "      <th>capacity_sum</th>\n",
       "      <th>green</th>\n",
       "    </tr>\n",
       "  </thead>\n",
       "  <tbody>\n",
       "    <tr>\n",
       "      <th>0</th>\n",
       "      <td>Coal</td>\n",
       "      <td>1.999520e+06</td>\n",
       "      <td>not green</td>\n",
       "    </tr>\n",
       "    <tr>\n",
       "      <th>1</th>\n",
       "      <td>Gas</td>\n",
       "      <td>1.472694e+06</td>\n",
       "      <td>not green</td>\n",
       "    </tr>\n",
       "    <tr>\n",
       "      <th>2</th>\n",
       "      <td>Hydro</td>\n",
       "      <td>1.050385e+06</td>\n",
       "      <td>green</td>\n",
       "    </tr>\n",
       "    <tr>\n",
       "      <th>3</th>\n",
       "      <td>Nuclear</td>\n",
       "      <td>4.098269e+05</td>\n",
       "      <td>green</td>\n",
       "    </tr>\n",
       "    <tr>\n",
       "      <th>4</th>\n",
       "      <td>Oil</td>\n",
       "      <td>2.623560e+05</td>\n",
       "      <td>not green</td>\n",
       "    </tr>\n",
       "    <tr>\n",
       "      <th>5</th>\n",
       "      <td>Wind</td>\n",
       "      <td>2.402036e+05</td>\n",
       "      <td>green</td>\n",
       "    </tr>\n",
       "    <tr>\n",
       "      <th>6</th>\n",
       "      <td>Solar</td>\n",
       "      <td>6.372282e+04</td>\n",
       "      <td>green</td>\n",
       "    </tr>\n",
       "    <tr>\n",
       "      <th>7</th>\n",
       "      <td>Biomass</td>\n",
       "      <td>3.443570e+04</td>\n",
       "      <td>green</td>\n",
       "    </tr>\n",
       "    <tr>\n",
       "      <th>8</th>\n",
       "      <td>Waste</td>\n",
       "      <td>1.510721e+04</td>\n",
       "      <td>green</td>\n",
       "    </tr>\n",
       "    <tr>\n",
       "      <th>9</th>\n",
       "      <td>Geothermal</td>\n",
       "      <td>1.256355e+04</td>\n",
       "      <td>green</td>\n",
       "    </tr>\n",
       "    <tr>\n",
       "      <th>10</th>\n",
       "      <td>Cogeneration</td>\n",
       "      <td>4.002600e+03</td>\n",
       "      <td>green</td>\n",
       "    </tr>\n",
       "    <tr>\n",
       "      <th>11</th>\n",
       "      <td>Other</td>\n",
       "      <td>3.757560e+03</td>\n",
       "      <td>other</td>\n",
       "    </tr>\n",
       "    <tr>\n",
       "      <th>12</th>\n",
       "      <td>Petcoke</td>\n",
       "      <td>2.497077e+03</td>\n",
       "      <td>not green</td>\n",
       "    </tr>\n",
       "    <tr>\n",
       "      <th>13</th>\n",
       "      <td>Wave and Tidal</td>\n",
       "      <td>5.522000e+02</td>\n",
       "      <td>green</td>\n",
       "    </tr>\n",
       "    <tr>\n",
       "      <th>14</th>\n",
       "      <td>Storage</td>\n",
       "      <td>4.536000e+02</td>\n",
       "      <td>green</td>\n",
       "    </tr>\n",
       "  </tbody>\n",
       "</table>\n",
       "</div>"
      ],
      "text/plain": [
       "      primary_fuel  capacity_sum      green\n",
       "0             Coal  1.999520e+06  not green\n",
       "1              Gas  1.472694e+06  not green\n",
       "2            Hydro  1.050385e+06      green\n",
       "3          Nuclear  4.098269e+05      green\n",
       "4              Oil  2.623560e+05  not green\n",
       "5             Wind  2.402036e+05      green\n",
       "6            Solar  6.372282e+04      green\n",
       "7          Biomass  3.443570e+04      green\n",
       "8            Waste  1.510721e+04      green\n",
       "9       Geothermal  1.256355e+04      green\n",
       "10    Cogeneration  4.002600e+03      green\n",
       "11           Other  3.757560e+03      other\n",
       "12         Petcoke  2.497077e+03  not green\n",
       "13  Wave and Tidal  5.522000e+02      green\n",
       "14         Storage  4.536000e+02      green"
      ]
     },
     "execution_count": 6,
     "metadata": {},
     "output_type": "execute_result"
    }
   ],
   "source": [
    "capacity = fueltype.agg(**{'capacity_sum': pd.NamedAgg(column='capacity_mw', aggfunc='sum')})\n",
    "capacity = capacity.sort_values(by='capacity_sum', ascending = False)\n",
    "# https://www.geeksforgeeks.org/adding-new-column-to-existing-dataframe-in-pandas/\n",
    "green = ['not green','not green','green','green','not green','green','green','green','green','green','green','other','not green','green','green']\n",
    "capacity['green'] = green\n",
    "capacity = capacity.reset_index()\n",
    "capacity"
   ]
  },
  {
   "cell_type": "code",
   "execution_count": 7,
   "metadata": {
    "scrolled": false
   },
   "outputs": [
    {
     "data": {
      "text/plain": [
       "<matplotlib.legend.Legend at 0x21b2f9f5c40>"
      ]
     },
     "execution_count": 7,
     "metadata": {},
     "output_type": "execute_result"
    },
    {
     "data": {
      "image/png": "[encoded data removed]",
      "text/plain": [
       "<Figure size 576x396 with 1 Axes>"
      ]
     },
     "metadata": {},
     "output_type": "display_data"
    }
   ],
   "source": [
    "# https://stackoverflow.com/questions/57340415/matplotlib-bar-plot-add-legend-from-categories-dataframe-column\n",
    "plt.style.use('seaborn')\n",
    "colors = {'not green':\"black\", 'green':\"green\", 'other':\"grey\"}  \n",
    "labels = list(colors.keys())\n",
    "handles = [plt.Rectangle((0,0),1,1, color=colors[label]) for label in labels]\n",
    "c = capacity['green'].apply(lambda x: colors[x])\n",
    "plt.bar(capacity['primary_fuel'], capacity['capacity_sum'], color=c, label=colors)\n",
    "plt.xticks(rotation = 60)\n",
    "plt.xlabel(\"Primary fuel type\")\n",
    "plt.ylabel(\"Total capacity (in Megawatts)\", rotation = 90)\n",
    "plt.legend(handles, labels)"
   ]
  },
  {
   "cell_type": "markdown",
   "metadata": {},
   "source": [
    "**Interpretation:**\n",
    "Not surprisingly, we see that the first two fuel types are Coal and Gas. However, Hydro also is in the top-three. Nuclear and Oil power plants also seem to be considerable energy producers."
   ]
  },
  {
   "cell_type": "markdown",
   "metadata": {},
   "source": [
    "## 2. How many new powerplants in total and of each new fuel type per year (or per n years)"
   ]
  },
  {
   "cell_type": "code",
   "execution_count": 8,
   "metadata": {},
   "outputs": [
    {
     "data": {
      "image/png": "[encoded data removed]",
      "text/plain": [
       "<Figure size 576x396 with 1 Axes>"
      ]
     },
     "metadata": {},
     "output_type": "display_data"
    }
   ],
   "source": [
    "# https://stackoverflow.com/questions/11285613/selecting-multiple-columns-in-a-pandas-dataframe\n",
    "newpp = df_all[['gppd_idnr','country','primary_fuel','commissioning_year']]\n",
    "newpp = newpp.dropna()\n",
    "newpp['commissioning_year'] = newpp['commissioning_year'].map(int)\n",
    "newyear = newpp.groupby('commissioning_year')\n",
    "nycount = newyear.size()\n",
    "nycountplot = nycount.plot(title = \"Number of new power plants per year\")"
   ]
  },
  {
   "cell_type": "markdown",
   "metadata": {},
   "source": [
    "**Interpretation:**  Important to note that the energy output data is available only until 2017. We also see a suspicious drop in the amount of new power plants from 2017 to 2018. The latest technical note for the dataset was published in 2019, but almost all sources used are from 2018 (also powerplant data sources). It seems likely that the dataset does not represent the number of new powerplants in 2018 adequately. Therefore, we only include the data from 1896-2017, and explore which fyel types are responsible for the spike(s):"
   ]
  },
  {
   "cell_type": "code",
   "execution_count": 9,
   "metadata": {},
   "outputs": [
    {
     "data": {
      "text/plain": [
       "<AxesSubplot:xlabel='Year'>"
      ]
     },
     "execution_count": 9,
     "metadata": {},
     "output_type": "execute_result"
    },
    {
     "data": {
      "image/png": "[encoded data removed]",
      "text/plain": [
       "<Figure size 576x396 with 1 Axes>"
      ]
     },
     "metadata": {},
     "output_type": "display_data"
    }
   ],
   "source": [
    "maskyear = newpp[\"commissioning_year\"] != 2018\n",
    "newpp = newpp[maskyear]\n",
    "newyear = newpp.groupby('commissioning_year')\n",
    "nycount = newyear.size()\n",
    "pd.crosstab(newpp[\"commissioning_year\"],newpp[\"primary_fuel\"]).plot(xlabel = \"Year\", color = ['green','brown','grey','coral','orange','blue','lime','red','white','darkblue','yellow','violet','beige','cyan'])"
   ]
  },
  {
   "cell_type": "code",
   "execution_count": 10,
   "metadata": {},
   "outputs": [
    {
     "data": {
      "text/plain": [
       "<AxesSubplot:xlabel='Year'>"
      ]
     },
     "execution_count": 10,
     "metadata": {},
     "output_type": "execute_result"
    },
    {
     "data": {
      "image/png": "[encoded data removed]",
      "text/plain": [
       "<Figure size 576x396 with 1 Axes>"
      ]
     },
     "metadata": {},
     "output_type": "display_data"
    }
   ],
   "source": [
    "# Zoomed in for 2010-2017 period:\n",
    "pd.crosstab(newpp[\"commissioning_year\"],newpp[\"primary_fuel\"]).plot(xlim = (2010,2020), xlabel = \"Year\", color = ['green','brown','grey','coral','orange','blue','lime','red','white','darkblue','yellow','violet','beige','cyan'])"
   ]
  },
  {
   "cell_type": "markdown",
   "metadata": {},
   "source": [
    "**Interpretation:** We see that in the recent years, there has been a considerable increase in the number of Solar power plants. We also see that there has been as light increase in the number of new Wind power plants. While not as prominent, there have been new Hydro, Coal, Geothermal, Oil, Biomass power plants. An interesting question is: which countries are repsponsible for sucha  big rise in new Solar power plants?"
   ]
  },
  {
   "cell_type": "code",
   "execution_count": 11,
   "metadata": {
    "scrolled": false
   },
   "outputs": [
    {
     "data": {
      "text/plain": [
       "<matplotlib.legend.Legend at 0x21b303badc0>"
      ]
     },
     "execution_count": 11,
     "metadata": {},
     "output_type": "execute_result"
    },
    {
     "data": {
      "image/png": "[encoded data removed]",
      "text/plain": [
       "<Figure size 576x396 with 1 Axes>"
      ]
     },
     "metadata": {},
     "output_type": "display_data"
    }
   ],
   "source": [
    "# Exploring which countries are responsible for the spike in solar power plants:\n",
    "masksolar = newpp[\"primary_fuel\"] == 'Solar'\n",
    "newsolar = newpp[masksolar]\n",
    "pd.crosstab(newsolar[\"commissioning_year\"], newsolar[\"country\"]).plot(color = ['grey','grey','grey','grey','darkblue','grey','grey','grey','grey','grey','grey','grey','grey','grey','grey','darkviolet','grey','yellow','grey','grey','grey','grey','red','orange'])\n",
    "plt.ylim(0,250)\n",
    "plt.legend(bbox_to_anchor=(1.2,1.1))"
   ]
  },
  {
   "cell_type": "code",
   "execution_count": 12,
   "metadata": {},
   "outputs": [
    {
     "data": {
      "text/plain": [
       "(0.0, 50.0)"
      ]
     },
     "execution_count": 12,
     "metadata": {},
     "output_type": "execute_result"
    },
    {
     "data": {
      "image/png": "[encoded data removed]",
      "text/plain": [
       "<Figure size 576x396 with 1 Axes>"
      ]
     },
     "metadata": {},
     "output_type": "display_data"
    }
   ],
   "source": [
    "# Zoomed in\n",
    "pd.crosstab(newsolar[\"commissioning_year\"],newsolar[\"country\"]).plot(xlabel = \"Year\", color = ['grey','grey','grey','grey','darkblue','grey','grey','grey','grey','grey','grey','grey','grey','grey','grey','darkviolet','grey','yellow','grey','grey','grey','grey','red','orange'])\n",
    "plt.legend( bbox_to_anchor=(1.2,1.1))\n",
    "plt.ylim(0,50)"
   ]
  },
  {
   "cell_type": "markdown",
   "metadata": {},
   "source": [
    "**Interpretation:** We see that the most new power plants have been built in USA, but also there has been quite a few new Solar power plants in Spain, Philippines, South Africa, Portugal."
   ]
  },
  {
   "cell_type": "markdown",
   "metadata": {},
   "source": [
    "## 3. Ratio green energy estimated output over all estimated output (per country)"
   ]
  },
  {
   "cell_type": "code",
   "execution_count": 13,
   "metadata": {},
   "outputs": [],
   "source": [
    "# Creates new column 'avg_annual_output' in df by\n",
    "#  - copying estimated_generation_gwh in rows where it is not NaN\n",
    "#  - averaging the time series in the remaining rows\n",
    "def annual_output(df):\n",
    "    df['avg_annual_output'] = df['estimated_generation_gwh']    \n",
    "    idx = df.index[df['estimated_generation_gwh'].isna()].tolist()    \n",
    "    df.loc[idx,'avg_annual_output'] = df[['generation_gwh_2013', 'generation_gwh_2014', 'generation_gwh_2015', 'generation_gwh_2016', 'generation_gwh_2017']].mean(axis=1)"
   ]
  },
  {
   "cell_type": "code",
   "execution_count": 14,
   "metadata": {},
   "outputs": [
    {
     "data": {
      "text/plain": [
       "0.3363620725777442"
      ]
     },
     "execution_count": 14,
     "metadata": {},
     "output_type": "execute_result"
    }
   ],
   "source": [
    "annual_output(df_all)\n",
    "df_all[\"green\"] = df_all[\"primary_fuel\"].map({'Gas':0,'Coal':0,'Oil':0,'Petcoke':0,'Other':0,'Cogeneration':1,'Storage':1,'Waste':1, 'Wind':1,'Hydro':1,'Solar':1,'Nuclear':1,'Biomass':1,'Geothermal':1,'Wave and Tidal':1})\n",
    "maskgreen = df_all['green'] == 1\n",
    "df_all_green = df_all[maskgreen]\n",
    "\n",
    "# The green ratio for all the entire dataset\n",
    "df_all_green['estimated_generation_gwh'].sum()/df_all['estimated_generation_gwh'].sum()"
   ]
  },
  {
   "cell_type": "code",
   "execution_count": 15,
   "metadata": {},
   "outputs": [
    {
     "data": {
      "text/plain": [
       "<BarContainer object of 164 artists>"
      ]
     },
     "execution_count": 15,
     "metadata": {},
     "output_type": "execute_result"
    },
    {
     "data": {
      "image/png": "[encoded data removed]",
      "text/plain": [
       "<Figure size 576x396 with 1 Axes>"
      ]
     },
     "metadata": {},
     "output_type": "display_data"
    }
   ],
   "source": [
    "df_all_g = df_all.groupby('country')\n",
    "df_all_green_g = df_all_green.groupby('country')\n",
    "totalratiocountry = 100*df_all_green_g['estimated_generation_gwh'].sum()/df_all_g['estimated_generation_gwh'].sum()\n",
    "totalratiocountry=totalratiocountry.to_frame()\n",
    "totalratiocountry.reset_index(inplace=True)\n",
    "totalratiocountry = totalratiocountry.sort_values('estimated_generation_gwh', ascending=False)\n",
    "totalratiocountry = totalratiocountry.rename(columns={'estimated_generation_gwh':'green_ratio'})\n",
    "countr = totalratiocountry.groupby('green_ratio')\n",
    "plt.bar(totalratiocountry['country'],totalratiocountry['green_ratio'])"
   ]
  },
  {
   "cell_type": "code",
   "execution_count": 16,
   "metadata": {},
   "outputs": [
    {
     "name": "stdout",
     "output_type": "stream",
     "text": [
      "    country  green_ratio\n",
      "127     PRY        100.0\n",
      "146     TJK        100.0\n",
      "2       ALB        100.0\n",
      "105     MOZ        100.0\n",
      "116     NPL        100.0\n",
      "50      ETH        100.0\n",
      "26      CHE        100.0\n",
      "74      ISL        100.0\n"
     ]
    }
   ],
   "source": [
    "# Paraguay, Tajikistan, Albania, Mozambique, Nepal, Ethiopia, Switzerland and Iceland have 100 percent green ratio!\n",
    "# (Googled the country codes)\n",
    "print(totalratiocountry[totalratiocountry['green_ratio']==100])"
   ]
  },
  {
   "cell_type": "code",
   "execution_count": 17,
   "metadata": {
    "scrolled": true
   },
   "outputs": [
    {
     "data": {
      "text/html": [
       "<div>\n",
       "<style scoped>\n",
       "    .dataframe tbody tr th:only-of-type {\n",
       "        vertical-align: middle;\n",
       "    }\n",
       "\n",
       "    .dataframe tbody tr th {\n",
       "        vertical-align: top;\n",
       "    }\n",
       "\n",
       "    .dataframe thead th {\n",
       "        text-align: right;\n",
       "    }\n",
       "</style>\n",
       "<table border=\"1\" class=\"dataframe\">\n",
       "  <thead>\n",
       "    <tr style=\"text-align: right;\">\n",
       "      <th></th>\n",
       "      <th>country</th>\n",
       "      <th>name</th>\n",
       "      <th>gppd_idnr</th>\n",
       "      <th>capacity_mw</th>\n",
       "      <th>latitude</th>\n",
       "      <th>longitude</th>\n",
       "      <th>primary_fuel</th>\n",
       "      <th>other_fuel1</th>\n",
       "      <th>other_fuel2</th>\n",
       "      <th>other_fuel3</th>\n",
       "      <th>...</th>\n",
       "      <th>source</th>\n",
       "      <th>year_of_capacity_data</th>\n",
       "      <th>generation_gwh_2013</th>\n",
       "      <th>generation_gwh_2014</th>\n",
       "      <th>generation_gwh_2015</th>\n",
       "      <th>generation_gwh_2016</th>\n",
       "      <th>generation_gwh_2017</th>\n",
       "      <th>estimated_generation_gwh</th>\n",
       "      <th>avg_annual_output</th>\n",
       "      <th>green</th>\n",
       "    </tr>\n",
       "  </thead>\n",
       "  <tbody>\n",
       "    <tr>\n",
       "      <th>14528</th>\n",
       "      <td>NPL</td>\n",
       "      <td>Bhote Koshi Hydroelectric Power Plant Nepal</td>\n",
       "      <td>GEODB0040476</td>\n",
       "      <td>45.00</td>\n",
       "      <td>27.9388</td>\n",
       "      <td>85.9450</td>\n",
       "      <td>Hydro</td>\n",
       "      <td>NaN</td>\n",
       "      <td>NaN</td>\n",
       "      <td>NaN</td>\n",
       "      <td>...</td>\n",
       "      <td>GEODB</td>\n",
       "      <td>2017.0</td>\n",
       "      <td>NaN</td>\n",
       "      <td>NaN</td>\n",
       "      <td>NaN</td>\n",
       "      <td>NaN</td>\n",
       "      <td>NaN</td>\n",
       "      <td>305.591899</td>\n",
       "      <td>305.591899</td>\n",
       "      <td>1</td>\n",
       "    </tr>\n",
       "    <tr>\n",
       "      <th>14529</th>\n",
       "      <td>NPL</td>\n",
       "      <td>Devighat Hydroelectric Power Plant Nepal</td>\n",
       "      <td>GEODB0040484</td>\n",
       "      <td>14.10</td>\n",
       "      <td>27.9212</td>\n",
       "      <td>85.1462</td>\n",
       "      <td>Hydro</td>\n",
       "      <td>NaN</td>\n",
       "      <td>NaN</td>\n",
       "      <td>NaN</td>\n",
       "      <td>...</td>\n",
       "      <td>GEODB</td>\n",
       "      <td>2017.0</td>\n",
       "      <td>NaN</td>\n",
       "      <td>NaN</td>\n",
       "      <td>NaN</td>\n",
       "      <td>NaN</td>\n",
       "      <td>NaN</td>\n",
       "      <td>95.752128</td>\n",
       "      <td>95.752128</td>\n",
       "      <td>1</td>\n",
       "    </tr>\n",
       "    <tr>\n",
       "      <th>14530</th>\n",
       "      <td>NPL</td>\n",
       "      <td>Gandak Hydroelectric Power Plant Nepal</td>\n",
       "      <td>GEODB0044203</td>\n",
       "      <td>15.00</td>\n",
       "      <td>27.4268</td>\n",
       "      <td>83.7918</td>\n",
       "      <td>Hydro</td>\n",
       "      <td>NaN</td>\n",
       "      <td>NaN</td>\n",
       "      <td>NaN</td>\n",
       "      <td>...</td>\n",
       "      <td>GEODB</td>\n",
       "      <td>2017.0</td>\n",
       "      <td>NaN</td>\n",
       "      <td>NaN</td>\n",
       "      <td>NaN</td>\n",
       "      <td>NaN</td>\n",
       "      <td>NaN</td>\n",
       "      <td>101.863966</td>\n",
       "      <td>101.863966</td>\n",
       "      <td>1</td>\n",
       "    </tr>\n",
       "    <tr>\n",
       "      <th>14531</th>\n",
       "      <td>NPL</td>\n",
       "      <td>Kali Gandaki Hydroelectric Power Plant Nepal</td>\n",
       "      <td>GEODB0040475</td>\n",
       "      <td>144.00</td>\n",
       "      <td>27.9760</td>\n",
       "      <td>83.5680</td>\n",
       "      <td>Hydro</td>\n",
       "      <td>NaN</td>\n",
       "      <td>NaN</td>\n",
       "      <td>NaN</td>\n",
       "      <td>...</td>\n",
       "      <td>GEODB</td>\n",
       "      <td>2017.0</td>\n",
       "      <td>NaN</td>\n",
       "      <td>NaN</td>\n",
       "      <td>NaN</td>\n",
       "      <td>NaN</td>\n",
       "      <td>NaN</td>\n",
       "      <td>977.894077</td>\n",
       "      <td>977.894077</td>\n",
       "      <td>1</td>\n",
       "    </tr>\n",
       "    <tr>\n",
       "      <th>14532</th>\n",
       "      <td>NPL</td>\n",
       "      <td>Khimti Hydroelectric Power Plant Nepal</td>\n",
       "      <td>GEODB0040485</td>\n",
       "      <td>60.00</td>\n",
       "      <td>27.5500</td>\n",
       "      <td>86.1690</td>\n",
       "      <td>Hydro</td>\n",
       "      <td>NaN</td>\n",
       "      <td>NaN</td>\n",
       "      <td>NaN</td>\n",
       "      <td>...</td>\n",
       "      <td>GEODB</td>\n",
       "      <td>2017.0</td>\n",
       "      <td>NaN</td>\n",
       "      <td>NaN</td>\n",
       "      <td>NaN</td>\n",
       "      <td>NaN</td>\n",
       "      <td>NaN</td>\n",
       "      <td>407.455865</td>\n",
       "      <td>407.455865</td>\n",
       "      <td>1</td>\n",
       "    </tr>\n",
       "    <tr>\n",
       "      <th>14533</th>\n",
       "      <td>NPL</td>\n",
       "      <td>Kulekhani-I Hydroelectric Power Plant Nepal</td>\n",
       "      <td>GEODB0040480</td>\n",
       "      <td>60.00</td>\n",
       "      <td>27.5900</td>\n",
       "      <td>85.1550</td>\n",
       "      <td>Hydro</td>\n",
       "      <td>NaN</td>\n",
       "      <td>NaN</td>\n",
       "      <td>NaN</td>\n",
       "      <td>...</td>\n",
       "      <td>GEODB</td>\n",
       "      <td>2017.0</td>\n",
       "      <td>NaN</td>\n",
       "      <td>NaN</td>\n",
       "      <td>NaN</td>\n",
       "      <td>NaN</td>\n",
       "      <td>NaN</td>\n",
       "      <td>407.455865</td>\n",
       "      <td>407.455865</td>\n",
       "      <td>1</td>\n",
       "    </tr>\n",
       "    <tr>\n",
       "      <th>14534</th>\n",
       "      <td>NPL</td>\n",
       "      <td>Kulekhani-II Hydroelectric Power Plant Nepal</td>\n",
       "      <td>GEODB0040482</td>\n",
       "      <td>32.00</td>\n",
       "      <td>27.5090</td>\n",
       "      <td>85.0519</td>\n",
       "      <td>Hydro</td>\n",
       "      <td>NaN</td>\n",
       "      <td>NaN</td>\n",
       "      <td>NaN</td>\n",
       "      <td>...</td>\n",
       "      <td>GEODB</td>\n",
       "      <td>2017.0</td>\n",
       "      <td>NaN</td>\n",
       "      <td>NaN</td>\n",
       "      <td>NaN</td>\n",
       "      <td>NaN</td>\n",
       "      <td>NaN</td>\n",
       "      <td>217.309795</td>\n",
       "      <td>217.309795</td>\n",
       "      <td>1</td>\n",
       "    </tr>\n",
       "    <tr>\n",
       "      <th>14535</th>\n",
       "      <td>NPL</td>\n",
       "      <td>Marsyangdi Hydroelectric Power Plant Nepal</td>\n",
       "      <td>GEODB0040477</td>\n",
       "      <td>69.00</td>\n",
       "      <td>27.9262</td>\n",
       "      <td>84.4965</td>\n",
       "      <td>Hydro</td>\n",
       "      <td>NaN</td>\n",
       "      <td>NaN</td>\n",
       "      <td>NaN</td>\n",
       "      <td>...</td>\n",
       "      <td>GEODB</td>\n",
       "      <td>2017.0</td>\n",
       "      <td>NaN</td>\n",
       "      <td>NaN</td>\n",
       "      <td>NaN</td>\n",
       "      <td>NaN</td>\n",
       "      <td>NaN</td>\n",
       "      <td>468.574245</td>\n",
       "      <td>468.574245</td>\n",
       "      <td>1</td>\n",
       "    </tr>\n",
       "    <tr>\n",
       "      <th>14536</th>\n",
       "      <td>NPL</td>\n",
       "      <td>Middle Marsyangdi Hydroelectric Power Plant Nepal</td>\n",
       "      <td>GEODB0040478</td>\n",
       "      <td>70.00</td>\n",
       "      <td>28.1890</td>\n",
       "      <td>84.4195</td>\n",
       "      <td>Hydro</td>\n",
       "      <td>NaN</td>\n",
       "      <td>NaN</td>\n",
       "      <td>NaN</td>\n",
       "      <td>...</td>\n",
       "      <td>GEODB</td>\n",
       "      <td>2017.0</td>\n",
       "      <td>NaN</td>\n",
       "      <td>NaN</td>\n",
       "      <td>NaN</td>\n",
       "      <td>NaN</td>\n",
       "      <td>NaN</td>\n",
       "      <td>475.365176</td>\n",
       "      <td>475.365176</td>\n",
       "      <td>1</td>\n",
       "    </tr>\n",
       "    <tr>\n",
       "      <th>14537</th>\n",
       "      <td>NPL</td>\n",
       "      <td>Modi Khola Hydroelectric Power Plant Nepal</td>\n",
       "      <td>GEODB0043974</td>\n",
       "      <td>14.80</td>\n",
       "      <td>28.2720</td>\n",
       "      <td>83.7411</td>\n",
       "      <td>Hydro</td>\n",
       "      <td>NaN</td>\n",
       "      <td>NaN</td>\n",
       "      <td>NaN</td>\n",
       "      <td>...</td>\n",
       "      <td>GEODB</td>\n",
       "      <td>2017.0</td>\n",
       "      <td>NaN</td>\n",
       "      <td>NaN</td>\n",
       "      <td>NaN</td>\n",
       "      <td>NaN</td>\n",
       "      <td>NaN</td>\n",
       "      <td>100.505780</td>\n",
       "      <td>100.505780</td>\n",
       "      <td>1</td>\n",
       "    </tr>\n",
       "    <tr>\n",
       "      <th>14538</th>\n",
       "      <td>NPL</td>\n",
       "      <td>Sunkosi Hydroelectric Power Plant Nepal</td>\n",
       "      <td>GEODB0044207</td>\n",
       "      <td>10.05</td>\n",
       "      <td>27.7806</td>\n",
       "      <td>85.9170</td>\n",
       "      <td>Hydro</td>\n",
       "      <td>NaN</td>\n",
       "      <td>NaN</td>\n",
       "      <td>NaN</td>\n",
       "      <td>...</td>\n",
       "      <td>GEODB</td>\n",
       "      <td>2017.0</td>\n",
       "      <td>NaN</td>\n",
       "      <td>NaN</td>\n",
       "      <td>NaN</td>\n",
       "      <td>NaN</td>\n",
       "      <td>NaN</td>\n",
       "      <td>68.248857</td>\n",
       "      <td>68.248857</td>\n",
       "      <td>1</td>\n",
       "    </tr>\n",
       "    <tr>\n",
       "      <th>14539</th>\n",
       "      <td>NPL</td>\n",
       "      <td>Trishuli Hydroelectric Power Plant Nepal</td>\n",
       "      <td>GEODB0040483</td>\n",
       "      <td>24.00</td>\n",
       "      <td>27.9629</td>\n",
       "      <td>85.1707</td>\n",
       "      <td>Hydro</td>\n",
       "      <td>NaN</td>\n",
       "      <td>NaN</td>\n",
       "      <td>NaN</td>\n",
       "      <td>...</td>\n",
       "      <td>GEODB</td>\n",
       "      <td>2017.0</td>\n",
       "      <td>NaN</td>\n",
       "      <td>NaN</td>\n",
       "      <td>NaN</td>\n",
       "      <td>NaN</td>\n",
       "      <td>NaN</td>\n",
       "      <td>162.982346</td>\n",
       "      <td>162.982346</td>\n",
       "      <td>1</td>\n",
       "    </tr>\n",
       "  </tbody>\n",
       "</table>\n",
       "<p>12 rows × 22 columns</p>\n",
       "</div>"
      ],
      "text/plain": [
       "      country                                               name  \\\n",
       "14528     NPL        Bhote Koshi Hydroelectric Power Plant Nepal   \n",
       "14529     NPL           Devighat Hydroelectric Power Plant Nepal   \n",
       "14530     NPL             Gandak Hydroelectric Power Plant Nepal   \n",
       "14531     NPL       Kali Gandaki Hydroelectric Power Plant Nepal   \n",
       "14532     NPL             Khimti Hydroelectric Power Plant Nepal   \n",
       "14533     NPL        Kulekhani-I Hydroelectric Power Plant Nepal   \n",
       "14534     NPL       Kulekhani-II Hydroelectric Power Plant Nepal   \n",
       "14535     NPL         Marsyangdi Hydroelectric Power Plant Nepal   \n",
       "14536     NPL  Middle Marsyangdi Hydroelectric Power Plant Nepal   \n",
       "14537     NPL         Modi Khola Hydroelectric Power Plant Nepal   \n",
       "14538     NPL            Sunkosi Hydroelectric Power Plant Nepal   \n",
       "14539     NPL           Trishuli Hydroelectric Power Plant Nepal   \n",
       "\n",
       "          gppd_idnr  capacity_mw  latitude  longitude primary_fuel  \\\n",
       "14528  GEODB0040476        45.00   27.9388    85.9450        Hydro   \n",
       "14529  GEODB0040484        14.10   27.9212    85.1462        Hydro   \n",
       "14530  GEODB0044203        15.00   27.4268    83.7918        Hydro   \n",
       "14531  GEODB0040475       144.00   27.9760    83.5680        Hydro   \n",
       "14532  GEODB0040485        60.00   27.5500    86.1690        Hydro   \n",
       "14533  GEODB0040480        60.00   27.5900    85.1550        Hydro   \n",
       "14534  GEODB0040482        32.00   27.5090    85.0519        Hydro   \n",
       "14535  GEODB0040477        69.00   27.9262    84.4965        Hydro   \n",
       "14536  GEODB0040478        70.00   28.1890    84.4195        Hydro   \n",
       "14537  GEODB0043974        14.80   28.2720    83.7411        Hydro   \n",
       "14538  GEODB0044207        10.05   27.7806    85.9170        Hydro   \n",
       "14539  GEODB0040483        24.00   27.9629    85.1707        Hydro   \n",
       "\n",
       "      other_fuel1 other_fuel2 other_fuel3  ...  source year_of_capacity_data  \\\n",
       "14528         NaN         NaN         NaN  ...   GEODB                2017.0   \n",
       "14529         NaN         NaN         NaN  ...   GEODB                2017.0   \n",
       "14530         NaN         NaN         NaN  ...   GEODB                2017.0   \n",
       "14531         NaN         NaN         NaN  ...   GEODB                2017.0   \n",
       "14532         NaN         NaN         NaN  ...   GEODB                2017.0   \n",
       "14533         NaN         NaN         NaN  ...   GEODB                2017.0   \n",
       "14534         NaN         NaN         NaN  ...   GEODB                2017.0   \n",
       "14535         NaN         NaN         NaN  ...   GEODB                2017.0   \n",
       "14536         NaN         NaN         NaN  ...   GEODB                2017.0   \n",
       "14537         NaN         NaN         NaN  ...   GEODB                2017.0   \n",
       "14538         NaN         NaN         NaN  ...   GEODB                2017.0   \n",
       "14539         NaN         NaN         NaN  ...   GEODB                2017.0   \n",
       "\n",
       "      generation_gwh_2013  generation_gwh_2014  generation_gwh_2015  \\\n",
       "14528                 NaN                  NaN                  NaN   \n",
       "14529                 NaN                  NaN                  NaN   \n",
       "14530                 NaN                  NaN                  NaN   \n",
       "14531                 NaN                  NaN                  NaN   \n",
       "14532                 NaN                  NaN                  NaN   \n",
       "14533                 NaN                  NaN                  NaN   \n",
       "14534                 NaN                  NaN                  NaN   \n",
       "14535                 NaN                  NaN                  NaN   \n",
       "14536                 NaN                  NaN                  NaN   \n",
       "14537                 NaN                  NaN                  NaN   \n",
       "14538                 NaN                  NaN                  NaN   \n",
       "14539                 NaN                  NaN                  NaN   \n",
       "\n",
       "       generation_gwh_2016  generation_gwh_2017  estimated_generation_gwh  \\\n",
       "14528                  NaN                  NaN                305.591899   \n",
       "14529                  NaN                  NaN                 95.752128   \n",
       "14530                  NaN                  NaN                101.863966   \n",
       "14531                  NaN                  NaN                977.894077   \n",
       "14532                  NaN                  NaN                407.455865   \n",
       "14533                  NaN                  NaN                407.455865   \n",
       "14534                  NaN                  NaN                217.309795   \n",
       "14535                  NaN                  NaN                468.574245   \n",
       "14536                  NaN                  NaN                475.365176   \n",
       "14537                  NaN                  NaN                100.505780   \n",
       "14538                  NaN                  NaN                 68.248857   \n",
       "14539                  NaN                  NaN                162.982346   \n",
       "\n",
       "       avg_annual_output  green  \n",
       "14528         305.591899      1  \n",
       "14529          95.752128      1  \n",
       "14530         101.863966      1  \n",
       "14531         977.894077      1  \n",
       "14532         407.455865      1  \n",
       "14533         407.455865      1  \n",
       "14534         217.309795      1  \n",
       "14535         468.574245      1  \n",
       "14536         475.365176      1  \n",
       "14537         100.505780      1  \n",
       "14538          68.248857      1  \n",
       "14539         162.982346      1  \n",
       "\n",
       "[12 rows x 22 columns]"
      ]
     },
     "execution_count": 17,
     "metadata": {},
     "output_type": "execute_result"
    }
   ],
   "source": [
    "# checking the original dataset\n",
    "masknpl = df_all['country'] == 'NPL'\n",
    "npl = df_all[masknpl]\n",
    "npl"
   ]
  },
  {
   "cell_type": "code",
   "execution_count": 18,
   "metadata": {
    "scrolled": true
   },
   "outputs": [
    {
     "data": {
      "text/plain": [
       "country        53\n",
       "green_ratio    46\n",
       "dtype: int64"
      ]
     },
     "execution_count": 18,
     "metadata": {},
     "output_type": "execute_result"
    }
   ],
   "source": [
    "#53 countries with green ratio of >= 50\n",
    "totalratiocountry[totalratiocountry['green_ratio']>=50].nunique()"
   ]
  },
  {
   "cell_type": "markdown",
   "metadata": {},
   "source": [
    "**Interpretation:** We see that while there are countries with 100% green ratio and 53 countries with green ration of >= 50%, the total green ratio for all power plants in the data set is only apprx. 33.6%."
   ]
  },
  {
   "cell_type": "markdown",
   "metadata": {},
   "source": [
    "## 4. Ratio green energy capacity over all capacity (per country)"
   ]
  },
  {
   "cell_type": "code",
   "execution_count": 19,
   "metadata": {},
   "outputs": [
    {
     "data": {
      "text/plain": [
       "<BarContainer object of 164 artists>"
      ]
     },
     "execution_count": 19,
     "metadata": {},
     "output_type": "execute_result"
    },
    {
     "data": {
      "image/png": "[encoded data removed]",
      "text/plain": [
       "<Figure size 576x396 with 1 Axes>"
      ]
     },
     "metadata": {},
     "output_type": "display_data"
    }
   ],
   "source": [
    "trcapacity = df_all_green_g['capacity_mw'].sum()*100/df_all_g['capacity_mw'].sum()\n",
    "# https://stackoverflow.com/questions/40224319/pandas-series-to-dataframe-using-series-indexes-as-columns\n",
    "trcapacity=trcapacity.to_frame()\n",
    "trcapacity.reset_index(inplace=True)\n",
    "trcapacity = trcapacity.sort_values('capacity_mw', ascending=False)\n",
    "trcapacity = trcapacity.rename(columns={'capacity_mw':'green_ratio_capacity'})\n",
    "plt.bar(trcapacity['country'],trcapacity['green_ratio_capacity'])"
   ]
  },
  {
   "cell_type": "code",
   "execution_count": 20,
   "metadata": {
    "scrolled": true
   },
   "outputs": [
    {
     "name": "stdout",
     "output_type": "stream",
     "text": [
      "    country  green_ratio_capacity\n",
      "22      BTN                 100.0\n",
      "101     MLI                 100.0\n",
      "26      CHE                 100.0\n",
      "105     MOZ                 100.0\n",
      "50      ETH                 100.0\n",
      "127     PRY                 100.0\n",
      "142     SWZ                 100.0\n",
      "74      ISL                 100.0\n",
      "116     NPL                 100.0\n",
      "10      BDI                 100.0\n",
      "92      LSO                 100.0\n"
     ]
    }
   ],
   "source": [
    "# Bhutan, Mali, Zwitzerland, Mozambique, Ethiopia, Paraguay, Eswatini, Iceland, Nepal, Burundi, Lesotho have \n",
    "# green capacity ratio of 100! # (Googled the country codes)\n",
    "print(trcapacity[trcapacity['green_ratio_capacity']==100])"
   ]
  },
  {
   "cell_type": "markdown",
   "metadata": {},
   "source": [
    "**Interpretation:** The results are similar to the results above with calculations on the estimated average. It is surprising, however, that some countries (Bhutan, Mali and Lesotho) with 100% green capacity ratio do not have 100% estimated output ratio. A quick check, however, shows that this is because all energy output values are 'NaN' for Bhutan, Mali and Lesotho."
   ]
  },
  {
   "cell_type": "markdown",
   "metadata": {},
   "source": [
    "# Maps on full dataset"
   ]
  },
  {
   "cell_type": "code",
   "execution_count": 21,
   "metadata": {},
   "outputs": [],
   "source": [
    "#fig = px.scatter_geo(df_all,\n",
    "#                    lat=df_all[\"latitude\"],\n",
    "#                    lon=df_all[\"longitude\"],\n",
    "#                    hover_name=df_all[\"name\"],\n",
    "#                    color = df_all[\"primary_fuel\"])\n",
    "#fig.show(#)"
   ]
  },
  {
   "cell_type": "code",
   "execution_count": 22,
   "metadata": {},
   "outputs": [],
   "source": [
    "#df = df.groupby(['country', 'primary_fuel'], as_index = False)[[\"capacity_mw\"]].sum() # groups countries by primary fuel types along with their aggregate capacity\n",
    "#df = df.sort_values(['country','capacity_mw'], ascending = [True, False], ignore_index = True) # sorts countries by maximum capacity for each fuel type\n",
    "#df = df.drop_duplicates(subset=['country'], keep='first', ignore_index = True) # only keeps the fuel type with highest maximum capacity\n",
    "#df\n",
    "\n",
    "df_pf = (df_all.groupby(['country', 'primary_fuel'], as_index = False)[[\"capacity_mw\"]].sum()\n",
    "        .sort_values(['country','capacity_mw'], ascending = [True, False], ignore_index = True)\n",
    "        .drop_duplicates(subset=['country'], keep='first', ignore_index = True))"
   ]
  },
  {
   "cell_type": "code",
   "execution_count": 23,
   "metadata": {},
   "outputs": [],
   "source": [
    "\n",
    "# Try with dictionary???\n",
    "colors = {'Solar':'yellow', \n",
    "          'Gas':'lightgreen', \n",
    "          'Oil':'olive', \n",
    "          'Wind':'cyan', \n",
    "          'Hydro':'blue', \n",
    "          'Coal':'black', \n",
    "          'Biomass':'green', \n",
    "          'Waste':'brown', \n",
    "          'Cogeneration':'bisque', \n",
    "          'Geothermal':'red', \n",
    "          'Nuclear':'orange', \n",
    "          'Petcoke':'teal', \n",
    "          'Other':'grey', \n",
    "          'Storage':'lime'}\n",
    "\n",
    "\n",
    "# plots the countries based on the most used primary fuel types\n",
    "#fig = px.choropleth(df_pf, locations=df_pf[\"country\"],\n",
    "#                    hover_name=df_pf[\"country\"],\n",
    "#                    color = df_pf[\"primary_fuel\"],\n",
    "#                    color_continuous_scale=px.colors.sequential.Plasma)\n",
    "#fig.show()"
   ]
  },
  {
   "cell_type": "code",
   "execution_count": 24,
   "metadata": {},
   "outputs": [],
   "source": [
    "#fig = px.scatter_geo(df,\n",
    "#                    lat=df[\"latitude\"],\n",
    "#                    lon=df[\"longitude\"],\n",
    "#                    hover_name=df[\"name\"],\n",
    "#                    color = df[\"primary_fuel\"])\n",
    "#fig.show()"
   ]
  },
  {
   "cell_type": "markdown",
   "metadata": {},
   "source": [
    "# Complete Time Series Analysis"
   ]
  },
  {
   "cell_type": "markdown",
   "metadata": {},
   "source": [
    "## 1. Comparison by Year: Boxplot"
   ]
  },
  {
   "cell_type": "code",
   "execution_count": 25,
   "metadata": {
    "scrolled": true
   },
   "outputs": [
    {
     "data": {
      "text/html": [
       "<div>\n",
       "<style scoped>\n",
       "    .dataframe tbody tr th:only-of-type {\n",
       "        vertical-align: middle;\n",
       "    }\n",
       "\n",
       "    .dataframe tbody tr th {\n",
       "        vertical-align: top;\n",
       "    }\n",
       "\n",
       "    .dataframe thead th {\n",
       "        text-align: right;\n",
       "    }\n",
       "</style>\n",
       "<table border=\"1\" class=\"dataframe\">\n",
       "  <thead>\n",
       "    <tr style=\"text-align: right;\">\n",
       "      <th></th>\n",
       "      <th>generation_gwh_2013</th>\n",
       "      <th>generation_gwh_2014</th>\n",
       "      <th>generation_gwh_2015</th>\n",
       "      <th>generation_gwh_2016</th>\n",
       "      <th>generation_gwh_2017</th>\n",
       "    </tr>\n",
       "  </thead>\n",
       "  <tbody>\n",
       "    <tr>\n",
       "      <th>count</th>\n",
       "      <td>6817.000000</td>\n",
       "      <td>6817.000000</td>\n",
       "      <td>6817.000000</td>\n",
       "      <td>6817.000000</td>\n",
       "      <td>6817.000000</td>\n",
       "    </tr>\n",
       "    <tr>\n",
       "      <th>mean</th>\n",
       "      <td>685.020952</td>\n",
       "      <td>688.554481</td>\n",
       "      <td>698.562305</td>\n",
       "      <td>676.278993</td>\n",
       "      <td>726.536342</td>\n",
       "    </tr>\n",
       "    <tr>\n",
       "      <th>std</th>\n",
       "      <td>2261.173937</td>\n",
       "      <td>2294.095823</td>\n",
       "      <td>2304.707671</td>\n",
       "      <td>2279.047703</td>\n",
       "      <td>2341.640875</td>\n",
       "    </tr>\n",
       "    <tr>\n",
       "      <th>min</th>\n",
       "      <td>-947.600000</td>\n",
       "      <td>-989.619000</td>\n",
       "      <td>-864.428000</td>\n",
       "      <td>-768.620000</td>\n",
       "      <td>-934.944000</td>\n",
       "    </tr>\n",
       "    <tr>\n",
       "      <th>25%</th>\n",
       "      <td>2.200000</td>\n",
       "      <td>2.632000</td>\n",
       "      <td>2.511000</td>\n",
       "      <td>2.490000</td>\n",
       "      <td>4.348000</td>\n",
       "    </tr>\n",
       "    <tr>\n",
       "      <th>50%</th>\n",
       "      <td>27.118000</td>\n",
       "      <td>26.836320</td>\n",
       "      <td>26.576000</td>\n",
       "      <td>25.858000</td>\n",
       "      <td>36.726000</td>\n",
       "    </tr>\n",
       "    <tr>\n",
       "      <th>75%</th>\n",
       "      <td>250.443889</td>\n",
       "      <td>247.330068</td>\n",
       "      <td>251.239000</td>\n",
       "      <td>246.354000</td>\n",
       "      <td>283.000000</td>\n",
       "    </tr>\n",
       "    <tr>\n",
       "      <th>max</th>\n",
       "      <td>31431.080000</td>\n",
       "      <td>32320.917000</td>\n",
       "      <td>32525.595000</td>\n",
       "      <td>32377.477000</td>\n",
       "      <td>35116.000000</td>\n",
       "    </tr>\n",
       "  </tbody>\n",
       "</table>\n",
       "</div>"
      ],
      "text/plain": [
       "       generation_gwh_2013  generation_gwh_2014  generation_gwh_2015  \\\n",
       "count          6817.000000          6817.000000          6817.000000   \n",
       "mean            685.020952           688.554481           698.562305   \n",
       "std            2261.173937          2294.095823          2304.707671   \n",
       "min            -947.600000          -989.619000          -864.428000   \n",
       "25%               2.200000             2.632000             2.511000   \n",
       "50%              27.118000            26.836320            26.576000   \n",
       "75%             250.443889           247.330068           251.239000   \n",
       "max           31431.080000         32320.917000         32525.595000   \n",
       "\n",
       "       generation_gwh_2016  generation_gwh_2017  \n",
       "count          6817.000000          6817.000000  \n",
       "mean            676.278993           726.536342  \n",
       "std            2279.047703          2341.640875  \n",
       "min            -768.620000          -934.944000  \n",
       "25%               2.490000             4.348000  \n",
       "50%              25.858000            36.726000  \n",
       "75%             246.354000           283.000000  \n",
       "max           32377.477000         35116.000000  "
      ]
     },
     "execution_count": 25,
     "metadata": {},
     "output_type": "execute_result"
    }
   ],
   "source": [
    "annual_output(df_ts_complete)\n",
    "dfc=df_ts_complete[[\"generation_gwh_2013\",\"generation_gwh_2014\",\"generation_gwh_2015\",\"generation_gwh_2016\",\"generation_gwh_2017\"]]\n",
    "dfc.describe()"
   ]
  },
  {
   "cell_type": "code",
   "execution_count": 26,
   "metadata": {
    "scrolled": true
   },
   "outputs": [
    {
     "data": {
      "text/html": [
       "<div>\n",
       "<style scoped>\n",
       "    .dataframe tbody tr th:only-of-type {\n",
       "        vertical-align: middle;\n",
       "    }\n",
       "\n",
       "    .dataframe tbody tr th {\n",
       "        vertical-align: top;\n",
       "    }\n",
       "\n",
       "    .dataframe thead th {\n",
       "        text-align: right;\n",
       "    }\n",
       "</style>\n",
       "<table border=\"1\" class=\"dataframe\">\n",
       "  <thead>\n",
       "    <tr style=\"text-align: right;\">\n",
       "      <th></th>\n",
       "      <th>generation_gwh_2013</th>\n",
       "      <th>generation_gwh_2014</th>\n",
       "      <th>generation_gwh_2015</th>\n",
       "      <th>generation_gwh_2016</th>\n",
       "      <th>generation_gwh_2017</th>\n",
       "    </tr>\n",
       "  </thead>\n",
       "  <tbody>\n",
       "    <tr>\n",
       "      <th>generation_gwh_2013</th>\n",
       "      <td>1.000000</td>\n",
       "      <td>0.962601</td>\n",
       "      <td>0.940071</td>\n",
       "      <td>0.913186</td>\n",
       "      <td>0.920023</td>\n",
       "    </tr>\n",
       "    <tr>\n",
       "      <th>generation_gwh_2014</th>\n",
       "      <td>0.962601</td>\n",
       "      <td>1.000000</td>\n",
       "      <td>0.972677</td>\n",
       "      <td>0.945576</td>\n",
       "      <td>0.932240</td>\n",
       "    </tr>\n",
       "    <tr>\n",
       "      <th>generation_gwh_2015</th>\n",
       "      <td>0.940071</td>\n",
       "      <td>0.972677</td>\n",
       "      <td>1.000000</td>\n",
       "      <td>0.967203</td>\n",
       "      <td>0.950799</td>\n",
       "    </tr>\n",
       "    <tr>\n",
       "      <th>generation_gwh_2016</th>\n",
       "      <td>0.913186</td>\n",
       "      <td>0.945576</td>\n",
       "      <td>0.967203</td>\n",
       "      <td>1.000000</td>\n",
       "      <td>0.954612</td>\n",
       "    </tr>\n",
       "    <tr>\n",
       "      <th>generation_gwh_2017</th>\n",
       "      <td>0.920023</td>\n",
       "      <td>0.932240</td>\n",
       "      <td>0.950799</td>\n",
       "      <td>0.954612</td>\n",
       "      <td>1.000000</td>\n",
       "    </tr>\n",
       "  </tbody>\n",
       "</table>\n",
       "</div>"
      ],
      "text/plain": [
       "                     generation_gwh_2013  generation_gwh_2014  \\\n",
       "generation_gwh_2013             1.000000             0.962601   \n",
       "generation_gwh_2014             0.962601             1.000000   \n",
       "generation_gwh_2015             0.940071             0.972677   \n",
       "generation_gwh_2016             0.913186             0.945576   \n",
       "generation_gwh_2017             0.920023             0.932240   \n",
       "\n",
       "                     generation_gwh_2015  generation_gwh_2016  \\\n",
       "generation_gwh_2013             0.940071             0.913186   \n",
       "generation_gwh_2014             0.972677             0.945576   \n",
       "generation_gwh_2015             1.000000             0.967203   \n",
       "generation_gwh_2016             0.967203             1.000000   \n",
       "generation_gwh_2017             0.950799             0.954612   \n",
       "\n",
       "                     generation_gwh_2017  \n",
       "generation_gwh_2013             0.920023  \n",
       "generation_gwh_2014             0.932240  \n",
       "generation_gwh_2015             0.950799  \n",
       "generation_gwh_2016             0.954612  \n",
       "generation_gwh_2017             1.000000  "
      ]
     },
     "execution_count": 26,
     "metadata": {},
     "output_type": "execute_result"
    }
   ],
   "source": [
    "dfc.corr()"
   ]
  },
  {
   "cell_type": "markdown",
   "metadata": {},
   "source": [
    "**Boxplots with outliers:**"
   ]
  },
  {
   "cell_type": "code",
   "execution_count": 27,
   "metadata": {},
   "outputs": [
    {
     "data": {
      "text/plain": [
       "Text(0, 0.5, 'Energy output (in GWh)')"
      ]
     },
     "execution_count": 27,
     "metadata": {},
     "output_type": "execute_result"
    },
    {
     "data": {
      "image/png": "[encoded data removed]",
      "text/plain": [
       "<Figure size 576x396 with 1 Axes>"
      ]
     },
     "metadata": {},
     "output_type": "display_data"
    }
   ],
   "source": [
    "# https://stackoverflow.com/questions/11285613/selecting-multiple-columns-in-a-pandas-dataframe\n",
    "# https://stackoverflow.com/questions/49554139/boxplot-of-multiple-columns-of-a-pandas-dataframe-on-the-same-figure-seaborn\n",
    "dfc.boxplot(showfliers=True) # https://matplotlib.org/stable/api/_as_gen/matplotlib.pyplot.boxplot.html\n",
    "plt.xticks([1,2,3,4,5], [2013,2014,2015,2016,2017])\n",
    "plt.xlabel(\"Year\")\n",
    "plt.ylabel(\"Energy output (in GWh)\")"
   ]
  },
  {
   "cell_type": "markdown",
   "metadata": {},
   "source": [
    "**Boxplots without outliers:**"
   ]
  },
  {
   "cell_type": "code",
   "execution_count": 28,
   "metadata": {
    "scrolled": true
   },
   "outputs": [
    {
     "data": {
      "text/plain": [
       "Text(0, 0.5, 'Energy output (in GWh)')"
      ]
     },
     "execution_count": 28,
     "metadata": {},
     "output_type": "execute_result"
    },
    {
     "data": {
      "image/png": "[encoded data removed]",
      "text/plain": [
       "<Figure size 576x396 with 1 Axes>"
      ]
     },
     "metadata": {},
     "output_type": "display_data"
    }
   ],
   "source": [
    "# https://stackoverflow.com/questions/11285613/selecting-multiple-columns-in-a-pandas-dataframe\n",
    "# https://stackoverflow.com/questions/49554139/boxplot-of-multiple-columns-of-a-pandas-dataframe-on-the-same-figure-seaborn\n",
    "dfc.boxplot(showfliers=False) # https://matplotlib.org/stable/api/_as_gen/matplotlib.pyplot.boxplot.html\n",
    "plt.xticks([1,2,3,4,5], [2013,2014,2015,2016,2017])\n",
    "plt.xlabel(\"Year\")\n",
    "plt.ylabel(\"Energy output (in GWh)\")"
   ]
  },
  {
   "cell_type": "markdown",
   "metadata": {},
   "source": [
    "**Interpretation:** It seems like there is a slight rise in energy production from 2013 to 2017, judging by the mean and max values above. However, the boxplots do not seem to show a significant difference. So, is there an increase in energy output throughout the years? Let's use ANOVA hypothesis testing as outlined in the hypothesis testing lecture from the Data Analysis course. So the null hypothesis is that the mean is similar for all 5 years (2013,2014,2015,2016 and 2017). And the alternative hypothesis is that there is a difference between the means."
   ]
  },
  {
   "cell_type": "markdown",
   "metadata": {},
   "source": [
    "## 2. Hypothesis Testing"
   ]
  },
  {
   "cell_type": "markdown",
   "metadata": {},
   "source": [
    "### All"
   ]
  },
  {
   "cell_type": "code",
   "execution_count": 29,
   "metadata": {},
   "outputs": [
    {
     "data": {
      "text/plain": [
       "F_onewayResult(statistic=0.48443102568775964, pvalue=0.7472116879358542)"
      ]
     },
     "execution_count": 29,
     "metadata": {},
     "output_type": "execute_result"
    }
   ],
   "source": [
    "from scipy.stats import f_oneway\n",
    "f_oneway(dfc[\"generation_gwh_2013\"],dfc[\"generation_gwh_2014\"],dfc[\"generation_gwh_2015\"],dfc[\"generation_gwh_2016\"],dfc[\"generation_gwh_2017\"])"
   ]
  },
  {
   "cell_type": "markdown",
   "metadata": {},
   "source": [
    "**Interpretation:** We see that the p-value is quite high, and definitely bigger than the standard 0.05 value. Therefore, we can conclude that the difference in the means between years is most likely due to chance, and that the difference in the means between years is not statistically significant. Let's see if there is a difference year-by-year using the t-test, as outlined in the hypothesis testing lecture from the Data Analysis course:"
   ]
  },
  {
   "cell_type": "code",
   "execution_count": 30,
   "metadata": {},
   "outputs": [
    {
     "name": "stdout",
     "output_type": "stream",
     "text": [
      "-0.09057218720579535 0.9278338631635166\n"
     ]
    }
   ],
   "source": [
    "from scipy.stats import ttest_ind\n",
    "t34, pval34 = ttest_ind(dfc[\"generation_gwh_2013\"],dfc[\"generation_gwh_2014\"])\n",
    "print(t34, pval34)"
   ]
  },
  {
   "cell_type": "code",
   "execution_count": 31,
   "metadata": {},
   "outputs": [
    {
     "name": "stdout",
     "output_type": "stream",
     "text": [
      "-0.25410037001138785 0.7994218499512872\n"
     ]
    }
   ],
   "source": [
    "t45, pval45= ttest_ind(dfc[\"generation_gwh_2014\"],dfc[\"generation_gwh_2015\"])\n",
    "print(t45, pval45)"
   ]
  },
  {
   "cell_type": "code",
   "execution_count": 32,
   "metadata": {},
   "outputs": [
    {
     "name": "stdout",
     "output_type": "stream",
     "text": [
      "0.5676271408477459 0.5702975217343101\n"
     ]
    }
   ],
   "source": [
    "t56, pval56 = ttest_ind(dfc[\"generation_gwh_2015\"],dfc[\"generation_gwh_2016\"])\n",
    "print(t56, pval56)"
   ]
  },
  {
   "cell_type": "code",
   "execution_count": 33,
   "metadata": {
    "scrolled": true
   },
   "outputs": [
    {
     "name": "stdout",
     "output_type": "stream",
     "text": [
      "-1.2698858284702281 0.20414697778985053\n"
     ]
    }
   ],
   "source": [
    "t67, pval67 = ttest_ind(dfc[\"generation_gwh_2016\"],dfc[\"generation_gwh_2017\"])\n",
    "print(t67, pval67)"
   ]
  },
  {
   "cell_type": "markdown",
   "metadata": {},
   "source": [
    "**Interpretation:** There does not seem to be a significant difference as all p-values are higher than 0.05. The p-value steadily decrease with years, though. Now, it would be interesting to look specifically at Solar and Wind energy outputs, as from the plots above we see that there have been quite a lot of new power plants of these fuel types."
   ]
  },
  {
   "cell_type": "markdown",
   "metadata": {},
   "source": [
    "### Solar and Wind only"
   ]
  },
  {
   "cell_type": "code",
   "execution_count": 34,
   "metadata": {},
   "outputs": [
    {
     "data": {
      "text/html": [
       "<div>\n",
       "<style scoped>\n",
       "    .dataframe tbody tr th:only-of-type {\n",
       "        vertical-align: middle;\n",
       "    }\n",
       "\n",
       "    .dataframe tbody tr th {\n",
       "        vertical-align: top;\n",
       "    }\n",
       "\n",
       "    .dataframe thead th {\n",
       "        text-align: right;\n",
       "    }\n",
       "</style>\n",
       "<table border=\"1\" class=\"dataframe\">\n",
       "  <thead>\n",
       "    <tr style=\"text-align: right;\">\n",
       "      <th></th>\n",
       "      <th>generation_gwh_2013</th>\n",
       "      <th>generation_gwh_2014</th>\n",
       "      <th>generation_gwh_2015</th>\n",
       "      <th>generation_gwh_2016</th>\n",
       "      <th>generation_gwh_2017</th>\n",
       "    </tr>\n",
       "  </thead>\n",
       "  <tbody>\n",
       "    <tr>\n",
       "      <th>count</th>\n",
       "      <td>614.000000</td>\n",
       "      <td>614.000000</td>\n",
       "      <td>614.000000</td>\n",
       "      <td>614.000000</td>\n",
       "      <td>614.000000</td>\n",
       "    </tr>\n",
       "    <tr>\n",
       "      <th>mean</th>\n",
       "      <td>14.176807</td>\n",
       "      <td>23.480800</td>\n",
       "      <td>25.716058</td>\n",
       "      <td>25.673569</td>\n",
       "      <td>25.304770</td>\n",
       "    </tr>\n",
       "    <tr>\n",
       "      <th>std</th>\n",
       "      <td>45.808663</td>\n",
       "      <td>86.351426</td>\n",
       "      <td>97.053440</td>\n",
       "      <td>95.958802</td>\n",
       "      <td>95.268087</td>\n",
       "    </tr>\n",
       "    <tr>\n",
       "      <th>min</th>\n",
       "      <td>-0.116000</td>\n",
       "      <td>-0.064000</td>\n",
       "      <td>0.000000</td>\n",
       "      <td>0.000000</td>\n",
       "      <td>-0.394000</td>\n",
       "    </tr>\n",
       "    <tr>\n",
       "      <th>25%</th>\n",
       "      <td>1.648575</td>\n",
       "      <td>2.133587</td>\n",
       "      <td>2.145498</td>\n",
       "      <td>2.269750</td>\n",
       "      <td>2.084500</td>\n",
       "    </tr>\n",
       "    <tr>\n",
       "      <th>50%</th>\n",
       "      <td>2.812500</td>\n",
       "      <td>3.854000</td>\n",
       "      <td>4.003000</td>\n",
       "      <td>4.190500</td>\n",
       "      <td>3.851500</td>\n",
       "    </tr>\n",
       "    <tr>\n",
       "      <th>75%</th>\n",
       "      <td>8.333750</td>\n",
       "      <td>10.263250</td>\n",
       "      <td>10.188000</td>\n",
       "      <td>10.652750</td>\n",
       "      <td>10.362750</td>\n",
       "    </tr>\n",
       "    <tr>\n",
       "      <th>max</th>\n",
       "      <td>675.525000</td>\n",
       "      <td>1105.857000</td>\n",
       "      <td>1301.337000</td>\n",
       "      <td>1265.760000</td>\n",
       "      <td>1237.532000</td>\n",
       "    </tr>\n",
       "  </tbody>\n",
       "</table>\n",
       "</div>"
      ],
      "text/plain": [
       "       generation_gwh_2013  generation_gwh_2014  generation_gwh_2015  \\\n",
       "count           614.000000           614.000000           614.000000   \n",
       "mean             14.176807            23.480800            25.716058   \n",
       "std              45.808663            86.351426            97.053440   \n",
       "min              -0.116000            -0.064000             0.000000   \n",
       "25%               1.648575             2.133587             2.145498   \n",
       "50%               2.812500             3.854000             4.003000   \n",
       "75%               8.333750            10.263250            10.188000   \n",
       "max             675.525000          1105.857000          1301.337000   \n",
       "\n",
       "       generation_gwh_2016  generation_gwh_2017  \n",
       "count           614.000000           614.000000  \n",
       "mean             25.673569            25.304770  \n",
       "std              95.958802            95.268087  \n",
       "min               0.000000            -0.394000  \n",
       "25%               2.269750             2.084500  \n",
       "50%               4.190500             3.851500  \n",
       "75%              10.652750            10.362750  \n",
       "max            1265.760000          1237.532000  "
      ]
     },
     "execution_count": 34,
     "metadata": {},
     "output_type": "execute_result"
    }
   ],
   "source": [
    "dfc1=df_ts_complete[[\"primary_fuel\",\"generation_gwh_2013\",\"generation_gwh_2014\",\"generation_gwh_2015\",\"generation_gwh_2016\",\"generation_gwh_2017\"]]\n",
    "solar= dfc1[dfc1[\"primary_fuel\"].str.contains('Solar')==True] \n",
    "solar.describe()"
   ]
  },
  {
   "cell_type": "code",
   "execution_count": 35,
   "metadata": {},
   "outputs": [
    {
     "data": {
      "text/plain": [
       "F_onewayResult(statistic=2.01529196320594, pvalue=0.0896483294449274)"
      ]
     },
     "execution_count": 35,
     "metadata": {},
     "output_type": "execute_result"
    }
   ],
   "source": [
    "from scipy.stats import f_oneway\n",
    "f_oneway(solar[\"generation_gwh_2013\"],solar[\"generation_gwh_2014\"],solar[\"generation_gwh_2015\"],solar[\"generation_gwh_2016\"],solar[\"generation_gwh_2017\"])"
   ]
  },
  {
   "cell_type": "markdown",
   "metadata": {},
   "source": [
    "**Interpretation:** The p-value is pretty small, but still a bit bigger than 0.05. Let's look year-by-year:"
   ]
  },
  {
   "cell_type": "code",
   "execution_count": 36,
   "metadata": {},
   "outputs": [
    {
     "name": "stdout",
     "output_type": "stream",
     "text": [
      "-2.3585122543025503 0.01850459918420546\n"
     ]
    }
   ],
   "source": [
    "t34, pval34 = ttest_ind(solar[\"generation_gwh_2013\"],solar[\"generation_gwh_2014\"])\n",
    "print(t34, pval34)"
   ]
  },
  {
   "cell_type": "code",
   "execution_count": 37,
   "metadata": {},
   "outputs": [
    {
     "name": "stdout",
     "output_type": "stream",
     "text": [
      "-0.4263614978350083 0.6699193003742298\n"
     ]
    }
   ],
   "source": [
    "t45, pval45= ttest_ind(solar[\"generation_gwh_2014\"],solar[\"generation_gwh_2015\"])\n",
    "print(t45, pval45)"
   ]
  },
  {
   "cell_type": "code",
   "execution_count": 38,
   "metadata": {},
   "outputs": [
    {
     "name": "stdout",
     "output_type": "stream",
     "text": [
      "0.007713999875312193 0.9938464346216915\n"
     ]
    }
   ],
   "source": [
    "t56, pval56 = ttest_ind(solar[\"generation_gwh_2015\"],solar[\"generation_gwh_2016\"])\n",
    "print(t56, pval56)"
   ]
  },
  {
   "cell_type": "code",
   "execution_count": 39,
   "metadata": {},
   "outputs": [
    {
     "name": "stdout",
     "output_type": "stream",
     "text": [
      "0.06758297931762636 0.9461286246538121\n"
     ]
    }
   ],
   "source": [
    "t67, pval67 = ttest_ind(solar[\"generation_gwh_2016\"],solar[\"generation_gwh_2017\"])\n",
    "print(t67, pval67)"
   ]
  },
  {
   "cell_type": "markdown",
   "metadata": {},
   "source": [
    "**Interpretation:** So only for 2013-2014, the difference in mean could have been statistically significant. This is interesting, considering how many new power plants there have been built in 2010-2017, and that the country which seems to be responsible for the spike in new solar power plants seem to be the US (which is included in the complete time series dataset). Let's not look at wind:"
   ]
  },
  {
   "cell_type": "code",
   "execution_count": 40,
   "metadata": {
    "scrolled": true
   },
   "outputs": [
    {
     "data": {
      "text/html": [
       "<div>\n",
       "<style scoped>\n",
       "    .dataframe tbody tr th:only-of-type {\n",
       "        vertical-align: middle;\n",
       "    }\n",
       "\n",
       "    .dataframe tbody tr th {\n",
       "        vertical-align: top;\n",
       "    }\n",
       "\n",
       "    .dataframe thead th {\n",
       "        text-align: right;\n",
       "    }\n",
       "</style>\n",
       "<table border=\"1\" class=\"dataframe\">\n",
       "  <thead>\n",
       "    <tr style=\"text-align: right;\">\n",
       "      <th></th>\n",
       "      <th>generation_gwh_2013</th>\n",
       "      <th>generation_gwh_2014</th>\n",
       "      <th>generation_gwh_2015</th>\n",
       "      <th>generation_gwh_2016</th>\n",
       "      <th>generation_gwh_2017</th>\n",
       "    </tr>\n",
       "  </thead>\n",
       "  <tbody>\n",
       "    <tr>\n",
       "      <th>count</th>\n",
       "      <td>815.000000</td>\n",
       "      <td>815.000000</td>\n",
       "      <td>815.000000</td>\n",
       "      <td>815.000000</td>\n",
       "      <td>815.000000</td>\n",
       "    </tr>\n",
       "    <tr>\n",
       "      <th>mean</th>\n",
       "      <td>212.506884</td>\n",
       "      <td>225.655921</td>\n",
       "      <td>209.646224</td>\n",
       "      <td>216.898017</td>\n",
       "      <td>211.177503</td>\n",
       "    </tr>\n",
       "    <tr>\n",
       "      <th>std</th>\n",
       "      <td>242.456165</td>\n",
       "      <td>259.101596</td>\n",
       "      <td>236.785529</td>\n",
       "      <td>245.592186</td>\n",
       "      <td>240.213925</td>\n",
       "    </tr>\n",
       "    <tr>\n",
       "      <th>min</th>\n",
       "      <td>0.000000</td>\n",
       "      <td>0.000000</td>\n",
       "      <td>0.000000</td>\n",
       "      <td>0.000000</td>\n",
       "      <td>0.000000</td>\n",
       "    </tr>\n",
       "    <tr>\n",
       "      <th>25%</th>\n",
       "      <td>24.775500</td>\n",
       "      <td>24.560000</td>\n",
       "      <td>23.010000</td>\n",
       "      <td>22.551000</td>\n",
       "      <td>21.528000</td>\n",
       "    </tr>\n",
       "    <tr>\n",
       "      <th>50%</th>\n",
       "      <td>136.132000</td>\n",
       "      <td>147.864000</td>\n",
       "      <td>140.907000</td>\n",
       "      <td>145.288000</td>\n",
       "      <td>144.709000</td>\n",
       "    </tr>\n",
       "    <tr>\n",
       "      <th>75%</th>\n",
       "      <td>332.800500</td>\n",
       "      <td>353.121000</td>\n",
       "      <td>326.288000</td>\n",
       "      <td>332.927500</td>\n",
       "      <td>319.801500</td>\n",
       "    </tr>\n",
       "    <tr>\n",
       "      <th>max</th>\n",
       "      <td>1983.817000</td>\n",
       "      <td>2309.100000</td>\n",
       "      <td>1965.895000</td>\n",
       "      <td>2159.583000</td>\n",
       "      <td>1972.964000</td>\n",
       "    </tr>\n",
       "  </tbody>\n",
       "</table>\n",
       "</div>"
      ],
      "text/plain": [
       "       generation_gwh_2013  generation_gwh_2014  generation_gwh_2015  \\\n",
       "count           815.000000           815.000000           815.000000   \n",
       "mean            212.506884           225.655921           209.646224   \n",
       "std             242.456165           259.101596           236.785529   \n",
       "min               0.000000             0.000000             0.000000   \n",
       "25%              24.775500            24.560000            23.010000   \n",
       "50%             136.132000           147.864000           140.907000   \n",
       "75%             332.800500           353.121000           326.288000   \n",
       "max            1983.817000          2309.100000          1965.895000   \n",
       "\n",
       "       generation_gwh_2016  generation_gwh_2017  \n",
       "count           815.000000           815.000000  \n",
       "mean            216.898017           211.177503  \n",
       "std             245.592186           240.213925  \n",
       "min               0.000000             0.000000  \n",
       "25%              22.551000            21.528000  \n",
       "50%             145.288000           144.709000  \n",
       "75%             332.927500           319.801500  \n",
       "max            2159.583000          1972.964000  "
      ]
     },
     "execution_count": 40,
     "metadata": {},
     "output_type": "execute_result"
    }
   ],
   "source": [
    "wind = dfc1[dfc1[\"primary_fuel\"].str.contains('Wind')==True] \n",
    "wind[\"primary_fuel\"].unique()\n",
    "wind.describe()"
   ]
  },
  {
   "cell_type": "code",
   "execution_count": 41,
   "metadata": {},
   "outputs": [
    {
     "data": {
      "text/plain": [
       "F_onewayResult(statistic=0.5653461294129226, pvalue=0.6878214078615505)"
      ]
     },
     "execution_count": 41,
     "metadata": {},
     "output_type": "execute_result"
    }
   ],
   "source": [
    "from scipy.stats import f_oneway\n",
    "f_oneway(wind[\"generation_gwh_2013\"],wind[\"generation_gwh_2014\"],wind[\"generation_gwh_2015\"],wind[\"generation_gwh_2016\"],wind[\"generation_gwh_2017\"])"
   ]
  },
  {
   "cell_type": "code",
   "execution_count": 42,
   "metadata": {},
   "outputs": [
    {
     "name": "stdout",
     "output_type": "stream",
     "text": [
      "-1.0578589477547202 0.29027669098917025\n"
     ]
    }
   ],
   "source": [
    "t34, pval34 = ttest_ind(wind[\"generation_gwh_2013\"],wind[\"generation_gwh_2014\"])\n",
    "print(t34, pval34)"
   ]
  },
  {
   "cell_type": "code",
   "execution_count": 43,
   "metadata": {},
   "outputs": [
    {
     "name": "stdout",
     "output_type": "stream",
     "text": [
      "1.3021312251271024 0.1930557239637976\n"
     ]
    }
   ],
   "source": [
    "t45, pval45= ttest_ind(wind[\"generation_gwh_2014\"],wind[\"generation_gwh_2015\"])\n",
    "print(t45, pval45)"
   ]
  },
  {
   "cell_type": "code",
   "execution_count": 44,
   "metadata": {},
   "outputs": [
    {
     "name": "stdout",
     "output_type": "stream",
     "text": [
      "-0.6068475692598173 0.5440366937343956\n"
     ]
    }
   ],
   "source": [
    "t56, pval56 = ttest_ind(wind[\"generation_gwh_2015\"],wind[\"generation_gwh_2016\"])\n",
    "print(t56, pval56)"
   ]
  },
  {
   "cell_type": "code",
   "execution_count": 45,
   "metadata": {},
   "outputs": [
    {
     "name": "stdout",
     "output_type": "stream",
     "text": [
      "0.47537824151956065 0.6345811733992572\n"
     ]
    }
   ],
   "source": [
    "t67, pval67 = ttest_ind(wind[\"generation_gwh_2016\"],wind[\"generation_gwh_2017\"])\n",
    "print(t67, pval67)"
   ]
  },
  {
   "cell_type": "markdown",
   "metadata": {},
   "source": [
    "**Interpretation:** Not statistically significant."
   ]
  },
  {
   "cell_type": "markdown",
   "metadata": {},
   "source": [
    "## 3. Stacked barplot energy output per fuel type (separate for each country)"
   ]
  },
  {
   "cell_type": "code",
   "execution_count": 46,
   "metadata": {},
   "outputs": [],
   "source": [
    "dfc2=df_ts_complete[[\"country\",\"primary_fuel\",\"generation_gwh_2013\",\"generation_gwh_2014\",\"generation_gwh_2015\",\"generation_gwh_2016\",\"generation_gwh_2017\"]]\n",
    "aus = dfc2[dfc2[\"country\"].str.contains('AUS')==True] \n",
    "ind = dfc2[dfc2[\"country\"].str.contains('IND')==True] \n",
    "usa = dfc2[dfc2[\"country\"].str.contains('USA')==True] \n",
    "ausfuel = aus.groupby(\"primary_fuel\")\n",
    "\n",
    "# https://towardsdatascience.com/pandas-groupby-aggregate-transform-filter-c95ba3444bbb\n",
    "ausfuel = ausfuel.agg(**{'generation_2013_sum': pd.NamedAgg(column='generation_gwh_2013', aggfunc='sum'), 'generation_2014_sum': pd.NamedAgg(column='generation_gwh_2014', aggfunc='sum'),'generation_2015_sum': pd.NamedAgg(column='generation_gwh_2015', aggfunc='sum'),'generation_2016_sum': pd.NamedAgg(column='generation_gwh_2016', aggfunc='sum'),'generation_2017_sum': pd.NamedAgg(column='generation_gwh_2017', aggfunc='sum')})\n",
    "ausfuel = ausfuel.sort_values(by='generation_2013_sum', ascending = False)\n",
    "ausfuel = ausfuel.transpose() # https://pandas.pydata.org/pandas-docs/stable/reference/api/pandas.DataFrame.transpose.html\n",
    "ausfuel = ausfuel.reset_index()\n",
    "\n",
    "indfuel = ind.groupby(\"primary_fuel\")\n",
    "# https://towardsdatascience.com/pandas-groupby-aggregate-transform-filter-c95ba3444bbb\n",
    "indfuel = indfuel.agg(**{'generation_2013_sum': pd.NamedAgg(column='generation_gwh_2013', aggfunc='sum'), 'generation_2014_sum': pd.NamedAgg(column='generation_gwh_2014', aggfunc='sum'),'generation_2015_sum': pd.NamedAgg(column='generation_gwh_2015', aggfunc='sum'),'generation_2016_sum': pd.NamedAgg(column='generation_gwh_2016', aggfunc='sum'),'generation_2017_sum': pd.NamedAgg(column='generation_gwh_2017', aggfunc='sum')})\n",
    "indfuel = indfuel.sort_values(by='generation_2013_sum', ascending = False)\n",
    "indfuel = indfuel.transpose() # https://pandas.pydata.org/pandas-docs/stable/reference/api/pandas.DataFrame.transpose.html\n",
    "indfuel = indfuel.reset_index()\n",
    "\n",
    "usafuel = usa.groupby(\"primary_fuel\")\n",
    "# https://towardsdatascience.com/pandas-groupby-aggregate-transform-filter-c95ba3444bbb\n",
    "usafuel = usafuel.agg(**{'generation_2013_sum': pd.NamedAgg(column='generation_gwh_2013', aggfunc='sum'), 'generation_2014_sum': pd.NamedAgg(column='generation_gwh_2014', aggfunc='sum'),'generation_2015_sum': pd.NamedAgg(column='generation_gwh_2015', aggfunc='sum'),'generation_2016_sum': pd.NamedAgg(column='generation_gwh_2016', aggfunc='sum'),'generation_2017_sum': pd.NamedAgg(column='generation_gwh_2017', aggfunc='sum')})\n",
    "usafuel = usafuel.sort_values(by='generation_2013_sum', ascending = False)\n",
    "usafuel = usafuel.transpose() # https://pandas.pydata.org/pandas-docs/stable/reference/api/pandas.DataFrame.transpose.html\n",
    "usafuel = usafuel.reset_index()"
   ]
  },
  {
   "cell_type": "code",
   "execution_count": 47,
   "metadata": {
    "scrolled": true
   },
   "outputs": [
    {
     "data": {
      "text/plain": [
       "Text(0.5, 1.0, 'Australia')"
      ]
     },
     "execution_count": 47,
     "metadata": {},
     "output_type": "execute_result"
    },
    {
     "data": {
      "image/png": "[encoded data removed]",
      "text/plain": [
       "<Figure size 576x396 with 1 Axes>"
      ]
     },
     "metadata": {},
     "output_type": "display_data"
    }
   ],
   "source": [
    "# https://stackoverflow.com/questions/44309507/stacked-bar-plot-using-matplotlib\n",
    "p1 = plt.bar(ausfuel[\"index\"], ausfuel[\"Coal\"], color='brown')\n",
    "p2 = plt.bar(ausfuel[\"index\"], ausfuel[\"Gas\"] ,bottom = ausfuel[\"Coal\"], color='coral')\n",
    "p3 = plt.bar(ausfuel[\"index\"], ausfuel[\"Hydro\"],\n",
    "             bottom=[sum(x) for x in zip(ausfuel[\"Coal\"],ausfuel[\"Gas\"])], color='blue')\n",
    "p4 = plt.bar(ausfuel[\"index\"], ausfuel[\"Wind\"],\n",
    "             bottom=[sum(x) for x in zip(ausfuel[\"Coal\"],ausfuel[\"Gas\"],ausfuel[\"Hydro\"])],\n",
    "             color='cyan')\n",
    "p5 = plt.bar(ausfuel[\"index\"], ausfuel[\"Waste\"],\n",
    "             bottom=[sum(x) for x in zip(ausfuel[\"Coal\"],ausfuel[\"Gas\"],ausfuel[\"Hydro\"], ausfuel[\"Wind\"])],\n",
    "             color='beige')\n",
    "p6 = plt.bar(ausfuel[\"index\"], ausfuel[\"Oil\"],\n",
    "             bottom=[sum(x) for x in zip(ausfuel[\"Coal\"],ausfuel[\"Gas\"],ausfuel[\"Hydro\"], ausfuel[\"Wind\"],ausfuel[\"Waste\"])],\n",
    "             color='red')\n",
    "p7 = plt.bar(ausfuel[\"index\"], ausfuel[\"Solar\"],\n",
    "             bottom=[sum(x) for x in zip(ausfuel[\"Coal\"],ausfuel[\"Gas\"],ausfuel[\"Hydro\"], ausfuel[\"Wind\"],ausfuel[\"Waste\"],ausfuel[\"Oil\"])],\n",
    "             color='yellow')\n",
    "plt.ylim(0,200000)\n",
    "plt.xticks([0,1,2,3,4], [2013,2014,2015,2016,2017])\n",
    "\n",
    "# https://stackoverflow.com/questions/57340415/matplotlib-bar-plot-add-legend-from-categories-dataframe-column\n",
    "colors = {'Coal':\"brown\", 'Gas':\"coral\", 'Hydro':\"blue\",\"Wind\":\"cyan\", \"Waste\":\"beige\",\"Oil\":\"red\",\"Solar\":\"yellow\"}  \n",
    "labels = list(colors.keys())\n",
    "handles = [plt.Rectangle((0,0),1,1, color=colors[label]) for label in labels]\n",
    "# https://matplotlib.org/stable/api/_as_gen/matplotlib.pyplot.legend.html\n",
    "# https://stackoverflow.com/questions/4700614/how-to-put-the-legend-out-of-the-plot\n",
    "plt.legend(handles, labels, loc = 'lower right', bbox_to_anchor=(1.2, 0))\n",
    "plt.xlabel(\"Year\")\n",
    "plt.ylabel(\"Total energy generation (in GWh)\")\n",
    "plt.title(\"Australia\")"
   ]
  },
  {
   "cell_type": "code",
   "execution_count": 48,
   "metadata": {},
   "outputs": [
    {
     "data": {
      "text/plain": [
       "Text(0.5, 1.0, 'India')"
      ]
     },
     "execution_count": 48,
     "metadata": {},
     "output_type": "execute_result"
    },
    {
     "data": {
      "image/png": "[encoded data removed]",
      "text/plain": [
       "<Figure size 576x396 with 1 Axes>"
      ]
     },
     "metadata": {},
     "output_type": "display_data"
    }
   ],
   "source": [
    "# https://stackoverflow.com/questions/44309507/stacked-bar-plot-using-matplotlib\n",
    "p1 = plt.bar(indfuel[\"index\"], indfuel[\"Coal\"], color='brown')\n",
    "p2 = plt.bar(indfuel[\"index\"], indfuel[\"Hydro\"] ,bottom = indfuel[\"Coal\"], color='blue')\n",
    "p3 = plt.bar(indfuel[\"index\"], indfuel[\"Gas\"],\n",
    "             bottom=[sum(x) for x in zip(indfuel[\"Coal\"],indfuel[\"Hydro\"])], color='coral')\n",
    "p4 = plt.bar(indfuel[\"index\"], indfuel[\"Nuclear\"],\n",
    "             bottom=[sum(x) for x in zip(indfuel[\"Coal\"],indfuel[\"Hydro\"],indfuel[\"Gas\"])],\n",
    "             color='lime')\n",
    "p5 = plt.bar(indfuel[\"index\"], indfuel[\"Oil\"],\n",
    "             bottom=[sum(x) for x in zip(indfuel[\"Coal\"],indfuel[\"Hydro\"],indfuel[\"Gas\"], indfuel[\"Nuclear\"])],\n",
    "             color='red')\n",
    "plt.ylim(0,1000000)\n",
    "plt.xticks([0,1,2,3,4], [2013,2014,2015,2016,2017])\n",
    "\n",
    "# https://stackoverflow.com/questions/57340415/matplotlib-bar-plot-add-legend-from-categories-dataframe-column\n",
    "colors = {'Coal':\"brown\", 'Hydro':\"blue\", 'Gas':\"coral\", \"Nuclear\":\"lime\",\"Oil\":\"red\"}  \n",
    "labels = list(colors.keys())\n",
    "handles = [plt.Rectangle((0,0),1,1, color=colors[label]) for label in labels]\n",
    "# https://matplotlib.org/stable/api/_as_gen/matplotlib.pyplot.legend.html\n",
    "# https://stackoverflow.com/questions/4700614/how-to-put-the-legend-out-of-the-plot\n",
    "plt.legend(handles, labels, loc = 'lower right', bbox_to_anchor=(1.2, 0))\n",
    "plt.xlabel(\"Year\")\n",
    "plt.ylabel(\"Total energy generation (in GWh)\")\n",
    "plt.title(\"India\")"
   ]
  },
  {
   "cell_type": "code",
   "execution_count": 49,
   "metadata": {
    "scrolled": false
   },
   "outputs": [
    {
     "data": {
      "text/plain": [
       "Text(0.5, 1.0, 'USA')"
      ]
     },
     "execution_count": 49,
     "metadata": {},
     "output_type": "execute_result"
    },
    {
     "data": {
      "image/png": "[encoded data removed]",
      "text/plain": [
       "<Figure size 576x396 with 1 Axes>"
      ]
     },
     "metadata": {},
     "output_type": "display_data"
    }
   ],
   "source": [
    "# https://stackoverflow.com/questions/44309507/stacked-bar-plot-using-matplotlib\n",
    "p1 = plt.bar(usafuel[\"index\"], usafuel[\"Coal\"], color='brown')\n",
    "p2 = plt.bar(usafuel[\"index\"], usafuel[\"Gas\"] ,bottom = usafuel[\"Coal\"], color='coral')\n",
    "p3 = plt.bar(usafuel[\"index\"], usafuel[\"Nuclear\"],\n",
    "             bottom=[sum(x) for x in zip(usafuel[\"Coal\"],usafuel[\"Gas\"])], color='lime')\n",
    "p4 = plt.bar(usafuel[\"index\"], usafuel[\"Hydro\"],\n",
    "             bottom=[sum(x) for x in zip(usafuel[\"Coal\"],usafuel[\"Gas\"],usafuel[\"Nuclear\"])],\n",
    "             color='blue')\n",
    "p5 = plt.bar(usafuel[\"index\"], usafuel[\"Wind\"],\n",
    "             bottom=[sum(x) for x in zip(usafuel[\"Coal\"],usafuel[\"Gas\"],usafuel[\"Nuclear\"], usafuel[\"Hydro\"])],\n",
    "             color='cyan')\n",
    "p6 = plt.bar(usafuel[\"index\"], usafuel[\"Waste\"],\n",
    "             bottom=[sum(x) for x in zip(usafuel[\"Coal\"],usafuel[\"Gas\"],usafuel[\"Nuclear\"], usafuel[\"Hydro\"],usafuel[\"Wind\"])],\n",
    "             color='beige')\n",
    "p7 = plt.bar(usafuel[\"index\"], usafuel[\"Biomass\"],\n",
    "             bottom=[sum(x) for x in zip(usafuel[\"Coal\"],usafuel[\"Gas\"],usafuel[\"Nuclear\"], usafuel[\"Hydro\"],usafuel[\"Wind\"],usafuel[\"Waste\"])],\n",
    "             color='green')\n",
    "p8 = plt.bar(usafuel[\"index\"], usafuel[\"Geothermal\"],\n",
    "             bottom=[sum(x) for x in zip(usafuel[\"Coal\"],usafuel[\"Gas\"],usafuel[\"Nuclear\"], usafuel[\"Hydro\"],usafuel[\"Wind\"],usafuel[\"Waste\"],usafuel[\"Biomass\"])],\n",
    "             color='orange')\n",
    "p9 = plt.bar(usafuel[\"index\"], usafuel[\"Oil\"],\n",
    "             bottom=[sum(x) for x in zip(usafuel[\"Coal\"],usafuel[\"Gas\"],usafuel[\"Nuclear\"], usafuel[\"Hydro\"],usafuel[\"Wind\"],usafuel[\"Waste\"],usafuel[\"Biomass\"],usafuel[\"Geothermal\"])],\n",
    "             color='red')\n",
    "p10 = plt.bar(usafuel[\"index\"], usafuel[\"Petcoke\"],\n",
    "             bottom=[sum(x) for x in zip(usafuel[\"Coal\"],usafuel[\"Gas\"],usafuel[\"Nuclear\"], usafuel[\"Hydro\"],usafuel[\"Wind\"],usafuel[\"Waste\"],usafuel[\"Biomass\"],usafuel[\"Geothermal\"],usafuel[\"Oil\"])],\n",
    "             color='darkblue')\n",
    "p11 = plt.bar(usafuel[\"index\"], usafuel[\"Solar\"],\n",
    "             bottom=[sum(x) for x in zip(usafuel[\"Coal\"],usafuel[\"Gas\"],usafuel[\"Nuclear\"], usafuel[\"Hydro\"],usafuel[\"Wind\"],usafuel[\"Waste\"],usafuel[\"Biomass\"],usafuel[\"Geothermal\"],usafuel[\"Oil\"],usafuel[\"Petcoke\"])],\n",
    "             color='yellow')\n",
    "p12 = plt.bar(usafuel[\"index\"], usafuel[\"Cogeneration\"],\n",
    "             bottom=[sum(x) for x in zip(usafuel[\"Coal\"],usafuel[\"Gas\"],usafuel[\"Nuclear\"], usafuel[\"Hydro\"],usafuel[\"Wind\"],usafuel[\"Waste\"],usafuel[\"Biomass\"],usafuel[\"Geothermal\"],usafuel[\"Oil\"],usafuel[\"Petcoke\"],usafuel[\"Solar\"])],\n",
    "             color='grey')\n",
    "p13 = plt.bar(usafuel[\"index\"], usafuel[\"Storage\"],\n",
    "             bottom=[sum(x) for x in zip(usafuel[\"Coal\"],usafuel[\"Gas\"],usafuel[\"Nuclear\"], usafuel[\"Hydro\"],usafuel[\"Wind\"],usafuel[\"Waste\"],usafuel[\"Biomass\"],usafuel[\"Geothermal\"],usafuel[\"Oil\"],usafuel[\"Petcoke\"],usafuel[\"Solar\"],usafuel[\"Cogeneration\"])],\n",
    "             color='violet')\n",
    "p14 = plt.bar(usafuel[\"index\"], usafuel[\"Other\"],\n",
    "             bottom=[sum(x) for x in zip(usafuel[\"Coal\"],usafuel[\"Gas\"],usafuel[\"Nuclear\"], usafuel[\"Hydro\"],usafuel[\"Wind\"],usafuel[\"Waste\"],usafuel[\"Biomass\"],usafuel[\"Geothermal\"],usafuel[\"Oil\"],usafuel[\"Petcoke\"],usafuel[\"Solar\"],usafuel[\"Cogeneration\"],usafuel[\"Storage\"])],\n",
    "             color='white')\n",
    "plt.xticks([0,1,2,3,4], [2013,2014,2015,2016,2017])\n",
    "\n",
    "# https://stackoverflow.com/questions/57340415/matplotlib-bar-plot-add-legend-from-categories-dataframe-column\n",
    "colors = {'Coal':\"brown\", 'Gas':\"coral\", \"Nuclear\":\"lime\", \"Hydro\":\"blue\",\"Wind\":\"cyan\",\"Waste\":\"beige\",\"Biomass\":\"green\",\"Geothermal\":\"orange\",\"Oil\":\"red\",\"Petcoke\":\"darkblue\",\"Solar\":\"yellow\",\"Cogeneration\":\"grey\",\"Storage\":\"violet\",\"Other\":\"white\"}  \n",
    "labels = list(colors.keys())\n",
    "handles = [plt.Rectangle((0,0),1,1, color=colors[label]) for label in labels]\n",
    "# https://matplotlib.org/stable/api/_as_gen/matplotlib.pyplot.legend.html\n",
    "# https://stackoverflow.com/questions/4700614/how-to-put-the-legend-out-of-the-plot\n",
    "plt.legend(handles, labels, loc = 'lower right', bbox_to_anchor=(1.2, 0))\n",
    "plt.xlabel(\"Year\")\n",
    "plt.ylabel(\"Total energy generation (in GWh)\")\n",
    "plt.title(\"USA\")"
   ]
  },
  {
   "cell_type": "markdown",
   "metadata": {},
   "source": [
    "**Interpretation:** We see that Coal and Gas are still major energy providers for Australia, India and USA. Nuclear, Hydro and Wind energies are also relatively important."
   ]
  },
  {
   "cell_type": "markdown",
   "metadata": {},
   "source": [
    "## 4. Line plot: ratio of energy output sustainable fuel types over total energy output per year"
   ]
  },
  {
   "cell_type": "code",
   "execution_count": 50,
   "metadata": {},
   "outputs": [
    {
     "data": {
      "text/plain": [
       "Text(0.5, 1.0, 'Australia')"
      ]
     },
     "execution_count": 50,
     "metadata": {},
     "output_type": "execute_result"
    },
    {
     "data": {
      "image/png": "[encoded data removed]",
      "text/plain": [
       "<Figure size 576x396 with 1 Axes>"
      ]
     },
     "metadata": {},
     "output_type": "display_data"
    }
   ],
   "source": [
    "# https://stackoverflow.com/questions/34023918/make-new-column-in-panda-dataframe-by-adding-values-from-other-columns\n",
    "ausfuel['green'] = ausfuel[\"Hydro\"]+ausfuel[\"Wind\"]+ausfuel[\"Waste\"]+ausfuel[\"Solar\"]\n",
    "ausfuel['all'] = ausfuel[list(ausfuel.columns)].sum(axis=1)\n",
    "ausfuel['greenpercent'] = ausfuel['green']*100/ausfuel['all']\n",
    "ausfuel[\"greenpercent\"].plot()\n",
    "plt.xticks([0,1,2,3,4], [2013,2014,2015,2016,2017])\n",
    "plt.xlabel(\"Year\")\n",
    "plt.ylabel(\"% of green energy output\")\n",
    "plt.title(\"Australia\")"
   ]
  },
  {
   "cell_type": "code",
   "execution_count": 51,
   "metadata": {},
   "outputs": [
    {
     "data": {
      "text/plain": [
       "Text(0.5, 1.0, 'India')"
      ]
     },
     "execution_count": 51,
     "metadata": {},
     "output_type": "execute_result"
    },
    {
     "data": {
      "image/png": "[encoded data removed]",
      "text/plain": [
       "<Figure size 576x396 with 1 Axes>"
      ]
     },
     "metadata": {},
     "output_type": "display_data"
    }
   ],
   "source": [
    "# https://stackoverflow.com/questions/34023918/make-new-column-in-panda-dataframe-by-adding-values-from-other-columns\n",
    "indfuel['green'] = indfuel[\"Hydro\"]+indfuel[\"Nuclear\"]\n",
    "indfuel['all'] = indfuel[list(indfuel.columns)].sum(axis=1)\n",
    "indfuel['greenpercent'] = indfuel['green']*100/indfuel['all']\n",
    "indfuel[\"greenpercent\"].plot()\n",
    "plt.xticks([0,1,2,3,4], [2013,2014,2015,2016,2017])\n",
    "plt.xlabel(\"Year\")\n",
    "plt.ylabel(\"% of green energy output\")\n",
    "plt.title(\"India\")"
   ]
  },
  {
   "cell_type": "code",
   "execution_count": 52,
   "metadata": {
    "scrolled": true
   },
   "outputs": [
    {
     "data": {
      "text/plain": [
       "Text(0.5, 1.0, 'USA')"
      ]
     },
     "execution_count": 52,
     "metadata": {},
     "output_type": "execute_result"
    },
    {
     "data": {
      "image/png": "[encoded data removed]",
      "text/plain": [
       "<Figure size 576x396 with 1 Axes>"
      ]
     },
     "metadata": {},
     "output_type": "display_data"
    }
   ],
   "source": [
    "# https://stackoverflow.com/questions/34023918/make-new-column-in-panda-dataframe-by-adding-values-from-other-columns\n",
    "usafuel['green'] = usafuel[\"Nuclear\"]+usafuel[\"Hydro\"]+usafuel[\"Wind\"]+usafuel[\"Waste\"]+usafuel[\"Biomass\"]+usafuel[\"Geothermal\"]+usafuel[\"Solar\"]\n",
    "usafuel['all'] = usafuel[list(usafuel.columns)].sum(axis=1)\n",
    "usafuel['greenpercent'] = usafuel['green']*100/usafuel['all']\n",
    "usafuel[\"greenpercent\"].plot()\n",
    "plt.xticks([0,1,2,3,4], [2013,2014,2015,2016,2017])\n",
    "plt.xlabel(\"Year\")\n",
    "plt.ylabel(\"% of green energy output\")\n",
    "plt.title(\"USA\")"
   ]
  },
  {
   "cell_type": "markdown",
   "metadata": {},
   "source": [
    "**Interpretation:** We see that unfortunately, neither Australia nor India or USA has a clear constant upward trend in the percentage of green energy output, and that in 2017 that percentage actually decreased for all three countries when compared to 2013."
   ]
  },
  {
   "cell_type": "markdown",
   "metadata": {},
   "source": [
    "# Regression on the full dataset (predicting annual energy generation)"
   ]
  },
  {
   "cell_type": "markdown",
   "metadata": {},
   "source": [
    "**Reminder:** annual energy generation is either the average of actually reported generations between 2013-2017, or the energy generation estimated by the database creators."
   ]
  },
  {
   "cell_type": "markdown",
   "metadata": {},
   "source": [
    "**Not accounting for multicolinearity:**"
   ]
  },
  {
   "cell_type": "code",
   "execution_count": 53,
   "metadata": {
    "scrolled": true
   },
   "outputs": [
    {
     "data": {
      "text/html": [
       "<table class=\"simpletable\">\n",
       "<caption>OLS Regression Results</caption>\n",
       "<tr>\n",
       "  <th>Dep. Variable:</th>    <td>avg_annual_output</td> <th>  R-squared:         </th>  <td>   0.877</td>  \n",
       "</tr>\n",
       "<tr>\n",
       "  <th>Model:</th>                   <td>OLS</td>        <th>  Adj. R-squared:    </th>  <td>   0.877</td>  \n",
       "</tr>\n",
       "<tr>\n",
       "  <th>Method:</th>             <td>Least Squares</td>   <th>  F-statistic:       </th>  <td>   6797.</td>  \n",
       "</tr>\n",
       "<tr>\n",
       "  <th>Date:</th>             <td>Sat, 20 Mar 2021</td>  <th>  Prob (F-statistic):</th>   <td>  0.00</td>   \n",
       "</tr>\n",
       "<tr>\n",
       "  <th>Time:</th>                 <td>19:50:26</td>      <th>  Log-Likelihood:    </th> <td>-1.3427e+05</td>\n",
       "</tr>\n",
       "<tr>\n",
       "  <th>No. Observations:</th>      <td> 16238</td>       <th>  AIC:               </th>  <td>2.686e+05</td> \n",
       "</tr>\n",
       "<tr>\n",
       "  <th>Df Residuals:</th>          <td> 16220</td>       <th>  BIC:               </th>  <td>2.687e+05</td> \n",
       "</tr>\n",
       "<tr>\n",
       "  <th>Df Model:</th>              <td>    17</td>       <th>                     </th>      <td> </td>     \n",
       "</tr>\n",
       "<tr>\n",
       "  <th>Covariance Type:</th>      <td>nonrobust</td>     <th>                     </th>      <td> </td>     \n",
       "</tr>\n",
       "</table>\n",
       "<table class=\"simpletable\">\n",
       "<tr>\n",
       "                 <td></td>                   <th>coef</th>     <th>std err</th>      <th>t</th>      <th>P>|t|</th>  <th>[0.025</th>    <th>0.975]</th>  \n",
       "</tr>\n",
       "<tr>\n",
       "  <th>Intercept</th>                      <td>  568.6723</td> <td>  731.992</td> <td>    0.777</td> <td> 0.437</td> <td> -866.112</td> <td> 2003.456</td>\n",
       "</tr>\n",
       "<tr>\n",
       "  <th>primary_fuel[T.Coal]</th>           <td>  411.1120</td> <td>  131.890</td> <td>    3.117</td> <td> 0.002</td> <td>  152.593</td> <td>  669.631</td>\n",
       "</tr>\n",
       "<tr>\n",
       "  <th>primary_fuel[T.Cogeneration]</th>   <td> -130.7435</td> <td>  167.040</td> <td>   -0.783</td> <td> 0.434</td> <td> -458.160</td> <td>  196.673</td>\n",
       "</tr>\n",
       "<tr>\n",
       "  <th>primary_fuel[T.Gas]</th>            <td> -188.5846</td> <td>  132.799</td> <td>   -1.420</td> <td> 0.156</td> <td> -448.886</td> <td>   71.717</td>\n",
       "</tr>\n",
       "<tr>\n",
       "  <th>primary_fuel[T.Geothermal]</th>     <td>  -61.2832</td> <td>   89.076</td> <td>   -0.688</td> <td> 0.491</td> <td> -235.882</td> <td>  113.316</td>\n",
       "</tr>\n",
       "<tr>\n",
       "  <th>primary_fuel[T.Hydro]</th>          <td> -240.6978</td> <td>   44.128</td> <td>   -5.454</td> <td> 0.000</td> <td> -327.194</td> <td> -154.201</td>\n",
       "</tr>\n",
       "<tr>\n",
       "  <th>primary_fuel[T.Nuclear]</th>        <td> 4896.7963</td> <td>  105.440</td> <td>   46.442</td> <td> 0.000</td> <td> 4690.123</td> <td> 5103.470</td>\n",
       "</tr>\n",
       "<tr>\n",
       "  <th>primary_fuel[T.Oil]</th>            <td>   65.0899</td> <td>  132.829</td> <td>    0.490</td> <td> 0.624</td> <td> -195.270</td> <td>  325.449</td>\n",
       "</tr>\n",
       "<tr>\n",
       "  <th>primary_fuel[T.Other]</th>          <td>  -26.7000</td> <td>  197.202</td> <td>   -0.135</td> <td> 0.892</td> <td> -413.237</td> <td>  359.837</td>\n",
       "</tr>\n",
       "<tr>\n",
       "  <th>primary_fuel[T.Petcoke]</th>        <td>   33.2464</td> <td>  263.947</td> <td>    0.126</td> <td> 0.900</td> <td> -484.119</td> <td>  550.612</td>\n",
       "</tr>\n",
       "<tr>\n",
       "  <th>primary_fuel[T.Solar]</th>          <td> -141.6454</td> <td>   45.949</td> <td>   -3.083</td> <td> 0.002</td> <td> -231.711</td> <td>  -51.580</td>\n",
       "</tr>\n",
       "<tr>\n",
       "  <th>primary_fuel[T.Storage]</th>        <td> -100.0851</td> <td>  131.125</td> <td>   -0.763</td> <td> 0.445</td> <td> -357.105</td> <td>  156.934</td>\n",
       "</tr>\n",
       "<tr>\n",
       "  <th>primary_fuel[T.Waste]</th>          <td>  -98.4523</td> <td>   54.889</td> <td>   -1.794</td> <td> 0.073</td> <td> -206.040</td> <td>    9.136</td>\n",
       "</tr>\n",
       "<tr>\n",
       "  <th>primary_fuel[T.Wave and Tidal]</th> <td>-4.854e-13</td> <td> 3.52e-14</td> <td>  -13.772</td> <td> 0.000</td> <td>-5.54e-13</td> <td>-4.16e-13</td>\n",
       "</tr>\n",
       "<tr>\n",
       "  <th>primary_fuel[T.Wind]</th>           <td> -212.1448</td> <td>   45.417</td> <td>   -4.671</td> <td> 0.000</td> <td> -301.167</td> <td> -123.122</td>\n",
       "</tr>\n",
       "<tr>\n",
       "  <th>capacity_mw</th>                    <td>    4.0943</td> <td>    0.015</td> <td>  271.054</td> <td> 0.000</td> <td>    4.065</td> <td>    4.124</td>\n",
       "</tr>\n",
       "<tr>\n",
       "  <th>latitude</th>                       <td>   -0.1783</td> <td>    0.379</td> <td>   -0.471</td> <td> 0.638</td> <td>   -0.920</td> <td>    0.564</td>\n",
       "</tr>\n",
       "<tr>\n",
       "  <th>longitude</th>                      <td>    0.9447</td> <td>    0.125</td> <td>    7.554</td> <td> 0.000</td> <td>    0.700</td> <td>    1.190</td>\n",
       "</tr>\n",
       "<tr>\n",
       "  <th>green</th>                          <td>  274.5086</td> <td>  135.962</td> <td>    2.019</td> <td> 0.044</td> <td>    8.008</td> <td>  541.009</td>\n",
       "</tr>\n",
       "<tr>\n",
       "  <th>commissioning_year</th>             <td>   -0.3254</td> <td>    0.426</td> <td>   -0.765</td> <td> 0.444</td> <td>   -1.159</td> <td>    0.509</td>\n",
       "</tr>\n",
       "</table>\n",
       "<table class=\"simpletable\">\n",
       "<tr>\n",
       "  <th>Omnibus:</th>       <td>17045.579</td> <th>  Durbin-Watson:     </th>   <td>   1.838</td>  \n",
       "</tr>\n",
       "<tr>\n",
       "  <th>Prob(Omnibus):</th>  <td> 0.000</td>   <th>  Jarque-Bera (JB):  </th> <td>16577499.129</td>\n",
       "</tr>\n",
       "<tr>\n",
       "  <th>Skew:</th>           <td> 4.328</td>   <th>  Prob(JB):          </th>   <td>    0.00</td>  \n",
       "</tr>\n",
       "<tr>\n",
       "  <th>Kurtosis:</th>       <td>159.291</td>  <th>  Cond. No.          </th>   <td>6.24e+20</td>  \n",
       "</tr>\n",
       "</table><br/><br/>Notes:<br/>[1] Standard Errors assume that the covariance matrix of the errors is correctly specified.<br/>[2] The smallest eigenvalue is 1.69e-31. This might indicate that there are<br/>strong multicollinearity problems or that the design matrix is singular."
      ],
      "text/plain": [
       "<class 'statsmodels.iolib.summary.Summary'>\n",
       "\"\"\"\n",
       "                            OLS Regression Results                            \n",
       "==============================================================================\n",
       "Dep. Variable:      avg_annual_output   R-squared:                       0.877\n",
       "Model:                            OLS   Adj. R-squared:                  0.877\n",
       "Method:                 Least Squares   F-statistic:                     6797.\n",
       "Date:                Sat, 20 Mar 2021   Prob (F-statistic):               0.00\n",
       "Time:                        19:50:26   Log-Likelihood:            -1.3427e+05\n",
       "No. Observations:               16238   AIC:                         2.686e+05\n",
       "Df Residuals:                   16220   BIC:                         2.687e+05\n",
       "Df Model:                          17                                         \n",
       "Covariance Type:            nonrobust                                         \n",
       "==================================================================================================\n",
       "                                     coef    std err          t      P>|t|      [0.025      0.975]\n",
       "--------------------------------------------------------------------------------------------------\n",
       "Intercept                        568.6723    731.992      0.777      0.437    -866.112    2003.456\n",
       "primary_fuel[T.Coal]             411.1120    131.890      3.117      0.002     152.593     669.631\n",
       "primary_fuel[T.Cogeneration]    -130.7435    167.040     -0.783      0.434    -458.160     196.673\n",
       "primary_fuel[T.Gas]             -188.5846    132.799     -1.420      0.156    -448.886      71.717\n",
       "primary_fuel[T.Geothermal]       -61.2832     89.076     -0.688      0.491    -235.882     113.316\n",
       "primary_fuel[T.Hydro]           -240.6978     44.128     -5.454      0.000    -327.194    -154.201\n",
       "primary_fuel[T.Nuclear]         4896.7963    105.440     46.442      0.000    4690.123    5103.470\n",
       "primary_fuel[T.Oil]               65.0899    132.829      0.490      0.624    -195.270     325.449\n",
       "primary_fuel[T.Other]            -26.7000    197.202     -0.135      0.892    -413.237     359.837\n",
       "primary_fuel[T.Petcoke]           33.2464    263.947      0.126      0.900    -484.119     550.612\n",
       "primary_fuel[T.Solar]           -141.6454     45.949     -3.083      0.002    -231.711     -51.580\n",
       "primary_fuel[T.Storage]         -100.0851    131.125     -0.763      0.445    -357.105     156.934\n",
       "primary_fuel[T.Waste]            -98.4523     54.889     -1.794      0.073    -206.040       9.136\n",
       "primary_fuel[T.Wave and Tidal] -4.854e-13   3.52e-14    -13.772      0.000   -5.54e-13   -4.16e-13\n",
       "primary_fuel[T.Wind]            -212.1448     45.417     -4.671      0.000    -301.167    -123.122\n",
       "capacity_mw                        4.0943      0.015    271.054      0.000       4.065       4.124\n",
       "latitude                          -0.1783      0.379     -0.471      0.638      -0.920       0.564\n",
       "longitude                          0.9447      0.125      7.554      0.000       0.700       1.190\n",
       "green                            274.5086    135.962      2.019      0.044       8.008     541.009\n",
       "commissioning_year                -0.3254      0.426     -0.765      0.444      -1.159       0.509\n",
       "==============================================================================\n",
       "Omnibus:                    17045.579   Durbin-Watson:                   1.838\n",
       "Prob(Omnibus):                  0.000   Jarque-Bera (JB):         16577499.129\n",
       "Skew:                           4.328   Prob(JB):                         0.00\n",
       "Kurtosis:                     159.291   Cond. No.                     6.24e+20\n",
       "==============================================================================\n",
       "\n",
       "Notes:\n",
       "[1] Standard Errors assume that the covariance matrix of the errors is correctly specified.\n",
       "[2] The smallest eigenvalue is 1.69e-31. This might indicate that there are\n",
       "strong multicollinearity problems or that the design matrix is singular.\n",
       "\"\"\""
      ]
     },
     "execution_count": 53,
     "metadata": {},
     "output_type": "execute_result"
    }
   ],
   "source": [
    "model1 = sm.ols(formula=\"avg_annual_output ~ capacity_mw+latitude+longitude+primary_fuel+green+commissioning_year\", data=df_all).fit()\n",
    "model1.summary()"
   ]
  },
  {
   "cell_type": "markdown",
   "metadata": {},
   "source": [
    "**Accounting for colinearity:**"
   ]
  },
  {
   "cell_type": "code",
   "execution_count": 54,
   "metadata": {
    "scrolled": true
   },
   "outputs": [
    {
     "data": {
      "text/html": [
       "<table class=\"simpletable\">\n",
       "<caption>OLS Regression Results</caption>\n",
       "<tr>\n",
       "  <th>Dep. Variable:</th>    <td>avg_annual_output</td> <th>  R-squared:         </th>  <td>   0.893</td>  \n",
       "</tr>\n",
       "<tr>\n",
       "  <th>Model:</th>                   <td>OLS</td>        <th>  Adj. R-squared:    </th>  <td>   0.893</td>  \n",
       "</tr>\n",
       "<tr>\n",
       "  <th>Method:</th>             <td>Least Squares</td>   <th>  F-statistic:       </th>  <td>   3004.</td>  \n",
       "</tr>\n",
       "<tr>\n",
       "  <th>Date:</th>             <td>Sat, 20 Mar 2021</td>  <th>  Prob (F-statistic):</th>   <td>  0.00</td>   \n",
       "</tr>\n",
       "<tr>\n",
       "  <th>Time:</th>                 <td>19:50:27</td>      <th>  Log-Likelihood:    </th> <td>-1.3313e+05</td>\n",
       "</tr>\n",
       "<tr>\n",
       "  <th>No. Observations:</th>      <td> 16238</td>       <th>  AIC:               </th>  <td>2.664e+05</td> \n",
       "</tr>\n",
       "<tr>\n",
       "  <th>Df Residuals:</th>          <td> 16192</td>       <th>  BIC:               </th>  <td>2.667e+05</td> \n",
       "</tr>\n",
       "<tr>\n",
       "  <th>Df Model:</th>              <td>    45</td>       <th>                     </th>      <td> </td>     \n",
       "</tr>\n",
       "<tr>\n",
       "  <th>Covariance Type:</th>      <td>nonrobust</td>     <th>                     </th>      <td> </td>     \n",
       "</tr>\n",
       "</table>\n",
       "<table class=\"simpletable\">\n",
       "<tr>\n",
       "                          <td></td>                             <th>coef</th>     <th>std err</th>      <th>t</th>      <th>P>|t|</th>  <th>[0.025</th>    <th>0.975]</th>  \n",
       "</tr>\n",
       "<tr>\n",
       "  <th>Intercept</th>                                         <td>  917.6560</td> <td> 8209.927</td> <td>    0.112</td> <td> 0.911</td> <td>-1.52e+04</td> <td>  1.7e+04</td>\n",
       "</tr>\n",
       "<tr>\n",
       "  <th>primary_fuel[T.Coal]</th>                              <td> 6679.7668</td> <td> 8480.097</td> <td>    0.788</td> <td> 0.431</td> <td>-9942.160</td> <td> 2.33e+04</td>\n",
       "</tr>\n",
       "<tr>\n",
       "  <th>primary_fuel[T.Cogeneration]</th>                      <td> 5928.3306</td> <td> 1.92e+04</td> <td>    0.309</td> <td> 0.757</td> <td>-3.17e+04</td> <td> 4.35e+04</td>\n",
       "</tr>\n",
       "<tr>\n",
       "  <th>primary_fuel[T.Gas]</th>                               <td>-4231.0078</td> <td> 8373.825</td> <td>   -0.505</td> <td> 0.613</td> <td>-2.06e+04</td> <td> 1.22e+04</td>\n",
       "</tr>\n",
       "<tr>\n",
       "  <th>primary_fuel[T.Geothermal]</th>                        <td> -937.8884</td> <td> 1.37e+04</td> <td>   -0.069</td> <td> 0.945</td> <td>-2.77e+04</td> <td> 2.59e+04</td>\n",
       "</tr>\n",
       "<tr>\n",
       "  <th>primary_fuel[T.Hydro]</th>                             <td>  1.03e+04</td> <td> 5335.251</td> <td>    1.930</td> <td> 0.054</td> <td> -162.328</td> <td> 2.08e+04</td>\n",
       "</tr>\n",
       "<tr>\n",
       "  <th>primary_fuel[T.Nuclear]</th>                           <td> 1.888e+05</td> <td> 1.89e+04</td> <td>    9.982</td> <td> 0.000</td> <td> 1.52e+05</td> <td> 2.26e+05</td>\n",
       "</tr>\n",
       "<tr>\n",
       "  <th>primary_fuel[T.Oil]</th>                               <td> -556.2020</td> <td> 8513.706</td> <td>   -0.065</td> <td> 0.948</td> <td>-1.72e+04</td> <td> 1.61e+04</td>\n",
       "</tr>\n",
       "<tr>\n",
       "  <th>primary_fuel[T.Other]</th>                             <td>-1.645e+04</td> <td> 1.49e+04</td> <td>   -1.103</td> <td> 0.270</td> <td>-4.57e+04</td> <td> 1.28e+04</td>\n",
       "</tr>\n",
       "<tr>\n",
       "  <th>primary_fuel[T.Petcoke]</th>                           <td>  2.34e+04</td> <td> 4.73e+04</td> <td>    0.495</td> <td> 0.621</td> <td>-6.93e+04</td> <td> 1.16e+05</td>\n",
       "</tr>\n",
       "<tr>\n",
       "  <th>primary_fuel[T.Solar]</th>                             <td> 1.652e+04</td> <td> 1.42e+04</td> <td>    1.163</td> <td> 0.245</td> <td>-1.13e+04</td> <td> 4.44e+04</td>\n",
       "</tr>\n",
       "<tr>\n",
       "  <th>primary_fuel[T.Storage]</th>                           <td> 1.008e+04</td> <td> 8.87e+04</td> <td>    0.114</td> <td> 0.909</td> <td>-1.64e+05</td> <td> 1.84e+05</td>\n",
       "</tr>\n",
       "<tr>\n",
       "  <th>primary_fuel[T.Waste]</th>                             <td> 8613.8336</td> <td> 8068.842</td> <td>    1.068</td> <td> 0.286</td> <td>-7201.989</td> <td> 2.44e+04</td>\n",
       "</tr>\n",
       "<tr>\n",
       "  <th>primary_fuel[T.Wave and Tidal]</th>                    <td>  2.48e-07</td> <td> 1.54e-07</td> <td>    1.611</td> <td> 0.107</td> <td>-5.37e-08</td> <td>  5.5e-07</td>\n",
       "</tr>\n",
       "<tr>\n",
       "  <th>primary_fuel[T.Wind]</th>                              <td> 2.192e+04</td> <td> 8528.711</td> <td>    2.570</td> <td> 0.010</td> <td> 5197.810</td> <td> 3.86e+04</td>\n",
       "</tr>\n",
       "<tr>\n",
       "  <th>capacity_mw</th>                                       <td>   -0.3880</td> <td>    1.909</td> <td>   -0.203</td> <td> 0.839</td> <td>   -4.130</td> <td>    3.354</td>\n",
       "</tr>\n",
       "<tr>\n",
       "  <th>capacity_mw:primary_fuel[T.Coal]</th>                  <td>   -5.5403</td> <td>    0.764</td> <td>   -7.254</td> <td> 0.000</td> <td>   -7.037</td> <td>   -4.043</td>\n",
       "</tr>\n",
       "<tr>\n",
       "  <th>capacity_mw:primary_fuel[T.Cogeneration]</th>          <td>   -6.9730</td> <td>    5.062</td> <td>   -1.377</td> <td> 0.168</td> <td>  -16.895</td> <td>    2.949</td>\n",
       "</tr>\n",
       "<tr>\n",
       "  <th>capacity_mw:primary_fuel[T.Gas]</th>                   <td>   -6.6920</td> <td>    0.764</td> <td>   -8.758</td> <td> 0.000</td> <td>   -8.190</td> <td>   -5.194</td>\n",
       "</tr>\n",
       "<tr>\n",
       "  <th>capacity_mw:primary_fuel[T.Geothermal]</th>            <td>   -5.5688</td> <td>    1.059</td> <td>   -5.256</td> <td> 0.000</td> <td>   -7.645</td> <td>   -3.492</td>\n",
       "</tr>\n",
       "<tr>\n",
       "  <th>capacity_mw:primary_fuel[T.Hydro]</th>                 <td>   -6.1350</td> <td>    0.764</td> <td>   -8.032</td> <td> 0.000</td> <td>   -7.632</td> <td>   -4.638</td>\n",
       "</tr>\n",
       "<tr>\n",
       "  <th>capacity_mw:primary_fuel[T.Nuclear]</th>               <td>   -2.3785</td> <td>    0.771</td> <td>   -3.083</td> <td> 0.002</td> <td>   -3.891</td> <td>   -0.866</td>\n",
       "</tr>\n",
       "<tr>\n",
       "  <th>capacity_mw:primary_fuel[T.Oil]</th>                   <td>   -7.1669</td> <td>    0.766</td> <td>   -9.351</td> <td> 0.000</td> <td>   -8.669</td> <td>   -5.665</td>\n",
       "</tr>\n",
       "<tr>\n",
       "  <th>capacity_mw:primary_fuel[T.Other]</th>                 <td>  -10.6160</td> <td>    1.234</td> <td>   -8.604</td> <td> 0.000</td> <td>  -13.034</td> <td>   -8.198</td>\n",
       "</tr>\n",
       "<tr>\n",
       "  <th>capacity_mw:primary_fuel[T.Petcoke]</th>               <td>   -6.2826</td> <td>    0.956</td> <td>   -6.572</td> <td> 0.000</td> <td>   -8.157</td> <td>   -4.409</td>\n",
       "</tr>\n",
       "<tr>\n",
       "  <th>capacity_mw:primary_fuel[T.Solar]</th>                 <td>   -8.7126</td> <td>    0.918</td> <td>   -9.491</td> <td> 0.000</td> <td>  -10.512</td> <td>   -6.913</td>\n",
       "</tr>\n",
       "<tr>\n",
       "  <th>capacity_mw:primary_fuel[T.Storage]</th>               <td>  -10.5588</td> <td>   12.124</td> <td>   -0.871</td> <td> 0.384</td> <td>  -34.323</td> <td>   13.205</td>\n",
       "</tr>\n",
       "<tr>\n",
       "  <th>capacity_mw:primary_fuel[T.Waste]</th>                 <td>   -6.6357</td> <td>    1.757</td> <td>   -3.778</td> <td> 0.000</td> <td>  -10.079</td> <td>   -3.193</td>\n",
       "</tr>\n",
       "<tr>\n",
       "  <th>capacity_mw:primary_fuel[T.Wave and Tidal]</th>        <td>-4.007e-07</td> <td> 2.08e-07</td> <td>   -1.928</td> <td> 0.054</td> <td>-8.08e-07</td> <td> 6.64e-09</td>\n",
       "</tr>\n",
       "<tr>\n",
       "  <th>capacity_mw:primary_fuel[T.Wind]</th>                  <td>   -7.0224</td> <td>    0.807</td> <td>   -8.702</td> <td> 0.000</td> <td>   -8.604</td> <td>   -5.441</td>\n",
       "</tr>\n",
       "<tr>\n",
       "  <th>latitude</th>                                          <td>    0.1433</td> <td>    0.414</td> <td>    0.346</td> <td> 0.729</td> <td>   -0.669</td> <td>    0.955</td>\n",
       "</tr>\n",
       "<tr>\n",
       "  <th>longitude</th>                                         <td>    0.9040</td> <td>    0.236</td> <td>    3.831</td> <td> 0.000</td> <td>    0.441</td> <td>    1.366</td>\n",
       "</tr>\n",
       "<tr>\n",
       "  <th>green</th>                                             <td>-7924.6722</td> <td> 9328.728</td> <td>   -0.849</td> <td> 0.396</td> <td>-2.62e+04</td> <td> 1.04e+04</td>\n",
       "</tr>\n",
       "<tr>\n",
       "  <th>commissioning_year</th>                                <td>    3.4896</td> <td>    2.625</td> <td>    1.329</td> <td> 0.184</td> <td>   -1.656</td> <td>    8.635</td>\n",
       "</tr>\n",
       "<tr>\n",
       "  <th>primary_fuel[T.Coal]:commissioning_year</th>           <td>   -7.3568</td> <td>    2.927</td> <td>   -2.514</td> <td> 0.012</td> <td>  -13.093</td> <td>   -1.620</td>\n",
       "</tr>\n",
       "<tr>\n",
       "  <th>primary_fuel[T.Cogeneration]:commissioning_year</th>   <td>   -2.8861</td> <td>    9.613</td> <td>   -0.300</td> <td> 0.764</td> <td>  -21.729</td> <td>   15.957</td>\n",
       "</tr>\n",
       "<tr>\n",
       "  <th>primary_fuel[T.Gas]:commissioning_year</th>            <td>   -1.8326</td> <td>    2.817</td> <td>   -0.651</td> <td> 0.515</td> <td>   -7.355</td> <td>    3.689</td>\n",
       "</tr>\n",
       "<tr>\n",
       "  <th>primary_fuel[T.Geothermal]:commissioning_year</th>     <td>    0.5495</td> <td>    6.839</td> <td>    0.080</td> <td> 0.936</td> <td>  -12.856</td> <td>   13.955</td>\n",
       "</tr>\n",
       "<tr>\n",
       "  <th>primary_fuel[T.Hydro]:commissioning_year</th>          <td>   -5.1597</td> <td>    2.665</td> <td>   -1.936</td> <td> 0.053</td> <td>  -10.384</td> <td>    0.065</td>\n",
       "</tr>\n",
       "<tr>\n",
       "  <th>primary_fuel[T.Nuclear]:commissioning_year</th>        <td>  -95.3453</td> <td>    9.544</td> <td>   -9.990</td> <td> 0.000</td> <td> -114.052</td> <td>  -76.639</td>\n",
       "</tr>\n",
       "<tr>\n",
       "  <th>primary_fuel[T.Oil]:commissioning_year</th>            <td>   -3.6240</td> <td>    2.947</td> <td>   -1.230</td> <td> 0.219</td> <td>   -9.401</td> <td>    2.153</td>\n",
       "</tr>\n",
       "<tr>\n",
       "  <th>primary_fuel[T.Other]:commissioning_year</th>          <td>    4.4961</td> <td>    7.863</td> <td>    0.572</td> <td> 0.567</td> <td>  -10.917</td> <td>   19.909</td>\n",
       "</tr>\n",
       "<tr>\n",
       "  <th>primary_fuel[T.Petcoke]:commissioning_year</th>        <td>  -15.7260</td> <td>   27.923</td> <td>   -0.563</td> <td> 0.573</td> <td>  -70.458</td> <td>   39.006</td>\n",
       "</tr>\n",
       "<tr>\n",
       "  <th>primary_fuel[T.Solar]:commissioning_year</th>          <td>   -8.1598</td> <td>    7.058</td> <td>   -1.156</td> <td> 0.248</td> <td>  -21.994</td> <td>    5.674</td>\n",
       "</tr>\n",
       "<tr>\n",
       "  <th>primary_fuel[T.Storage]:commissioning_year</th>        <td>   -4.9373</td> <td>   44.014</td> <td>   -0.112</td> <td> 0.911</td> <td>  -91.210</td> <td>   81.335</td>\n",
       "</tr>\n",
       "<tr>\n",
       "  <th>primary_fuel[T.Waste]:commissioning_year</th>          <td>   -4.2282</td> <td>    4.027</td> <td>   -1.050</td> <td> 0.294</td> <td>  -12.121</td> <td>    3.664</td>\n",
       "</tr>\n",
       "<tr>\n",
       "  <th>primary_fuel[T.Wave and Tidal]:commissioning_year</th> <td>         0</td> <td>        0</td> <td>      nan</td> <td>   nan</td> <td>        0</td> <td>        0</td>\n",
       "</tr>\n",
       "<tr>\n",
       "  <th>primary_fuel[T.Wind]:commissioning_year</th>           <td>  -10.8853</td> <td>    4.250</td> <td>   -2.561</td> <td> 0.010</td> <td>  -19.217</td> <td>   -2.554</td>\n",
       "</tr>\n",
       "<tr>\n",
       "  <th>capacity_mw:commissioning_year</th>                    <td>    0.0052</td> <td>    0.001</td> <td>    5.999</td> <td> 0.000</td> <td>    0.004</td> <td>    0.007</td>\n",
       "</tr>\n",
       "<tr>\n",
       "  <th>latitude:longitude</th>                                <td>    0.0134</td> <td>    0.006</td> <td>    2.169</td> <td> 0.030</td> <td>    0.001</td> <td>    0.026</td>\n",
       "</tr>\n",
       "</table>\n",
       "<table class=\"simpletable\">\n",
       "<tr>\n",
       "  <th>Omnibus:</th>       <td>20479.006</td> <th>  Durbin-Watson:     </th>   <td>   1.816</td>  \n",
       "</tr>\n",
       "<tr>\n",
       "  <th>Prob(Omnibus):</th>  <td> 0.000</td>   <th>  Jarque-Bera (JB):  </th> <td>27913741.531</td>\n",
       "</tr>\n",
       "<tr>\n",
       "  <th>Skew:</th>           <td> 6.117</td>   <th>  Prob(JB):          </th>   <td>    0.00</td>  \n",
       "</tr>\n",
       "<tr>\n",
       "  <th>Kurtosis:</th>       <td>205.749</td>  <th>  Cond. No.          </th>   <td>1.08e+16</td>  \n",
       "</tr>\n",
       "</table><br/><br/>Notes:<br/>[1] Standard Errors assume that the covariance matrix of the errors is correctly specified.<br/>[2] The smallest eigenvalue is 2.14e-16. This might indicate that there are<br/>strong multicollinearity problems or that the design matrix is singular."
      ],
      "text/plain": [
       "<class 'statsmodels.iolib.summary.Summary'>\n",
       "\"\"\"\n",
       "                            OLS Regression Results                            \n",
       "==============================================================================\n",
       "Dep. Variable:      avg_annual_output   R-squared:                       0.893\n",
       "Model:                            OLS   Adj. R-squared:                  0.893\n",
       "Method:                 Least Squares   F-statistic:                     3004.\n",
       "Date:                Sat, 20 Mar 2021   Prob (F-statistic):               0.00\n",
       "Time:                        19:50:27   Log-Likelihood:            -1.3313e+05\n",
       "No. Observations:               16238   AIC:                         2.664e+05\n",
       "Df Residuals:                   16192   BIC:                         2.667e+05\n",
       "Df Model:                          45                                         \n",
       "Covariance Type:            nonrobust                                         \n",
       "=====================================================================================================================\n",
       "                                                        coef    std err          t      P>|t|      [0.025      0.975]\n",
       "---------------------------------------------------------------------------------------------------------------------\n",
       "Intercept                                           917.6560   8209.927      0.112      0.911   -1.52e+04     1.7e+04\n",
       "primary_fuel[T.Coal]                               6679.7668   8480.097      0.788      0.431   -9942.160    2.33e+04\n",
       "primary_fuel[T.Cogeneration]                       5928.3306   1.92e+04      0.309      0.757   -3.17e+04    4.35e+04\n",
       "primary_fuel[T.Gas]                               -4231.0078   8373.825     -0.505      0.613   -2.06e+04    1.22e+04\n",
       "primary_fuel[T.Geothermal]                         -937.8884   1.37e+04     -0.069      0.945   -2.77e+04    2.59e+04\n",
       "primary_fuel[T.Hydro]                               1.03e+04   5335.251      1.930      0.054    -162.328    2.08e+04\n",
       "primary_fuel[T.Nuclear]                            1.888e+05   1.89e+04      9.982      0.000    1.52e+05    2.26e+05\n",
       "primary_fuel[T.Oil]                                -556.2020   8513.706     -0.065      0.948   -1.72e+04    1.61e+04\n",
       "primary_fuel[T.Other]                             -1.645e+04   1.49e+04     -1.103      0.270   -4.57e+04    1.28e+04\n",
       "primary_fuel[T.Petcoke]                             2.34e+04   4.73e+04      0.495      0.621   -6.93e+04    1.16e+05\n",
       "primary_fuel[T.Solar]                              1.652e+04   1.42e+04      1.163      0.245   -1.13e+04    4.44e+04\n",
       "primary_fuel[T.Storage]                            1.008e+04   8.87e+04      0.114      0.909   -1.64e+05    1.84e+05\n",
       "primary_fuel[T.Waste]                              8613.8336   8068.842      1.068      0.286   -7201.989    2.44e+04\n",
       "primary_fuel[T.Wave and Tidal]                      2.48e-07   1.54e-07      1.611      0.107   -5.37e-08     5.5e-07\n",
       "primary_fuel[T.Wind]                               2.192e+04   8528.711      2.570      0.010    5197.810    3.86e+04\n",
       "capacity_mw                                          -0.3880      1.909     -0.203      0.839      -4.130       3.354\n",
       "capacity_mw:primary_fuel[T.Coal]                     -5.5403      0.764     -7.254      0.000      -7.037      -4.043\n",
       "capacity_mw:primary_fuel[T.Cogeneration]             -6.9730      5.062     -1.377      0.168     -16.895       2.949\n",
       "capacity_mw:primary_fuel[T.Gas]                      -6.6920      0.764     -8.758      0.000      -8.190      -5.194\n",
       "capacity_mw:primary_fuel[T.Geothermal]               -5.5688      1.059     -5.256      0.000      -7.645      -3.492\n",
       "capacity_mw:primary_fuel[T.Hydro]                    -6.1350      0.764     -8.032      0.000      -7.632      -4.638\n",
       "capacity_mw:primary_fuel[T.Nuclear]                  -2.3785      0.771     -3.083      0.002      -3.891      -0.866\n",
       "capacity_mw:primary_fuel[T.Oil]                      -7.1669      0.766     -9.351      0.000      -8.669      -5.665\n",
       "capacity_mw:primary_fuel[T.Other]                   -10.6160      1.234     -8.604      0.000     -13.034      -8.198\n",
       "capacity_mw:primary_fuel[T.Petcoke]                  -6.2826      0.956     -6.572      0.000      -8.157      -4.409\n",
       "capacity_mw:primary_fuel[T.Solar]                    -8.7126      0.918     -9.491      0.000     -10.512      -6.913\n",
       "capacity_mw:primary_fuel[T.Storage]                 -10.5588     12.124     -0.871      0.384     -34.323      13.205\n",
       "capacity_mw:primary_fuel[T.Waste]                    -6.6357      1.757     -3.778      0.000     -10.079      -3.193\n",
       "capacity_mw:primary_fuel[T.Wave and Tidal]        -4.007e-07   2.08e-07     -1.928      0.054   -8.08e-07    6.64e-09\n",
       "capacity_mw:primary_fuel[T.Wind]                     -7.0224      0.807     -8.702      0.000      -8.604      -5.441\n",
       "latitude                                              0.1433      0.414      0.346      0.729      -0.669       0.955\n",
       "longitude                                             0.9040      0.236      3.831      0.000       0.441       1.366\n",
       "green                                             -7924.6722   9328.728     -0.849      0.396   -2.62e+04    1.04e+04\n",
       "commissioning_year                                    3.4896      2.625      1.329      0.184      -1.656       8.635\n",
       "primary_fuel[T.Coal]:commissioning_year              -7.3568      2.927     -2.514      0.012     -13.093      -1.620\n",
       "primary_fuel[T.Cogeneration]:commissioning_year      -2.8861      9.613     -0.300      0.764     -21.729      15.957\n",
       "primary_fuel[T.Gas]:commissioning_year               -1.8326      2.817     -0.651      0.515      -7.355       3.689\n",
       "primary_fuel[T.Geothermal]:commissioning_year         0.5495      6.839      0.080      0.936     -12.856      13.955\n",
       "primary_fuel[T.Hydro]:commissioning_year             -5.1597      2.665     -1.936      0.053     -10.384       0.065\n",
       "primary_fuel[T.Nuclear]:commissioning_year          -95.3453      9.544     -9.990      0.000    -114.052     -76.639\n",
       "primary_fuel[T.Oil]:commissioning_year               -3.6240      2.947     -1.230      0.219      -9.401       2.153\n",
       "primary_fuel[T.Other]:commissioning_year              4.4961      7.863      0.572      0.567     -10.917      19.909\n",
       "primary_fuel[T.Petcoke]:commissioning_year          -15.7260     27.923     -0.563      0.573     -70.458      39.006\n",
       "primary_fuel[T.Solar]:commissioning_year             -8.1598      7.058     -1.156      0.248     -21.994       5.674\n",
       "primary_fuel[T.Storage]:commissioning_year           -4.9373     44.014     -0.112      0.911     -91.210      81.335\n",
       "primary_fuel[T.Waste]:commissioning_year             -4.2282      4.027     -1.050      0.294     -12.121       3.664\n",
       "primary_fuel[T.Wave and Tidal]:commissioning_year          0          0        nan        nan           0           0\n",
       "primary_fuel[T.Wind]:commissioning_year             -10.8853      4.250     -2.561      0.010     -19.217      -2.554\n",
       "capacity_mw:commissioning_year                        0.0052      0.001      5.999      0.000       0.004       0.007\n",
       "latitude:longitude                                    0.0134      0.006      2.169      0.030       0.001       0.026\n",
       "==============================================================================\n",
       "Omnibus:                    20479.006   Durbin-Watson:                   1.816\n",
       "Prob(Omnibus):                  0.000   Jarque-Bera (JB):         27913741.531\n",
       "Skew:                           6.117   Prob(JB):                         0.00\n",
       "Kurtosis:                     205.749   Cond. No.                     1.08e+16\n",
       "==============================================================================\n",
       "\n",
       "Notes:\n",
       "[1] Standard Errors assume that the covariance matrix of the errors is correctly specified.\n",
       "[2] The smallest eigenvalue is 2.14e-16. This might indicate that there are\n",
       "strong multicollinearity problems or that the design matrix is singular.\n",
       "\"\"\""
      ]
     },
     "execution_count": 54,
     "metadata": {},
     "output_type": "execute_result"
    }
   ],
   "source": [
    "model12 = sm.ols(formula=\"avg_annual_output ~ capacity_mw+latitude+longitude+primary_fuel+green+commissioning_year+capacity_mw*primary_fuel+capacity_mw*commissioning_year+primary_fuel*commissioning_year+latitude*longitude\", data=df_all).fit()\n",
    "model12.summary()"
   ]
  },
  {
   "cell_type": "markdown",
   "metadata": {},
   "source": [
    "**Interpretation:** We see that 'primary_fuel' variable on its own still can have low p-values but the combination of capacity and primary fuel looks much better in terms of p-values. 'Capacity_mw' and 'green' do not have low p-values anymore after accounting for multicolinearity. Latitude and Commissioning year did not have a high p-value from the very beginning, but the combination of longitude and latitude does, as well as the combination of 'capacity_mw' and 'commissioning_year'. Therefore, let's only keep 'longitude:latitude', 'primary_fuel:capacity' and 'capacity:commissioning_year' "
   ]
  },
  {
   "cell_type": "code",
   "execution_count": 55,
   "metadata": {
    "scrolled": true
   },
   "outputs": [
    {
     "data": {
      "text/html": [
       "<table class=\"simpletable\">\n",
       "<caption>OLS Regression Results</caption>\n",
       "<tr>\n",
       "  <th>Dep. Variable:</th>    <td>avg_annual_output</td> <th>  R-squared:         </th>  <td>   0.892</td>  \n",
       "</tr>\n",
       "<tr>\n",
       "  <th>Model:</th>                   <td>OLS</td>        <th>  Adj. R-squared:    </th>  <td>   0.892</td>  \n",
       "</tr>\n",
       "<tr>\n",
       "  <th>Method:</th>             <td>Least Squares</td>   <th>  F-statistic:       </th>  <td>   4193.</td>  \n",
       "</tr>\n",
       "<tr>\n",
       "  <th>Date:</th>             <td>Sat, 20 Mar 2021</td>  <th>  Prob (F-statistic):</th>   <td>  0.00</td>   \n",
       "</tr>\n",
       "<tr>\n",
       "  <th>Time:</th>                 <td>19:50:27</td>      <th>  Log-Likelihood:    </th> <td>-1.3319e+05</td>\n",
       "</tr>\n",
       "<tr>\n",
       "  <th>No. Observations:</th>      <td> 16238</td>       <th>  AIC:               </th>  <td>2.665e+05</td> \n",
       "</tr>\n",
       "<tr>\n",
       "  <th>Df Residuals:</th>          <td> 16205</td>       <th>  BIC:               </th>  <td>2.667e+05</td> \n",
       "</tr>\n",
       "<tr>\n",
       "  <th>Df Model:</th>              <td>    32</td>       <th>                     </th>      <td> </td>     \n",
       "</tr>\n",
       "<tr>\n",
       "  <th>Covariance Type:</th>      <td>nonrobust</td>     <th>                     </th>      <td> </td>     \n",
       "</tr>\n",
       "</table>\n",
       "<table class=\"simpletable\">\n",
       "<tr>\n",
       "                       <td></td>                         <th>coef</th>     <th>std err</th>      <th>t</th>      <th>P>|t|</th>  <th>[0.025</th>    <th>0.975]</th>  \n",
       "</tr>\n",
       "<tr>\n",
       "  <th>Intercept</th>                                  <td> 2135.3304</td> <td>  848.061</td> <td>    2.518</td> <td> 0.012</td> <td>  473.037</td> <td> 3797.624</td>\n",
       "</tr>\n",
       "<tr>\n",
       "  <th>primary_fuel[T.Coal]</th>                       <td> -101.7226</td> <td>   56.716</td> <td>   -1.794</td> <td> 0.073</td> <td> -212.892</td> <td>    9.447</td>\n",
       "</tr>\n",
       "<tr>\n",
       "  <th>primary_fuel[T.Cogeneration]</th>               <td>  125.9374</td> <td>  216.312</td> <td>    0.582</td> <td> 0.560</td> <td> -298.058</td> <td>  549.933</td>\n",
       "</tr>\n",
       "<tr>\n",
       "  <th>primary_fuel[T.Gas]</th>                        <td>   -6.5028</td> <td>   51.351</td> <td>   -0.127</td> <td> 0.899</td> <td> -107.157</td> <td>   94.151</td>\n",
       "</tr>\n",
       "<tr>\n",
       "  <th>primary_fuel[T.Geothermal]</th>                 <td>  137.4925</td> <td>   95.676</td> <td>    1.437</td> <td> 0.151</td> <td>  -50.044</td> <td>  325.029</td>\n",
       "</tr>\n",
       "<tr>\n",
       "  <th>primary_fuel[T.Hydro]</th>                      <td>  -22.6581</td> <td>   50.053</td> <td>   -0.453</td> <td> 0.651</td> <td> -120.768</td> <td>   75.452</td>\n",
       "</tr>\n",
       "<tr>\n",
       "  <th>primary_fuel[T.Nuclear]</th>                    <td>  -95.9477</td> <td>  195.660</td> <td>   -0.490</td> <td> 0.624</td> <td> -479.462</td> <td>  287.567</td>\n",
       "</tr>\n",
       "<tr>\n",
       "  <th>primary_fuel[T.Oil]</th>                        <td>  100.2061</td> <td>   51.630</td> <td>    1.941</td> <td> 0.052</td> <td>   -0.993</td> <td>  201.406</td>\n",
       "</tr>\n",
       "<tr>\n",
       "  <th>primary_fuel[T.Other]</th>                      <td>  331.0723</td> <td>  194.785</td> <td>    1.700</td> <td> 0.089</td> <td>  -50.727</td> <td>  712.872</td>\n",
       "</tr>\n",
       "<tr>\n",
       "  <th>primary_fuel[T.Petcoke]</th>                    <td>   54.0002</td> <td>  283.322</td> <td>    0.191</td> <td> 0.849</td> <td> -501.342</td> <td>  609.342</td>\n",
       "</tr>\n",
       "<tr>\n",
       "  <th>primary_fuel[T.Solar]</th>                      <td>  132.6592</td> <td>   51.718</td> <td>    2.565</td> <td> 0.010</td> <td>   31.287</td> <td>  234.031</td>\n",
       "</tr>\n",
       "<tr>\n",
       "  <th>primary_fuel[T.Storage]</th>                    <td>  181.8035</td> <td>  157.410</td> <td>    1.155</td> <td> 0.248</td> <td> -126.737</td> <td>  490.344</td>\n",
       "</tr>\n",
       "<tr>\n",
       "  <th>primary_fuel[T.Waste]</th>                      <td>  140.1872</td> <td>   64.045</td> <td>    2.189</td> <td> 0.029</td> <td>   14.652</td> <td>  265.722</td>\n",
       "</tr>\n",
       "<tr>\n",
       "  <th>primary_fuel[T.Wave and Tidal]</th>             <td> 7.054e-11</td> <td>  2.4e-09</td> <td>    0.029</td> <td> 0.977</td> <td>-4.63e-09</td> <td> 4.77e-09</td>\n",
       "</tr>\n",
       "<tr>\n",
       "  <th>primary_fuel[T.Wind]</th>                       <td>   75.8281</td> <td>   52.657</td> <td>    1.440</td> <td> 0.150</td> <td>  -27.386</td> <td>  179.042</td>\n",
       "</tr>\n",
       "<tr>\n",
       "  <th>latitude</th>                                   <td>    0.2949</td> <td>    0.412</td> <td>    0.716</td> <td> 0.474</td> <td>   -0.512</td> <td>    1.102</td>\n",
       "</tr>\n",
       "<tr>\n",
       "  <th>longitude</th>                                  <td>    0.8199</td> <td>    0.235</td> <td>    3.493</td> <td> 0.000</td> <td>    0.360</td> <td>    1.280</td>\n",
       "</tr>\n",
       "<tr>\n",
       "  <th>latitude:longitude</th>                         <td>    0.0131</td> <td>    0.006</td> <td>    2.120</td> <td> 0.034</td> <td>    0.001</td> <td>    0.025</td>\n",
       "</tr>\n",
       "<tr>\n",
       "  <th>capacity_mw</th>                                <td>    1.5968</td> <td>    1.752</td> <td>    0.911</td> <td> 0.362</td> <td>   -1.838</td> <td>    5.031</td>\n",
       "</tr>\n",
       "<tr>\n",
       "  <th>capacity_mw:primary_fuel[T.Coal]</th>           <td>   -5.3567</td> <td>    0.759</td> <td>   -7.060</td> <td> 0.000</td> <td>   -6.844</td> <td>   -3.869</td>\n",
       "</tr>\n",
       "<tr>\n",
       "  <th>capacity_mw:primary_fuel[T.Cogeneration]</th>   <td>   -6.8276</td> <td>    5.065</td> <td>   -1.348</td> <td> 0.178</td> <td>  -16.755</td> <td>    3.100</td>\n",
       "</tr>\n",
       "<tr>\n",
       "  <th>capacity_mw:primary_fuel[T.Gas]</th>            <td>   -6.4999</td> <td>    0.759</td> <td>   -8.562</td> <td> 0.000</td> <td>   -7.988</td> <td>   -5.012</td>\n",
       "</tr>\n",
       "<tr>\n",
       "  <th>capacity_mw:primary_fuel[T.Geothermal]</th>     <td>   -5.4742</td> <td>    1.053</td> <td>   -5.196</td> <td> 0.000</td> <td>   -7.539</td> <td>   -3.409</td>\n",
       "</tr>\n",
       "<tr>\n",
       "  <th>capacity_mw:primary_fuel[T.Hydro]</th>          <td>   -5.9496</td> <td>    0.759</td> <td>   -7.841</td> <td> 0.000</td> <td>   -7.437</td> <td>   -4.462</td>\n",
       "</tr>\n",
       "<tr>\n",
       "  <th>capacity_mw:primary_fuel[T.Nuclear]</th>        <td>   -2.4047</td> <td>    0.766</td> <td>   -3.138</td> <td> 0.002</td> <td>   -3.907</td> <td>   -0.903</td>\n",
       "</tr>\n",
       "<tr>\n",
       "  <th>capacity_mw:primary_fuel[T.Oil]</th>            <td>   -6.9691</td> <td>    0.761</td> <td>   -9.153</td> <td> 0.000</td> <td>   -8.462</td> <td>   -5.477</td>\n",
       "</tr>\n",
       "<tr>\n",
       "  <th>capacity_mw:primary_fuel[T.Other]</th>          <td>  -10.1889</td> <td>    1.220</td> <td>   -8.350</td> <td> 0.000</td> <td>  -12.581</td> <td>   -7.797</td>\n",
       "</tr>\n",
       "<tr>\n",
       "  <th>capacity_mw:primary_fuel[T.Petcoke]</th>        <td>   -6.1592</td> <td>    0.942</td> <td>   -6.536</td> <td> 0.000</td> <td>   -8.006</td> <td>   -4.312</td>\n",
       "</tr>\n",
       "<tr>\n",
       "  <th>capacity_mw:primary_fuel[T.Solar]</th>          <td>   -8.4985</td> <td>    0.915</td> <td>   -9.292</td> <td> 0.000</td> <td>  -10.291</td> <td>   -6.706</td>\n",
       "</tr>\n",
       "<tr>\n",
       "  <th>capacity_mw:primary_fuel[T.Storage]</th>        <td>  -10.3571</td> <td>   12.119</td> <td>   -0.855</td> <td> 0.393</td> <td>  -34.112</td> <td>   13.398</td>\n",
       "</tr>\n",
       "<tr>\n",
       "  <th>capacity_mw:primary_fuel[T.Waste]</th>          <td>   -6.5222</td> <td>    1.641</td> <td>   -3.976</td> <td> 0.000</td> <td>   -9.738</td> <td>   -3.306</td>\n",
       "</tr>\n",
       "<tr>\n",
       "  <th>capacity_mw:primary_fuel[T.Wave and Tidal]</th> <td>-3.247e-14</td> <td> 2.32e-14</td> <td>   -1.402</td> <td> 0.161</td> <td>-7.79e-14</td> <td> 1.29e-14</td>\n",
       "</tr>\n",
       "<tr>\n",
       "  <th>capacity_mw:primary_fuel[T.Wind]</th>           <td>   -6.9440</td> <td>    0.801</td> <td>   -8.672</td> <td> 0.000</td> <td>   -8.513</td> <td>   -5.375</td>\n",
       "</tr>\n",
       "<tr>\n",
       "  <th>commissioning_year</th>                         <td>   -1.0787</td> <td>    0.422</td> <td>   -2.556</td> <td> 0.011</td> <td>   -1.906</td> <td>   -0.252</td>\n",
       "</tr>\n",
       "<tr>\n",
       "  <th>capacity_mw:commissioning_year</th>             <td>    0.0042</td> <td>    0.001</td> <td>    5.283</td> <td> 0.000</td> <td>    0.003</td> <td>    0.006</td>\n",
       "</tr>\n",
       "</table>\n",
       "<table class=\"simpletable\">\n",
       "<tr>\n",
       "  <th>Omnibus:</th>       <td>20148.779</td> <th>  Durbin-Watson:     </th>   <td>   1.818</td>  \n",
       "</tr>\n",
       "<tr>\n",
       "  <th>Prob(Omnibus):</th>  <td> 0.000</td>   <th>  Jarque-Bera (JB):  </th> <td>27329767.706</td>\n",
       "</tr>\n",
       "<tr>\n",
       "  <th>Skew:</th>           <td> 5.919</td>   <th>  Prob(JB):          </th>   <td>    0.00</td>  \n",
       "</tr>\n",
       "<tr>\n",
       "  <th>Kurtosis:</th>       <td>203.633</td>  <th>  Cond. No.          </th>   <td>1.08e+16</td>  \n",
       "</tr>\n",
       "</table><br/><br/>Notes:<br/>[1] Standard Errors assume that the covariance matrix of the errors is correctly specified.<br/>[2] The smallest eigenvalue is 2.14e-16. This might indicate that there are<br/>strong multicollinearity problems or that the design matrix is singular."
      ],
      "text/plain": [
       "<class 'statsmodels.iolib.summary.Summary'>\n",
       "\"\"\"\n",
       "                            OLS Regression Results                            \n",
       "==============================================================================\n",
       "Dep. Variable:      avg_annual_output   R-squared:                       0.892\n",
       "Model:                            OLS   Adj. R-squared:                  0.892\n",
       "Method:                 Least Squares   F-statistic:                     4193.\n",
       "Date:                Sat, 20 Mar 2021   Prob (F-statistic):               0.00\n",
       "Time:                        19:50:27   Log-Likelihood:            -1.3319e+05\n",
       "No. Observations:               16238   AIC:                         2.665e+05\n",
       "Df Residuals:                   16205   BIC:                         2.667e+05\n",
       "Df Model:                          32                                         \n",
       "Covariance Type:            nonrobust                                         \n",
       "==============================================================================================================\n",
       "                                                 coef    std err          t      P>|t|      [0.025      0.975]\n",
       "--------------------------------------------------------------------------------------------------------------\n",
       "Intercept                                   2135.3304    848.061      2.518      0.012     473.037    3797.624\n",
       "primary_fuel[T.Coal]                        -101.7226     56.716     -1.794      0.073    -212.892       9.447\n",
       "primary_fuel[T.Cogeneration]                 125.9374    216.312      0.582      0.560    -298.058     549.933\n",
       "primary_fuel[T.Gas]                           -6.5028     51.351     -0.127      0.899    -107.157      94.151\n",
       "primary_fuel[T.Geothermal]                   137.4925     95.676      1.437      0.151     -50.044     325.029\n",
       "primary_fuel[T.Hydro]                        -22.6581     50.053     -0.453      0.651    -120.768      75.452\n",
       "primary_fuel[T.Nuclear]                      -95.9477    195.660     -0.490      0.624    -479.462     287.567\n",
       "primary_fuel[T.Oil]                          100.2061     51.630      1.941      0.052      -0.993     201.406\n",
       "primary_fuel[T.Other]                        331.0723    194.785      1.700      0.089     -50.727     712.872\n",
       "primary_fuel[T.Petcoke]                       54.0002    283.322      0.191      0.849    -501.342     609.342\n",
       "primary_fuel[T.Solar]                        132.6592     51.718      2.565      0.010      31.287     234.031\n",
       "primary_fuel[T.Storage]                      181.8035    157.410      1.155      0.248    -126.737     490.344\n",
       "primary_fuel[T.Waste]                        140.1872     64.045      2.189      0.029      14.652     265.722\n",
       "primary_fuel[T.Wave and Tidal]              7.054e-11    2.4e-09      0.029      0.977   -4.63e-09    4.77e-09\n",
       "primary_fuel[T.Wind]                          75.8281     52.657      1.440      0.150     -27.386     179.042\n",
       "latitude                                       0.2949      0.412      0.716      0.474      -0.512       1.102\n",
       "longitude                                      0.8199      0.235      3.493      0.000       0.360       1.280\n",
       "latitude:longitude                             0.0131      0.006      2.120      0.034       0.001       0.025\n",
       "capacity_mw                                    1.5968      1.752      0.911      0.362      -1.838       5.031\n",
       "capacity_mw:primary_fuel[T.Coal]              -5.3567      0.759     -7.060      0.000      -6.844      -3.869\n",
       "capacity_mw:primary_fuel[T.Cogeneration]      -6.8276      5.065     -1.348      0.178     -16.755       3.100\n",
       "capacity_mw:primary_fuel[T.Gas]               -6.4999      0.759     -8.562      0.000      -7.988      -5.012\n",
       "capacity_mw:primary_fuel[T.Geothermal]        -5.4742      1.053     -5.196      0.000      -7.539      -3.409\n",
       "capacity_mw:primary_fuel[T.Hydro]             -5.9496      0.759     -7.841      0.000      -7.437      -4.462\n",
       "capacity_mw:primary_fuel[T.Nuclear]           -2.4047      0.766     -3.138      0.002      -3.907      -0.903\n",
       "capacity_mw:primary_fuel[T.Oil]               -6.9691      0.761     -9.153      0.000      -8.462      -5.477\n",
       "capacity_mw:primary_fuel[T.Other]            -10.1889      1.220     -8.350      0.000     -12.581      -7.797\n",
       "capacity_mw:primary_fuel[T.Petcoke]           -6.1592      0.942     -6.536      0.000      -8.006      -4.312\n",
       "capacity_mw:primary_fuel[T.Solar]             -8.4985      0.915     -9.292      0.000     -10.291      -6.706\n",
       "capacity_mw:primary_fuel[T.Storage]          -10.3571     12.119     -0.855      0.393     -34.112      13.398\n",
       "capacity_mw:primary_fuel[T.Waste]             -6.5222      1.641     -3.976      0.000      -9.738      -3.306\n",
       "capacity_mw:primary_fuel[T.Wave and Tidal] -3.247e-14   2.32e-14     -1.402      0.161   -7.79e-14    1.29e-14\n",
       "capacity_mw:primary_fuel[T.Wind]              -6.9440      0.801     -8.672      0.000      -8.513      -5.375\n",
       "commissioning_year                            -1.0787      0.422     -2.556      0.011      -1.906      -0.252\n",
       "capacity_mw:commissioning_year                 0.0042      0.001      5.283      0.000       0.003       0.006\n",
       "==============================================================================\n",
       "Omnibus:                    20148.779   Durbin-Watson:                   1.818\n",
       "Prob(Omnibus):                  0.000   Jarque-Bera (JB):         27329767.706\n",
       "Skew:                           5.919   Prob(JB):                         0.00\n",
       "Kurtosis:                     203.633   Cond. No.                     1.08e+16\n",
       "==============================================================================\n",
       "\n",
       "Notes:\n",
       "[1] Standard Errors assume that the covariance matrix of the errors is correctly specified.\n",
       "[2] The smallest eigenvalue is 2.14e-16. This might indicate that there are\n",
       "strong multicollinearity problems or that the design matrix is singular.\n",
       "\"\"\""
      ]
     },
     "execution_count": 55,
     "metadata": {},
     "output_type": "execute_result"
    }
   ],
   "source": [
    "model123 = sm.ols(formula=\"avg_annual_output ~ latitude*longitude+capacity_mw*primary_fuel+capacity_mw*commissioning_year\", data=df_all).fit()\n",
    "model123.summary()"
   ]
  }
 ],
 "metadata": {
  "kernelspec": {
   "display_name": "Python 3",
   "language": "python",
   "name": "python3"
  },
  "language_info": {
   "codemirror_mode": {
    "name": "ipython",
    "version": 3
   },
   "file_extension": ".py",
   "mimetype": "text/x-python",
   "name": "python",
   "nbconvert_exporter": "python",
   "pygments_lexer": "ipython3",
   "version": "3.8.5"
  }
 },
 "nbformat": 4,
 "nbformat_minor": 4
}
