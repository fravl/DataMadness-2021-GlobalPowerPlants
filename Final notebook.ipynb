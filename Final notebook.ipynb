{
 "cells": [
  {
   "cell_type": "code",
   "execution_count": 40,
   "metadata": {},
   "outputs": [],
   "source": [
    "#!pip install reverse_geocoder\n",
    "#!pip install plotly_express\n",
    "\n",
    "import pandas as pd\n",
    "import numpy as np\n",
    "import matplotlib.pyplot as plt\n",
    "import reverse_geocoder as rg\n",
    "import plotly.graph_objects as go\n",
    "import plotly_express as px\n",
    "\n",
    "\n",
    "# disable SettingWithCopyWarning\n",
    "pd.options.mode.chained_assignment = None  # default='warn'"
   ]
  },
  {
   "cell_type": "code",
   "execution_count": 65,
   "metadata": {},
   "outputs": [],
   "source": [
    "# Output\n",
    "#  df_ts_complete: df with values where time series is complete\n",
    "#  df_estimate: df where all time series values are NaN but there is an estimate\n",
    "#  df_ts_incomplete: df with values where at least one of time series values is NaN\n",
    "# \n",
    "# Reads global powerplant data data from CSV, drops irrelevant columns, splits df (see output), \n",
    "# and re-indexes df with gppdf_idnr as index\n",
    "def read_clean_and_split():  \n",
    "    df = pd.read_csv(\"data\\global_power_plant_database.csv\")\n",
    "    df_all = df.drop(['country_long', 'url', 'geolocation_source', 'wepp_id'], axis=1)\n",
    "    \n",
    "    df_ts = (df_all.dropna(how='all', subset=['generation_gwh_2013', 'generation_gwh_2014', 'generation_gwh_2015', 'generation_gwh_2016', 'generation_gwh_2017'])\n",
    "                      .set_index('gppd_idnr'))\n",
    "    df_ts_complete = df_ts.dropna(how='any', subset=['generation_gwh_2013', 'generation_gwh_2014', 'generation_gwh_2015', 'generation_gwh_2016', 'generation_gwh_2017'])\n",
    "    df_estimate = (df_all.dropna(how='any', subset=['estimated_generation_gwh'])\n",
    "                   .set_index('gppd_idnr'))\n",
    "    df_ts_incomplete = df_ts[df_ts[['generation_gwh_2013', 'generation_gwh_2014', 'generation_gwh_2015', 'generation_gwh_2016', 'generation_gwh_2017']].isnull().any(axis=1)]\n",
    "    return df_all, df_ts_complete, df_ts_incomplete, df_estimate     "
   ]
  },
  {
   "cell_type": "code",
   "execution_count": 66,
   "metadata": {},
   "outputs": [
    {
     "data": {
      "text/html": [
       "<div>\n",
       "<style scoped>\n",
       "    .dataframe tbody tr th:only-of-type {\n",
       "        vertical-align: middle;\n",
       "    }\n",
       "\n",
       "    .dataframe tbody tr th {\n",
       "        vertical-align: top;\n",
       "    }\n",
       "\n",
       "    .dataframe thead th {\n",
       "        text-align: right;\n",
       "    }\n",
       "</style>\n",
       "<table border=\"1\" class=\"dataframe\">\n",
       "  <thead>\n",
       "    <tr style=\"text-align: right;\">\n",
       "      <th></th>\n",
       "      <th>country</th>\n",
       "      <th>name</th>\n",
       "      <th>gppd_idnr</th>\n",
       "      <th>capacity_mw</th>\n",
       "      <th>latitude</th>\n",
       "      <th>longitude</th>\n",
       "      <th>primary_fuel</th>\n",
       "      <th>other_fuel1</th>\n",
       "      <th>other_fuel2</th>\n",
       "      <th>other_fuel3</th>\n",
       "      <th>commissioning_year</th>\n",
       "      <th>owner</th>\n",
       "      <th>source</th>\n",
       "      <th>year_of_capacity_data</th>\n",
       "      <th>generation_gwh_2013</th>\n",
       "      <th>generation_gwh_2014</th>\n",
       "      <th>generation_gwh_2015</th>\n",
       "      <th>generation_gwh_2016</th>\n",
       "      <th>generation_gwh_2017</th>\n",
       "      <th>estimated_generation_gwh</th>\n",
       "    </tr>\n",
       "  </thead>\n",
       "  <tbody>\n",
       "    <tr>\n",
       "      <th>0</th>\n",
       "      <td>AFG</td>\n",
       "      <td>Kajaki Hydroelectric Power Plant Afghanistan</td>\n",
       "      <td>GEODB0040538</td>\n",
       "      <td>33.00</td>\n",
       "      <td>32.3220</td>\n",
       "      <td>65.1190</td>\n",
       "      <td>Hydro</td>\n",
       "      <td>NaN</td>\n",
       "      <td>NaN</td>\n",
       "      <td>NaN</td>\n",
       "      <td>NaN</td>\n",
       "      <td>NaN</td>\n",
       "      <td>GEODB</td>\n",
       "      <td>2017.0</td>\n",
       "      <td>NaN</td>\n",
       "      <td>NaN</td>\n",
       "      <td>NaN</td>\n",
       "      <td>NaN</td>\n",
       "      <td>NaN</td>\n",
       "      <td>NaN</td>\n",
       "    </tr>\n",
       "    <tr>\n",
       "      <th>1</th>\n",
       "      <td>AFG</td>\n",
       "      <td>Mahipar Hydroelectric Power Plant Afghanistan</td>\n",
       "      <td>GEODB0040541</td>\n",
       "      <td>66.00</td>\n",
       "      <td>34.5560</td>\n",
       "      <td>69.4787</td>\n",
       "      <td>Hydro</td>\n",
       "      <td>NaN</td>\n",
       "      <td>NaN</td>\n",
       "      <td>NaN</td>\n",
       "      <td>NaN</td>\n",
       "      <td>NaN</td>\n",
       "      <td>GEODB</td>\n",
       "      <td>2017.0</td>\n",
       "      <td>NaN</td>\n",
       "      <td>NaN</td>\n",
       "      <td>NaN</td>\n",
       "      <td>NaN</td>\n",
       "      <td>NaN</td>\n",
       "      <td>NaN</td>\n",
       "    </tr>\n",
       "    <tr>\n",
       "      <th>2</th>\n",
       "      <td>AFG</td>\n",
       "      <td>Naghlu Dam Hydroelectric Power Plant Afghanistan</td>\n",
       "      <td>GEODB0040534</td>\n",
       "      <td>100.00</td>\n",
       "      <td>34.6410</td>\n",
       "      <td>69.7170</td>\n",
       "      <td>Hydro</td>\n",
       "      <td>NaN</td>\n",
       "      <td>NaN</td>\n",
       "      <td>NaN</td>\n",
       "      <td>NaN</td>\n",
       "      <td>NaN</td>\n",
       "      <td>GEODB</td>\n",
       "      <td>2017.0</td>\n",
       "      <td>NaN</td>\n",
       "      <td>NaN</td>\n",
       "      <td>NaN</td>\n",
       "      <td>NaN</td>\n",
       "      <td>NaN</td>\n",
       "      <td>NaN</td>\n",
       "    </tr>\n",
       "    <tr>\n",
       "      <th>3</th>\n",
       "      <td>AFG</td>\n",
       "      <td>Nangarhar (Darunta) Hydroelectric Power Plant ...</td>\n",
       "      <td>GEODB0040536</td>\n",
       "      <td>11.55</td>\n",
       "      <td>34.4847</td>\n",
       "      <td>70.3633</td>\n",
       "      <td>Hydro</td>\n",
       "      <td>NaN</td>\n",
       "      <td>NaN</td>\n",
       "      <td>NaN</td>\n",
       "      <td>NaN</td>\n",
       "      <td>NaN</td>\n",
       "      <td>GEODB</td>\n",
       "      <td>2017.0</td>\n",
       "      <td>NaN</td>\n",
       "      <td>NaN</td>\n",
       "      <td>NaN</td>\n",
       "      <td>NaN</td>\n",
       "      <td>NaN</td>\n",
       "      <td>NaN</td>\n",
       "    </tr>\n",
       "    <tr>\n",
       "      <th>4</th>\n",
       "      <td>AFG</td>\n",
       "      <td>Northwest Kabul Power Plant Afghanistan</td>\n",
       "      <td>GEODB0040540</td>\n",
       "      <td>42.00</td>\n",
       "      <td>34.5638</td>\n",
       "      <td>69.1134</td>\n",
       "      <td>Gas</td>\n",
       "      <td>NaN</td>\n",
       "      <td>NaN</td>\n",
       "      <td>NaN</td>\n",
       "      <td>NaN</td>\n",
       "      <td>NaN</td>\n",
       "      <td>GEODB</td>\n",
       "      <td>2017.0</td>\n",
       "      <td>NaN</td>\n",
       "      <td>NaN</td>\n",
       "      <td>NaN</td>\n",
       "      <td>NaN</td>\n",
       "      <td>NaN</td>\n",
       "      <td>NaN</td>\n",
       "    </tr>\n",
       "  </tbody>\n",
       "</table>\n",
       "</div>"
      ],
      "text/plain": [
       "  country                                               name     gppd_idnr  \\\n",
       "0     AFG       Kajaki Hydroelectric Power Plant Afghanistan  GEODB0040538   \n",
       "1     AFG      Mahipar Hydroelectric Power Plant Afghanistan  GEODB0040541   \n",
       "2     AFG   Naghlu Dam Hydroelectric Power Plant Afghanistan  GEODB0040534   \n",
       "3     AFG  Nangarhar (Darunta) Hydroelectric Power Plant ...  GEODB0040536   \n",
       "4     AFG            Northwest Kabul Power Plant Afghanistan  GEODB0040540   \n",
       "\n",
       "   capacity_mw  latitude  longitude primary_fuel other_fuel1 other_fuel2  \\\n",
       "0        33.00   32.3220    65.1190        Hydro         NaN         NaN   \n",
       "1        66.00   34.5560    69.4787        Hydro         NaN         NaN   \n",
       "2       100.00   34.6410    69.7170        Hydro         NaN         NaN   \n",
       "3        11.55   34.4847    70.3633        Hydro         NaN         NaN   \n",
       "4        42.00   34.5638    69.1134          Gas         NaN         NaN   \n",
       "\n",
       "  other_fuel3  commissioning_year owner source  year_of_capacity_data  \\\n",
       "0         NaN                 NaN   NaN  GEODB                 2017.0   \n",
       "1         NaN                 NaN   NaN  GEODB                 2017.0   \n",
       "2         NaN                 NaN   NaN  GEODB                 2017.0   \n",
       "3         NaN                 NaN   NaN  GEODB                 2017.0   \n",
       "4         NaN                 NaN   NaN  GEODB                 2017.0   \n",
       "\n",
       "   generation_gwh_2013  generation_gwh_2014  generation_gwh_2015  \\\n",
       "0                  NaN                  NaN                  NaN   \n",
       "1                  NaN                  NaN                  NaN   \n",
       "2                  NaN                  NaN                  NaN   \n",
       "3                  NaN                  NaN                  NaN   \n",
       "4                  NaN                  NaN                  NaN   \n",
       "\n",
       "   generation_gwh_2016  generation_gwh_2017  estimated_generation_gwh  \n",
       "0                  NaN                  NaN                       NaN  \n",
       "1                  NaN                  NaN                       NaN  \n",
       "2                  NaN                  NaN                       NaN  \n",
       "3                  NaN                  NaN                       NaN  \n",
       "4                  NaN                  NaN                       NaN  "
      ]
     },
     "execution_count": 66,
     "metadata": {},
     "output_type": "execute_result"
    }
   ],
   "source": [
    "df_all, df_ts_complete, df_ts_incomplete, df_estimate = read_clean_and_split()\n",
    "df_all.head()"
   ]
  },
  {
   "cell_type": "markdown",
   "metadata": {},
   "source": [
    "# EDA\n",
    "## 1. Plot distribution of capacity for each fuel type"
   ]
  },
  {
   "cell_type": "code",
   "execution_count": 22,
   "metadata": {},
   "outputs": [
    {
     "data": {
      "text/html": [
       "<div>\n",
       "<style scoped>\n",
       "    .dataframe tbody tr th:only-of-type {\n",
       "        vertical-align: middle;\n",
       "    }\n",
       "\n",
       "    .dataframe tbody tr th {\n",
       "        vertical-align: top;\n",
       "    }\n",
       "\n",
       "    .dataframe thead tr th {\n",
       "        text-align: left;\n",
       "    }\n",
       "\n",
       "    .dataframe thead tr:last-of-type th {\n",
       "        text-align: right;\n",
       "    }\n",
       "</style>\n",
       "<table border=\"1\" class=\"dataframe\">\n",
       "  <thead>\n",
       "    <tr>\n",
       "      <th></th>\n",
       "      <th colspan=\"8\" halign=\"left\">capacity_mw</th>\n",
       "      <th colspan=\"2\" halign=\"left\">latitude</th>\n",
       "      <th>...</th>\n",
       "      <th colspan=\"2\" halign=\"left\">generation_gwh_2017</th>\n",
       "      <th colspan=\"8\" halign=\"left\">estimated_generation_gwh</th>\n",
       "    </tr>\n",
       "    <tr>\n",
       "      <th></th>\n",
       "      <th>count</th>\n",
       "      <th>mean</th>\n",
       "      <th>std</th>\n",
       "      <th>min</th>\n",
       "      <th>25%</th>\n",
       "      <th>50%</th>\n",
       "      <th>75%</th>\n",
       "      <th>max</th>\n",
       "      <th>count</th>\n",
       "      <th>mean</th>\n",
       "      <th>...</th>\n",
       "      <th>75%</th>\n",
       "      <th>max</th>\n",
       "      <th>count</th>\n",
       "      <th>mean</th>\n",
       "      <th>std</th>\n",
       "      <th>min</th>\n",
       "      <th>25%</th>\n",
       "      <th>50%</th>\n",
       "      <th>75%</th>\n",
       "      <th>max</th>\n",
       "    </tr>\n",
       "    <tr>\n",
       "      <th>primary_fuel</th>\n",
       "      <th></th>\n",
       "      <th></th>\n",
       "      <th></th>\n",
       "      <th></th>\n",
       "      <th></th>\n",
       "      <th></th>\n",
       "      <th></th>\n",
       "      <th></th>\n",
       "      <th></th>\n",
       "      <th></th>\n",
       "      <th></th>\n",
       "      <th></th>\n",
       "      <th></th>\n",
       "      <th></th>\n",
       "      <th></th>\n",
       "      <th></th>\n",
       "      <th></th>\n",
       "      <th></th>\n",
       "      <th></th>\n",
       "      <th></th>\n",
       "      <th></th>\n",
       "    </tr>\n",
       "  </thead>\n",
       "  <tbody>\n",
       "    <tr>\n",
       "      <th>Biomass</th>\n",
       "      <td>1396.0</td>\n",
       "      <td>24.667408</td>\n",
       "      <td>39.970655</td>\n",
       "      <td>1.0</td>\n",
       "      <td>3.0000</td>\n",
       "      <td>9.95</td>\n",
       "      <td>29.175</td>\n",
       "      <td>528.00</td>\n",
       "      <td>1396.0</td>\n",
       "      <td>19.364704</td>\n",
       "      <td>...</td>\n",
       "      <td>338.506503</td>\n",
       "      <td>831.165002</td>\n",
       "      <td>1241.0</td>\n",
       "      <td>204.980708</td>\n",
       "      <td>831.923881</td>\n",
       "      <td>0.000000</td>\n",
       "      <td>16.002365</td>\n",
       "      <td>43.006357</td>\n",
       "      <td>185.307828</td>\n",
       "      <td>18468.400122</td>\n",
       "    </tr>\n",
       "    <tr>\n",
       "      <th>Coal</th>\n",
       "      <td>2390.0</td>\n",
       "      <td>836.619247</td>\n",
       "      <td>883.792022</td>\n",
       "      <td>1.2</td>\n",
       "      <td>200.0000</td>\n",
       "      <td>600.00</td>\n",
       "      <td>1200.000</td>\n",
       "      <td>7000.00</td>\n",
       "      <td>2390.0</td>\n",
       "      <td>32.725796</td>\n",
       "      <td>...</td>\n",
       "      <td>6262.190992</td>\n",
       "      <td>35116.000000</td>\n",
       "      <td>1846.0</td>\n",
       "      <td>4048.023188</td>\n",
       "      <td>11396.837547</td>\n",
       "      <td>0.000000</td>\n",
       "      <td>820.454778</td>\n",
       "      <td>2583.533009</td>\n",
       "      <td>5167.066017</td>\n",
       "      <td>450562.692350</td>\n",
       "    </tr>\n",
       "    <tr>\n",
       "      <th>Cogeneration</th>\n",
       "      <td>41.0</td>\n",
       "      <td>97.624390</td>\n",
       "      <td>283.717419</td>\n",
       "      <td>1.6</td>\n",
       "      <td>7.5000</td>\n",
       "      <td>30.00</td>\n",
       "      <td>49.300</td>\n",
       "      <td>1404.00</td>\n",
       "      <td>41.0</td>\n",
       "      <td>38.124766</td>\n",
       "      <td>...</td>\n",
       "      <td>166.049000</td>\n",
       "      <td>564.213000</td>\n",
       "      <td>11.0</td>\n",
       "      <td>0.000000</td>\n",
       "      <td>0.000000</td>\n",
       "      <td>0.000000</td>\n",
       "      <td>0.000000</td>\n",
       "      <td>0.000000</td>\n",
       "      <td>0.000000</td>\n",
       "      <td>0.000000</td>\n",
       "    </tr>\n",
       "    <tr>\n",
       "      <th>Gas</th>\n",
       "      <td>3922.0</td>\n",
       "      <td>375.495683</td>\n",
       "      <td>562.794664</td>\n",
       "      <td>1.0</td>\n",
       "      <td>31.1250</td>\n",
       "      <td>152.25</td>\n",
       "      <td>530.000</td>\n",
       "      <td>8865.00</td>\n",
       "      <td>3922.0</td>\n",
       "      <td>31.662952</td>\n",
       "      <td>...</td>\n",
       "      <td>530.573000</td>\n",
       "      <td>20515.369717</td>\n",
       "      <td>2115.0</td>\n",
       "      <td>1839.948213</td>\n",
       "      <td>3161.524135</td>\n",
       "      <td>0.000000</td>\n",
       "      <td>141.965096</td>\n",
       "      <td>720.463007</td>\n",
       "      <td>2296.383702</td>\n",
       "      <td>39746.040075</td>\n",
       "    </tr>\n",
       "    <tr>\n",
       "      <th>Geothermal</th>\n",
       "      <td>189.0</td>\n",
       "      <td>66.473810</td>\n",
       "      <td>114.770905</td>\n",
       "      <td>1.0</td>\n",
       "      <td>18.0000</td>\n",
       "      <td>30.00</td>\n",
       "      <td>77.000</td>\n",
       "      <td>1163.00</td>\n",
       "      <td>189.0</td>\n",
       "      <td>29.557186</td>\n",
       "      <td>...</td>\n",
       "      <td>303.664250</td>\n",
       "      <td>4667.659000</td>\n",
       "      <td>127.0</td>\n",
       "      <td>485.728165</td>\n",
       "      <td>647.566931</td>\n",
       "      <td>0.000000</td>\n",
       "      <td>117.353559</td>\n",
       "      <td>221.625000</td>\n",
       "      <td>617.688021</td>\n",
       "      <td>3784.860558</td>\n",
       "    </tr>\n",
       "    <tr>\n",
       "      <th>Hydro</th>\n",
       "      <td>7155.0</td>\n",
       "      <td>146.804321</td>\n",
       "      <td>549.433962</td>\n",
       "      <td>1.0</td>\n",
       "      <td>5.3000</td>\n",
       "      <td>20.00</td>\n",
       "      <td>93.000</td>\n",
       "      <td>22500.00</td>\n",
       "      <td>7155.0</td>\n",
       "      <td>30.309767</td>\n",
       "      <td>...</td>\n",
       "      <td>158.727375</td>\n",
       "      <td>20983.990000</td>\n",
       "      <td>5438.0</td>\n",
       "      <td>649.839148</td>\n",
       "      <td>2548.580862</td>\n",
       "      <td>0.967611</td>\n",
       "      <td>26.057324</td>\n",
       "      <td>86.793675</td>\n",
       "      <td>408.504385</td>\n",
       "      <td>92452.570325</td>\n",
       "    </tr>\n",
       "    <tr>\n",
       "      <th>Nuclear</th>\n",
       "      <td>198.0</td>\n",
       "      <td>2069.832626</td>\n",
       "      <td>1304.270269</td>\n",
       "      <td>20.0</td>\n",
       "      <td>1100.0000</td>\n",
       "      <td>1883.40</td>\n",
       "      <td>2665.025</td>\n",
       "      <td>8212.00</td>\n",
       "      <td>198.0</td>\n",
       "      <td>38.597543</td>\n",
       "      <td>...</td>\n",
       "      <td>17592.001000</td>\n",
       "      <td>32340.138000</td>\n",
       "      <td>128.0</td>\n",
       "      <td>12815.188335</td>\n",
       "      <td>9818.116399</td>\n",
       "      <td>0.000000</td>\n",
       "      <td>5349.980787</td>\n",
       "      <td>11944.505064</td>\n",
       "      <td>18390.952637</td>\n",
       "      <td>39989.655920</td>\n",
       "    </tr>\n",
       "    <tr>\n",
       "      <th>Oil</th>\n",
       "      <td>2290.0</td>\n",
       "      <td>114.565943</td>\n",
       "      <td>394.966198</td>\n",
       "      <td>1.0</td>\n",
       "      <td>2.5404</td>\n",
       "      <td>9.20</td>\n",
       "      <td>50.000</td>\n",
       "      <td>6794.00</td>\n",
       "      <td>2290.0</td>\n",
       "      <td>14.116997</td>\n",
       "      <td>...</td>\n",
       "      <td>0.732500</td>\n",
       "      <td>6972.247003</td>\n",
       "      <td>1442.0</td>\n",
       "      <td>607.707310</td>\n",
       "      <td>1758.390564</td>\n",
       "      <td>0.000000</td>\n",
       "      <td>9.410237</td>\n",
       "      <td>39.193171</td>\n",
       "      <td>322.240088</td>\n",
       "      <td>20816.372358</td>\n",
       "    </tr>\n",
       "    <tr>\n",
       "      <th>Other</th>\n",
       "      <td>44.0</td>\n",
       "      <td>85.399091</td>\n",
       "      <td>144.155122</td>\n",
       "      <td>4.5</td>\n",
       "      <td>17.5000</td>\n",
       "      <td>40.00</td>\n",
       "      <td>98.625</td>\n",
       "      <td>845.26</td>\n",
       "      <td>44.0</td>\n",
       "      <td>38.899089</td>\n",
       "      <td>...</td>\n",
       "      <td>128.024499</td>\n",
       "      <td>508.701000</td>\n",
       "      <td>28.0</td>\n",
       "      <td>315.078995</td>\n",
       "      <td>652.666552</td>\n",
       "      <td>0.000000</td>\n",
       "      <td>41.061947</td>\n",
       "      <td>103.938053</td>\n",
       "      <td>233.330559</td>\n",
       "      <td>3226.211860</td>\n",
       "    </tr>\n",
       "    <tr>\n",
       "      <th>Petcoke</th>\n",
       "      <td>13.0</td>\n",
       "      <td>192.082885</td>\n",
       "      <td>458.141449</td>\n",
       "      <td>4.7</td>\n",
       "      <td>27.3000</td>\n",
       "      <td>67.00</td>\n",
       "      <td>122.900</td>\n",
       "      <td>1707.30</td>\n",
       "      <td>13.0</td>\n",
       "      <td>31.472562</td>\n",
       "      <td>...</td>\n",
       "      <td>297.125749</td>\n",
       "      <td>5776.007940</td>\n",
       "      <td>1.0</td>\n",
       "      <td>0.000000</td>\n",
       "      <td>NaN</td>\n",
       "      <td>0.000000</td>\n",
       "      <td>0.000000</td>\n",
       "      <td>0.000000</td>\n",
       "      <td>0.000000</td>\n",
       "      <td>0.000000</td>\n",
       "    </tr>\n",
       "    <tr>\n",
       "      <th>Solar</th>\n",
       "      <td>5929.0</td>\n",
       "      <td>10.747651</td>\n",
       "      <td>26.418461</td>\n",
       "      <td>1.0</td>\n",
       "      <td>2.0000</td>\n",
       "      <td>4.70</td>\n",
       "      <td>9.000</td>\n",
       "      <td>648.00</td>\n",
       "      <td>5929.0</td>\n",
       "      <td>40.678147</td>\n",
       "      <td>...</td>\n",
       "      <td>9.928000</td>\n",
       "      <td>1237.532000</td>\n",
       "      <td>4567.0</td>\n",
       "      <td>36.697794</td>\n",
       "      <td>129.331961</td>\n",
       "      <td>0.000000</td>\n",
       "      <td>1.999729</td>\n",
       "      <td>3.642870</td>\n",
       "      <td>15.099373</td>\n",
       "      <td>3359.415186</td>\n",
       "    </tr>\n",
       "    <tr>\n",
       "      <th>Storage</th>\n",
       "      <td>58.0</td>\n",
       "      <td>7.820690</td>\n",
       "      <td>9.682517</td>\n",
       "      <td>1.0</td>\n",
       "      <td>2.0000</td>\n",
       "      <td>2.90</td>\n",
       "      <td>10.000</td>\n",
       "      <td>40.00</td>\n",
       "      <td>58.0</td>\n",
       "      <td>39.166022</td>\n",
       "      <td>...</td>\n",
       "      <td>0.056000</td>\n",
       "      <td>34.300000</td>\n",
       "      <td>0.0</td>\n",
       "      <td>NaN</td>\n",
       "      <td>NaN</td>\n",
       "      <td>NaN</td>\n",
       "      <td>NaN</td>\n",
       "      <td>NaN</td>\n",
       "      <td>NaN</td>\n",
       "      <td>NaN</td>\n",
       "    </tr>\n",
       "    <tr>\n",
       "      <th>Waste</th>\n",
       "      <td>1087.0</td>\n",
       "      <td>13.898081</td>\n",
       "      <td>20.690791</td>\n",
       "      <td>1.0</td>\n",
       "      <td>2.3000</td>\n",
       "      <td>4.90</td>\n",
       "      <td>15.250</td>\n",
       "      <td>160.90</td>\n",
       "      <td>1087.0</td>\n",
       "      <td>39.106433</td>\n",
       "      <td>...</td>\n",
       "      <td>99.123750</td>\n",
       "      <td>928.862008</td>\n",
       "      <td>538.0</td>\n",
       "      <td>56.014870</td>\n",
       "      <td>297.770000</td>\n",
       "      <td>0.000000</td>\n",
       "      <td>2.782749</td>\n",
       "      <td>5.565497</td>\n",
       "      <td>23.015649</td>\n",
       "      <td>6595.000000</td>\n",
       "    </tr>\n",
       "    <tr>\n",
       "      <th>Wave and Tidal</th>\n",
       "      <td>10.0</td>\n",
       "      <td>55.220000</td>\n",
       "      <td>101.440708</td>\n",
       "      <td>1.0</td>\n",
       "      <td>1.4000</td>\n",
       "      <td>5.00</td>\n",
       "      <td>22.250</td>\n",
       "      <td>254.00</td>\n",
       "      <td>10.0</td>\n",
       "      <td>52.995930</td>\n",
       "      <td>...</td>\n",
       "      <td>NaN</td>\n",
       "      <td>NaN</td>\n",
       "      <td>0.0</td>\n",
       "      <td>NaN</td>\n",
       "      <td>NaN</td>\n",
       "      <td>NaN</td>\n",
       "      <td>NaN</td>\n",
       "      <td>NaN</td>\n",
       "      <td>NaN</td>\n",
       "      <td>NaN</td>\n",
       "    </tr>\n",
       "    <tr>\n",
       "      <th>Wind</th>\n",
       "      <td>5188.0</td>\n",
       "      <td>46.299842</td>\n",
       "      <td>102.712898</td>\n",
       "      <td>1.0</td>\n",
       "      <td>10.0000</td>\n",
       "      <td>26.00</td>\n",
       "      <td>49.000</td>\n",
       "      <td>6000.00</td>\n",
       "      <td>5188.0</td>\n",
       "      <td>36.618024</td>\n",
       "      <td>...</td>\n",
       "      <td>374.916500</td>\n",
       "      <td>1972.964000</td>\n",
       "      <td>4309.0</td>\n",
       "      <td>120.798706</td>\n",
       "      <td>452.266463</td>\n",
       "      <td>0.000000</td>\n",
       "      <td>19.033102</td>\n",
       "      <td>37.946357</td>\n",
       "      <td>149.985644</td>\n",
       "      <td>18365.589104</td>\n",
       "    </tr>\n",
       "  </tbody>\n",
       "</table>\n",
       "<p>15 rows × 88 columns</p>\n",
       "</div>"
      ],
      "text/plain": [
       "               capacity_mw                                             \\\n",
       "                     count         mean          std   min        25%   \n",
       "primary_fuel                                                            \n",
       "Biomass             1396.0    24.667408    39.970655   1.0     3.0000   \n",
       "Coal                2390.0   836.619247   883.792022   1.2   200.0000   \n",
       "Cogeneration          41.0    97.624390   283.717419   1.6     7.5000   \n",
       "Gas                 3922.0   375.495683   562.794664   1.0    31.1250   \n",
       "Geothermal           189.0    66.473810   114.770905   1.0    18.0000   \n",
       "Hydro               7155.0   146.804321   549.433962   1.0     5.3000   \n",
       "Nuclear              198.0  2069.832626  1304.270269  20.0  1100.0000   \n",
       "Oil                 2290.0   114.565943   394.966198   1.0     2.5404   \n",
       "Other                 44.0    85.399091   144.155122   4.5    17.5000   \n",
       "Petcoke               13.0   192.082885   458.141449   4.7    27.3000   \n",
       "Solar               5929.0    10.747651    26.418461   1.0     2.0000   \n",
       "Storage               58.0     7.820690     9.682517   1.0     2.0000   \n",
       "Waste               1087.0    13.898081    20.690791   1.0     2.3000   \n",
       "Wave and Tidal        10.0    55.220000   101.440708   1.0     1.4000   \n",
       "Wind                5188.0    46.299842   102.712898   1.0    10.0000   \n",
       "\n",
       "                                            latitude             ...  \\\n",
       "                    50%       75%       max    count       mean  ...   \n",
       "primary_fuel                                                     ...   \n",
       "Biomass            9.95    29.175    528.00   1396.0  19.364704  ...   \n",
       "Coal             600.00  1200.000   7000.00   2390.0  32.725796  ...   \n",
       "Cogeneration      30.00    49.300   1404.00     41.0  38.124766  ...   \n",
       "Gas              152.25   530.000   8865.00   3922.0  31.662952  ...   \n",
       "Geothermal        30.00    77.000   1163.00    189.0  29.557186  ...   \n",
       "Hydro             20.00    93.000  22500.00   7155.0  30.309767  ...   \n",
       "Nuclear         1883.40  2665.025   8212.00    198.0  38.597543  ...   \n",
       "Oil                9.20    50.000   6794.00   2290.0  14.116997  ...   \n",
       "Other             40.00    98.625    845.26     44.0  38.899089  ...   \n",
       "Petcoke           67.00   122.900   1707.30     13.0  31.472562  ...   \n",
       "Solar              4.70     9.000    648.00   5929.0  40.678147  ...   \n",
       "Storage            2.90    10.000     40.00     58.0  39.166022  ...   \n",
       "Waste              4.90    15.250    160.90   1087.0  39.106433  ...   \n",
       "Wave and Tidal     5.00    22.250    254.00     10.0  52.995930  ...   \n",
       "Wind              26.00    49.000   6000.00   5188.0  36.618024  ...   \n",
       "\n",
       "               generation_gwh_2017               estimated_generation_gwh  \\\n",
       "                               75%           max                    count   \n",
       "primary_fuel                                                                \n",
       "Biomass                 338.506503    831.165002                   1241.0   \n",
       "Coal                   6262.190992  35116.000000                   1846.0   \n",
       "Cogeneration            166.049000    564.213000                     11.0   \n",
       "Gas                     530.573000  20515.369717                   2115.0   \n",
       "Geothermal              303.664250   4667.659000                    127.0   \n",
       "Hydro                   158.727375  20983.990000                   5438.0   \n",
       "Nuclear               17592.001000  32340.138000                    128.0   \n",
       "Oil                       0.732500   6972.247003                   1442.0   \n",
       "Other                   128.024499    508.701000                     28.0   \n",
       "Petcoke                 297.125749   5776.007940                      1.0   \n",
       "Solar                     9.928000   1237.532000                   4567.0   \n",
       "Storage                   0.056000     34.300000                      0.0   \n",
       "Waste                    99.123750    928.862008                    538.0   \n",
       "Wave and Tidal                 NaN           NaN                      0.0   \n",
       "Wind                    374.916500   1972.964000                   4309.0   \n",
       "\n",
       "                                                                   \\\n",
       "                        mean           std       min          25%   \n",
       "primary_fuel                                                        \n",
       "Biomass           204.980708    831.923881  0.000000    16.002365   \n",
       "Coal             4048.023188  11396.837547  0.000000   820.454778   \n",
       "Cogeneration        0.000000      0.000000  0.000000     0.000000   \n",
       "Gas              1839.948213   3161.524135  0.000000   141.965096   \n",
       "Geothermal        485.728165    647.566931  0.000000   117.353559   \n",
       "Hydro             649.839148   2548.580862  0.967611    26.057324   \n",
       "Nuclear         12815.188335   9818.116399  0.000000  5349.980787   \n",
       "Oil               607.707310   1758.390564  0.000000     9.410237   \n",
       "Other             315.078995    652.666552  0.000000    41.061947   \n",
       "Petcoke             0.000000           NaN  0.000000     0.000000   \n",
       "Solar              36.697794    129.331961  0.000000     1.999729   \n",
       "Storage                  NaN           NaN       NaN          NaN   \n",
       "Waste              56.014870    297.770000  0.000000     2.782749   \n",
       "Wave and Tidal           NaN           NaN       NaN          NaN   \n",
       "Wind              120.798706    452.266463  0.000000    19.033102   \n",
       "\n",
       "                                                           \n",
       "                         50%           75%            max  \n",
       "primary_fuel                                               \n",
       "Biomass            43.006357    185.307828   18468.400122  \n",
       "Coal             2583.533009   5167.066017  450562.692350  \n",
       "Cogeneration        0.000000      0.000000       0.000000  \n",
       "Gas               720.463007   2296.383702   39746.040075  \n",
       "Geothermal        221.625000    617.688021    3784.860558  \n",
       "Hydro              86.793675    408.504385   92452.570325  \n",
       "Nuclear         11944.505064  18390.952637   39989.655920  \n",
       "Oil                39.193171    322.240088   20816.372358  \n",
       "Other             103.938053    233.330559    3226.211860  \n",
       "Petcoke             0.000000      0.000000       0.000000  \n",
       "Solar               3.642870     15.099373    3359.415186  \n",
       "Storage                  NaN           NaN            NaN  \n",
       "Waste               5.565497     23.015649    6595.000000  \n",
       "Wave and Tidal           NaN           NaN            NaN  \n",
       "Wind               37.946357    149.985644   18365.589104  \n",
       "\n",
       "[15 rows x 88 columns]"
      ]
     },
     "execution_count": 22,
     "metadata": {},
     "output_type": "execute_result"
    }
   ],
   "source": [
    "# Group by the fuel type\n",
    "fueltype = df_all.groupby(\"primary_fuel\")\n",
    "fueltype.describe()"
   ]
  },
  {
   "cell_type": "markdown",
   "metadata": {},
   "source": [
    "Interpretation: \n",
    "\n",
    "TODO"
   ]
  },
  {
   "cell_type": "code",
   "execution_count": 24,
   "metadata": {},
   "outputs": [
    {
     "data": {
      "text/html": [
       "<div>\n",
       "<style scoped>\n",
       "    .dataframe tbody tr th:only-of-type {\n",
       "        vertical-align: middle;\n",
       "    }\n",
       "\n",
       "    .dataframe tbody tr th {\n",
       "        vertical-align: top;\n",
       "    }\n",
       "\n",
       "    .dataframe thead th {\n",
       "        text-align: right;\n",
       "    }\n",
       "</style>\n",
       "<table border=\"1\" class=\"dataframe\">\n",
       "  <thead>\n",
       "    <tr style=\"text-align: right;\">\n",
       "      <th></th>\n",
       "      <th>capacity_sum</th>\n",
       "    </tr>\n",
       "    <tr>\n",
       "      <th>primary_fuel</th>\n",
       "      <th></th>\n",
       "    </tr>\n",
       "  </thead>\n",
       "  <tbody>\n",
       "    <tr>\n",
       "      <th>Coal</th>\n",
       "      <td>1.999520e+06</td>\n",
       "    </tr>\n",
       "    <tr>\n",
       "      <th>Gas</th>\n",
       "      <td>1.472694e+06</td>\n",
       "    </tr>\n",
       "    <tr>\n",
       "      <th>Hydro</th>\n",
       "      <td>1.050385e+06</td>\n",
       "    </tr>\n",
       "    <tr>\n",
       "      <th>Nuclear</th>\n",
       "      <td>4.098269e+05</td>\n",
       "    </tr>\n",
       "    <tr>\n",
       "      <th>Oil</th>\n",
       "      <td>2.623560e+05</td>\n",
       "    </tr>\n",
       "    <tr>\n",
       "      <th>Wind</th>\n",
       "      <td>2.402036e+05</td>\n",
       "    </tr>\n",
       "    <tr>\n",
       "      <th>Solar</th>\n",
       "      <td>6.372282e+04</td>\n",
       "    </tr>\n",
       "    <tr>\n",
       "      <th>Biomass</th>\n",
       "      <td>3.443570e+04</td>\n",
       "    </tr>\n",
       "    <tr>\n",
       "      <th>Waste</th>\n",
       "      <td>1.510721e+04</td>\n",
       "    </tr>\n",
       "    <tr>\n",
       "      <th>Geothermal</th>\n",
       "      <td>1.256355e+04</td>\n",
       "    </tr>\n",
       "    <tr>\n",
       "      <th>Cogeneration</th>\n",
       "      <td>4.002600e+03</td>\n",
       "    </tr>\n",
       "    <tr>\n",
       "      <th>Other</th>\n",
       "      <td>3.757560e+03</td>\n",
       "    </tr>\n",
       "    <tr>\n",
       "      <th>Petcoke</th>\n",
       "      <td>2.497077e+03</td>\n",
       "    </tr>\n",
       "    <tr>\n",
       "      <th>Wave and Tidal</th>\n",
       "      <td>5.522000e+02</td>\n",
       "    </tr>\n",
       "    <tr>\n",
       "      <th>Storage</th>\n",
       "      <td>4.536000e+02</td>\n",
       "    </tr>\n",
       "  </tbody>\n",
       "</table>\n",
       "</div>"
      ],
      "text/plain": [
       "                capacity_sum\n",
       "primary_fuel                \n",
       "Coal            1.999520e+06\n",
       "Gas             1.472694e+06\n",
       "Hydro           1.050385e+06\n",
       "Nuclear         4.098269e+05\n",
       "Oil             2.623560e+05\n",
       "Wind            2.402036e+05\n",
       "Solar           6.372282e+04\n",
       "Biomass         3.443570e+04\n",
       "Waste           1.510721e+04\n",
       "Geothermal      1.256355e+04\n",
       "Cogeneration    4.002600e+03\n",
       "Other           3.757560e+03\n",
       "Petcoke         2.497077e+03\n",
       "Wave and Tidal  5.522000e+02\n",
       "Storage         4.536000e+02"
      ]
     },
     "execution_count": 24,
     "metadata": {},
     "output_type": "execute_result"
    }
   ],
   "source": [
    "capacity = fueltype.agg(**{'capacity_sum': pd.NamedAgg(column='capacity_mw', aggfunc='sum')})\n",
    "capacity = capacity.sort_values(by='capacity_sum', ascending = False)\n",
    "capacity"
   ]
  },
  {
   "cell_type": "code",
   "execution_count": 26,
   "metadata": {},
   "outputs": [],
   "source": [
    "#Green fuels = 1, non-green fuels = 0, other = 2\n",
    "green_map = dict.fromkeys(['Hydro', 'Nuclear', 'Wind', 'Solar', 'Biomass', 'Waste', 'Geothermal', 'Cogeneration', 'Wave and Tidal', 'Storage'], 1)\n",
    "green_map.update(dict.fromkeys(['Coal', 'Gas', 'Oil', 'Petcoke'], 0))\n",
    "green_map.update(dict.fromkeys(['Other'], -1))"
   ]
  },
  {
   "cell_type": "code",
   "execution_count": 34,
   "metadata": {},
   "outputs": [
    {
     "data": {
      "text/html": [
       "<div>\n",
       "<style scoped>\n",
       "    .dataframe tbody tr th:only-of-type {\n",
       "        vertical-align: middle;\n",
       "    }\n",
       "\n",
       "    .dataframe tbody tr th {\n",
       "        vertical-align: top;\n",
       "    }\n",
       "\n",
       "    .dataframe thead th {\n",
       "        text-align: right;\n",
       "    }\n",
       "</style>\n",
       "<table border=\"1\" class=\"dataframe\">\n",
       "  <thead>\n",
       "    <tr style=\"text-align: right;\">\n",
       "      <th></th>\n",
       "      <th>level_0</th>\n",
       "      <th>index</th>\n",
       "      <th>primary_fuel</th>\n",
       "      <th>capacity_sum</th>\n",
       "      <th>is_green</th>\n",
       "    </tr>\n",
       "  </thead>\n",
       "  <tbody>\n",
       "    <tr>\n",
       "      <th>0</th>\n",
       "      <td>0</td>\n",
       "      <td>0</td>\n",
       "      <td>Coal</td>\n",
       "      <td>1.999520e+06</td>\n",
       "      <td>0</td>\n",
       "    </tr>\n",
       "    <tr>\n",
       "      <th>1</th>\n",
       "      <td>1</td>\n",
       "      <td>1</td>\n",
       "      <td>Gas</td>\n",
       "      <td>1.472694e+06</td>\n",
       "      <td>0</td>\n",
       "    </tr>\n",
       "    <tr>\n",
       "      <th>2</th>\n",
       "      <td>2</td>\n",
       "      <td>2</td>\n",
       "      <td>Hydro</td>\n",
       "      <td>1.050385e+06</td>\n",
       "      <td>1</td>\n",
       "    </tr>\n",
       "    <tr>\n",
       "      <th>3</th>\n",
       "      <td>3</td>\n",
       "      <td>3</td>\n",
       "      <td>Nuclear</td>\n",
       "      <td>4.098269e+05</td>\n",
       "      <td>1</td>\n",
       "    </tr>\n",
       "    <tr>\n",
       "      <th>4</th>\n",
       "      <td>4</td>\n",
       "      <td>4</td>\n",
       "      <td>Oil</td>\n",
       "      <td>2.623560e+05</td>\n",
       "      <td>0</td>\n",
       "    </tr>\n",
       "    <tr>\n",
       "      <th>5</th>\n",
       "      <td>5</td>\n",
       "      <td>5</td>\n",
       "      <td>Wind</td>\n",
       "      <td>2.402036e+05</td>\n",
       "      <td>1</td>\n",
       "    </tr>\n",
       "    <tr>\n",
       "      <th>6</th>\n",
       "      <td>6</td>\n",
       "      <td>6</td>\n",
       "      <td>Solar</td>\n",
       "      <td>6.372282e+04</td>\n",
       "      <td>1</td>\n",
       "    </tr>\n",
       "    <tr>\n",
       "      <th>7</th>\n",
       "      <td>7</td>\n",
       "      <td>7</td>\n",
       "      <td>Biomass</td>\n",
       "      <td>3.443570e+04</td>\n",
       "      <td>1</td>\n",
       "    </tr>\n",
       "    <tr>\n",
       "      <th>8</th>\n",
       "      <td>8</td>\n",
       "      <td>8</td>\n",
       "      <td>Waste</td>\n",
       "      <td>1.510721e+04</td>\n",
       "      <td>1</td>\n",
       "    </tr>\n",
       "    <tr>\n",
       "      <th>9</th>\n",
       "      <td>9</td>\n",
       "      <td>9</td>\n",
       "      <td>Geothermal</td>\n",
       "      <td>1.256355e+04</td>\n",
       "      <td>1</td>\n",
       "    </tr>\n",
       "    <tr>\n",
       "      <th>10</th>\n",
       "      <td>10</td>\n",
       "      <td>10</td>\n",
       "      <td>Cogeneration</td>\n",
       "      <td>4.002600e+03</td>\n",
       "      <td>1</td>\n",
       "    </tr>\n",
       "    <tr>\n",
       "      <th>11</th>\n",
       "      <td>11</td>\n",
       "      <td>11</td>\n",
       "      <td>Other</td>\n",
       "      <td>3.757560e+03</td>\n",
       "      <td>-1</td>\n",
       "    </tr>\n",
       "    <tr>\n",
       "      <th>12</th>\n",
       "      <td>12</td>\n",
       "      <td>12</td>\n",
       "      <td>Petcoke</td>\n",
       "      <td>2.497077e+03</td>\n",
       "      <td>0</td>\n",
       "    </tr>\n",
       "    <tr>\n",
       "      <th>13</th>\n",
       "      <td>13</td>\n",
       "      <td>13</td>\n",
       "      <td>Wave and Tidal</td>\n",
       "      <td>5.522000e+02</td>\n",
       "      <td>1</td>\n",
       "    </tr>\n",
       "    <tr>\n",
       "      <th>14</th>\n",
       "      <td>14</td>\n",
       "      <td>14</td>\n",
       "      <td>Storage</td>\n",
       "      <td>4.536000e+02</td>\n",
       "      <td>1</td>\n",
       "    </tr>\n",
       "  </tbody>\n",
       "</table>\n",
       "</div>"
      ],
      "text/plain": [
       "    level_0  index    primary_fuel  capacity_sum  is_green\n",
       "0         0      0            Coal  1.999520e+06         0\n",
       "1         1      1             Gas  1.472694e+06         0\n",
       "2         2      2           Hydro  1.050385e+06         1\n",
       "3         3      3         Nuclear  4.098269e+05         1\n",
       "4         4      4             Oil  2.623560e+05         0\n",
       "5         5      5            Wind  2.402036e+05         1\n",
       "6         6      6           Solar  6.372282e+04         1\n",
       "7         7      7         Biomass  3.443570e+04         1\n",
       "8         8      8           Waste  1.510721e+04         1\n",
       "9         9      9      Geothermal  1.256355e+04         1\n",
       "10       10     10    Cogeneration  4.002600e+03         1\n",
       "11       11     11           Other  3.757560e+03        -1\n",
       "12       12     12         Petcoke  2.497077e+03         0\n",
       "13       13     13  Wave and Tidal  5.522000e+02         1\n",
       "14       14     14         Storage  4.536000e+02         1"
      ]
     },
     "execution_count": 34,
     "metadata": {},
     "output_type": "execute_result"
    }
   ],
   "source": [
    "capacity['is_green'] = capacity['primary_fuel'].apply(lambda x: green_map[x])\n"
   ]
  },
  {
   "cell_type": "code",
   "execution_count": 32,
   "metadata": {
    "scrolled": true
   },
   "outputs": [
    {
     "ename": "KeyError",
     "evalue": "0",
     "output_type": "error",
     "traceback": [
      "\u001b[1;31m---------------------------------------------------------------------------\u001b[0m",
      "\u001b[1;31mKeyError\u001b[0m                                  Traceback (most recent call last)",
      "\u001b[1;32m<ipython-input-32-35bd7c5f6902>\u001b[0m in \u001b[0;36m<module>\u001b[1;34m\u001b[0m\n\u001b[0;32m      4\u001b[0m \u001b[0mlabels\u001b[0m \u001b[1;33m=\u001b[0m \u001b[0mlist\u001b[0m\u001b[1;33m(\u001b[0m\u001b[0mcolors\u001b[0m\u001b[1;33m.\u001b[0m\u001b[0mkeys\u001b[0m\u001b[1;33m(\u001b[0m\u001b[1;33m)\u001b[0m\u001b[1;33m)\u001b[0m\u001b[1;33m\u001b[0m\u001b[1;33m\u001b[0m\u001b[0m\n\u001b[0;32m      5\u001b[0m \u001b[0mhandles\u001b[0m \u001b[1;33m=\u001b[0m \u001b[1;33m[\u001b[0m\u001b[0mplt\u001b[0m\u001b[1;33m.\u001b[0m\u001b[0mRectangle\u001b[0m\u001b[1;33m(\u001b[0m\u001b[1;33m(\u001b[0m\u001b[1;36m0\u001b[0m\u001b[1;33m,\u001b[0m\u001b[1;36m0\u001b[0m\u001b[1;33m)\u001b[0m\u001b[1;33m,\u001b[0m\u001b[1;36m1\u001b[0m\u001b[1;33m,\u001b[0m\u001b[1;36m1\u001b[0m\u001b[1;33m,\u001b[0m \u001b[0mcolor\u001b[0m\u001b[1;33m=\u001b[0m\u001b[0mcolors\u001b[0m\u001b[1;33m[\u001b[0m\u001b[0mlabel\u001b[0m\u001b[1;33m]\u001b[0m\u001b[1;33m)\u001b[0m \u001b[1;32mfor\u001b[0m \u001b[0mlabel\u001b[0m \u001b[1;32min\u001b[0m \u001b[0mlabels\u001b[0m\u001b[1;33m]\u001b[0m\u001b[1;33m\u001b[0m\u001b[1;33m\u001b[0m\u001b[0m\n\u001b[1;32m----> 6\u001b[1;33m \u001b[0mc\u001b[0m \u001b[1;33m=\u001b[0m \u001b[0mcapacity\u001b[0m\u001b[1;33m[\u001b[0m\u001b[1;34m'is_green'\u001b[0m\u001b[1;33m]\u001b[0m\u001b[1;33m.\u001b[0m\u001b[0mapply\u001b[0m\u001b[1;33m(\u001b[0m\u001b[1;32mlambda\u001b[0m \u001b[0mx\u001b[0m\u001b[1;33m:\u001b[0m \u001b[0mcolors\u001b[0m\u001b[1;33m[\u001b[0m\u001b[0mx\u001b[0m\u001b[1;33m]\u001b[0m\u001b[1;33m)\u001b[0m\u001b[1;33m\u001b[0m\u001b[1;33m\u001b[0m\u001b[0m\n\u001b[0m\u001b[0;32m      7\u001b[0m \u001b[0mplt\u001b[0m\u001b[1;33m.\u001b[0m\u001b[0mbar\u001b[0m\u001b[1;33m(\u001b[0m\u001b[0mcapacity\u001b[0m\u001b[1;33m[\u001b[0m\u001b[1;34m'primary_fuel'\u001b[0m\u001b[1;33m]\u001b[0m\u001b[1;33m,\u001b[0m \u001b[0mcapacity\u001b[0m\u001b[1;33m[\u001b[0m\u001b[1;34m'capacity_sum'\u001b[0m\u001b[1;33m]\u001b[0m\u001b[1;33m,\u001b[0m \u001b[0mcolor\u001b[0m\u001b[1;33m=\u001b[0m\u001b[0mcapacity\u001b[0m\u001b[1;33m[\u001b[0m\u001b[1;34m'is_green'\u001b[0m\u001b[1;33m]\u001b[0m\u001b[1;33m,\u001b[0m \u001b[0mlabel\u001b[0m\u001b[1;33m=\u001b[0m\u001b[0mcolors\u001b[0m\u001b[1;33m)\u001b[0m\u001b[1;33m\u001b[0m\u001b[1;33m\u001b[0m\u001b[0m\n\u001b[0;32m      8\u001b[0m \u001b[0mplt\u001b[0m\u001b[1;33m.\u001b[0m\u001b[0mxticks\u001b[0m\u001b[1;33m(\u001b[0m\u001b[0mrotation\u001b[0m \u001b[1;33m=\u001b[0m \u001b[1;36m60\u001b[0m\u001b[1;33m)\u001b[0m\u001b[1;33m\u001b[0m\u001b[1;33m\u001b[0m\u001b[0m\n",
      "\u001b[1;32mY:\\Programme\\anaconda-3\\lib\\site-packages\\pandas\\core\\series.py\u001b[0m in \u001b[0;36mapply\u001b[1;34m(self, func, convert_dtype, args, **kwds)\u001b[0m\n\u001b[0;32m   3846\u001b[0m             \u001b[1;32melse\u001b[0m\u001b[1;33m:\u001b[0m\u001b[1;33m\u001b[0m\u001b[1;33m\u001b[0m\u001b[0m\n\u001b[0;32m   3847\u001b[0m                 \u001b[0mvalues\u001b[0m \u001b[1;33m=\u001b[0m \u001b[0mself\u001b[0m\u001b[1;33m.\u001b[0m\u001b[0mastype\u001b[0m\u001b[1;33m(\u001b[0m\u001b[0mobject\u001b[0m\u001b[1;33m)\u001b[0m\u001b[1;33m.\u001b[0m\u001b[0mvalues\u001b[0m\u001b[1;33m\u001b[0m\u001b[1;33m\u001b[0m\u001b[0m\n\u001b[1;32m-> 3848\u001b[1;33m                 \u001b[0mmapped\u001b[0m \u001b[1;33m=\u001b[0m \u001b[0mlib\u001b[0m\u001b[1;33m.\u001b[0m\u001b[0mmap_infer\u001b[0m\u001b[1;33m(\u001b[0m\u001b[0mvalues\u001b[0m\u001b[1;33m,\u001b[0m \u001b[0mf\u001b[0m\u001b[1;33m,\u001b[0m \u001b[0mconvert\u001b[0m\u001b[1;33m=\u001b[0m\u001b[0mconvert_dtype\u001b[0m\u001b[1;33m)\u001b[0m\u001b[1;33m\u001b[0m\u001b[1;33m\u001b[0m\u001b[0m\n\u001b[0m\u001b[0;32m   3849\u001b[0m \u001b[1;33m\u001b[0m\u001b[0m\n\u001b[0;32m   3850\u001b[0m         \u001b[1;32mif\u001b[0m \u001b[0mlen\u001b[0m\u001b[1;33m(\u001b[0m\u001b[0mmapped\u001b[0m\u001b[1;33m)\u001b[0m \u001b[1;32mand\u001b[0m \u001b[0misinstance\u001b[0m\u001b[1;33m(\u001b[0m\u001b[0mmapped\u001b[0m\u001b[1;33m[\u001b[0m\u001b[1;36m0\u001b[0m\u001b[1;33m]\u001b[0m\u001b[1;33m,\u001b[0m \u001b[0mSeries\u001b[0m\u001b[1;33m)\u001b[0m\u001b[1;33m:\u001b[0m\u001b[1;33m\u001b[0m\u001b[1;33m\u001b[0m\u001b[0m\n",
      "\u001b[1;32mpandas\\_libs\\lib.pyx\u001b[0m in \u001b[0;36mpandas._libs.lib.map_infer\u001b[1;34m()\u001b[0m\n",
      "\u001b[1;32m<ipython-input-32-35bd7c5f6902>\u001b[0m in \u001b[0;36m<lambda>\u001b[1;34m(x)\u001b[0m\n\u001b[0;32m      4\u001b[0m \u001b[0mlabels\u001b[0m \u001b[1;33m=\u001b[0m \u001b[0mlist\u001b[0m\u001b[1;33m(\u001b[0m\u001b[0mcolors\u001b[0m\u001b[1;33m.\u001b[0m\u001b[0mkeys\u001b[0m\u001b[1;33m(\u001b[0m\u001b[1;33m)\u001b[0m\u001b[1;33m)\u001b[0m\u001b[1;33m\u001b[0m\u001b[1;33m\u001b[0m\u001b[0m\n\u001b[0;32m      5\u001b[0m \u001b[0mhandles\u001b[0m \u001b[1;33m=\u001b[0m \u001b[1;33m[\u001b[0m\u001b[0mplt\u001b[0m\u001b[1;33m.\u001b[0m\u001b[0mRectangle\u001b[0m\u001b[1;33m(\u001b[0m\u001b[1;33m(\u001b[0m\u001b[1;36m0\u001b[0m\u001b[1;33m,\u001b[0m\u001b[1;36m0\u001b[0m\u001b[1;33m)\u001b[0m\u001b[1;33m,\u001b[0m\u001b[1;36m1\u001b[0m\u001b[1;33m,\u001b[0m\u001b[1;36m1\u001b[0m\u001b[1;33m,\u001b[0m \u001b[0mcolor\u001b[0m\u001b[1;33m=\u001b[0m\u001b[0mcolors\u001b[0m\u001b[1;33m[\u001b[0m\u001b[0mlabel\u001b[0m\u001b[1;33m]\u001b[0m\u001b[1;33m)\u001b[0m \u001b[1;32mfor\u001b[0m \u001b[0mlabel\u001b[0m \u001b[1;32min\u001b[0m \u001b[0mlabels\u001b[0m\u001b[1;33m]\u001b[0m\u001b[1;33m\u001b[0m\u001b[1;33m\u001b[0m\u001b[0m\n\u001b[1;32m----> 6\u001b[1;33m \u001b[0mc\u001b[0m \u001b[1;33m=\u001b[0m \u001b[0mcapacity\u001b[0m\u001b[1;33m[\u001b[0m\u001b[1;34m'is_green'\u001b[0m\u001b[1;33m]\u001b[0m\u001b[1;33m.\u001b[0m\u001b[0mapply\u001b[0m\u001b[1;33m(\u001b[0m\u001b[1;32mlambda\u001b[0m \u001b[0mx\u001b[0m\u001b[1;33m:\u001b[0m \u001b[0mcolors\u001b[0m\u001b[1;33m[\u001b[0m\u001b[0mx\u001b[0m\u001b[1;33m]\u001b[0m\u001b[1;33m)\u001b[0m\u001b[1;33m\u001b[0m\u001b[1;33m\u001b[0m\u001b[0m\n\u001b[0m\u001b[0;32m      7\u001b[0m \u001b[0mplt\u001b[0m\u001b[1;33m.\u001b[0m\u001b[0mbar\u001b[0m\u001b[1;33m(\u001b[0m\u001b[0mcapacity\u001b[0m\u001b[1;33m[\u001b[0m\u001b[1;34m'primary_fuel'\u001b[0m\u001b[1;33m]\u001b[0m\u001b[1;33m,\u001b[0m \u001b[0mcapacity\u001b[0m\u001b[1;33m[\u001b[0m\u001b[1;34m'capacity_sum'\u001b[0m\u001b[1;33m]\u001b[0m\u001b[1;33m,\u001b[0m \u001b[0mcolor\u001b[0m\u001b[1;33m=\u001b[0m\u001b[0mcapacity\u001b[0m\u001b[1;33m[\u001b[0m\u001b[1;34m'is_green'\u001b[0m\u001b[1;33m]\u001b[0m\u001b[1;33m,\u001b[0m \u001b[0mlabel\u001b[0m\u001b[1;33m=\u001b[0m\u001b[0mcolors\u001b[0m\u001b[1;33m)\u001b[0m\u001b[1;33m\u001b[0m\u001b[1;33m\u001b[0m\u001b[0m\n\u001b[0;32m      8\u001b[0m \u001b[0mplt\u001b[0m\u001b[1;33m.\u001b[0m\u001b[0mxticks\u001b[0m\u001b[1;33m(\u001b[0m\u001b[0mrotation\u001b[0m \u001b[1;33m=\u001b[0m \u001b[1;36m60\u001b[0m\u001b[1;33m)\u001b[0m\u001b[1;33m\u001b[0m\u001b[1;33m\u001b[0m\u001b[0m\n",
      "\u001b[1;31mKeyError\u001b[0m: 0"
     ]
    }
   ],
   "source": [
    "\n",
    "plt.style.use('seaborn')\n",
    "colors = {'0':\"black\", '1':\"green\", '-1':\"grey\"}  \n",
    "labels = list(colors.keys())\n",
    "handles = [plt.Rectangle((0,0),1,1, color=colors[label]) for label in labels]\n",
    "c = capacity['is_green'].apply(lambda x: colors[x])\n",
    "plt.bar(capacity['primary_fuel'], capacity['capacity_sum'], color=capacity['is_green'], label=colors)\n",
    "plt.xticks(rotation = 60)\n",
    "plt.xlabel(\"Primary fuel type\")\n",
    "plt.ylabel(\"Total capacity (in Megawatts)\", rotation = 90)\n",
    "plt.legend(handles, labels)"
   ]
  },
  {
   "cell_type": "markdown",
   "metadata": {},
   "source": [
    "**Interpretation:**\n",
    "\n",
    "TODO"
   ]
  },
  {
   "cell_type": "markdown",
   "metadata": {},
   "source": [
    "## 2. How many new powerplants in total and of each new fuel type per year (or per n years)"
   ]
  },
  {
   "cell_type": "code",
   "execution_count": 36,
   "metadata": {},
   "outputs": [],
   "source": [
    "# https://stackoverflow.com/questions/11285613/selecting-multiple-columns-in-a-pandas-dataframe\n",
    "newpp = df_all[['gppd_idnr','country','primary_fuel','commissioning_year']]\n",
    "newpp = newpp.dropna()\n",
    "newpp['commissioning_year'] = newpp['commissioning_year'].map(int)\n",
    "newyear = newpp.groupby('commissioning_year')"
   ]
  },
  {
   "cell_type": "code",
   "execution_count": 38,
   "metadata": {},
   "outputs": [
    {
     "data": {
      "text/plain": [
       "commissioning_year\n",
       "1896      1\n",
       "1899      1\n",
       "1900      6\n",
       "1901      2\n",
       "1902      4\n",
       "       ... \n",
       "2014    819\n",
       "2015    804\n",
       "2016    860\n",
       "2017    715\n",
       "2018    175\n",
       "Length: 121, dtype: int64"
      ]
     },
     "execution_count": 38,
     "metadata": {},
     "output_type": "execute_result"
    }
   ],
   "source": [
    "nycount = newyear.size()\n",
    "nycount"
   ]
  },
  {
   "cell_type": "code",
   "execution_count": 46,
   "metadata": {
    "scrolled": true
   },
   "outputs": [
    {
     "data": {
      "image/png": "[encoded data removed]",
      "text/plain": [
       "<Figure size 576x396 with 1 Axes>"
      ]
     },
     "metadata": {},
     "output_type": "display_data"
    }
   ],
   "source": [
    "nycountplot = nycount.plot(title = \"Number of new power plants per year\")"
   ]
  },
  {
   "cell_type": "markdown",
   "metadata": {},
   "source": [
    "**Interpretation:**"
   ]
  },
  {
   "cell_type": "code",
   "execution_count": 47,
   "metadata": {},
   "outputs": [],
   "source": [
    "# However, the energy output data is available only until 2017. \n",
    "# We also see a suspicious drop in the amount of new power plants from 2017 to 2018.\n",
    "# The latest technical note for the dataset was published in 2019, \n",
    "# but almost all sources used are from 2018 (also powerplant data sources).\n",
    "# It seems likely that the dataset does not represent the number of new powerplants in 2018 adequately.\n",
    "# Therefore, we only include the data from 1896-2017:\n",
    "maskyear = newpp[\"commissioning_year\"] != 2018\n",
    "newpp = newpp[maskyear]\n",
    "newyear = newpp.groupby('commissioning_year')\n",
    "nycount = newyear.size()"
   ]
  },
  {
   "cell_type": "code",
   "execution_count": 53,
   "metadata": {},
   "outputs": [
    {
     "data": {
      "text/plain": [
       "<matplotlib.axes._subplots.AxesSubplot at 0x16b26a419c8>"
      ]
     },
     "execution_count": 53,
     "metadata": {},
     "output_type": "execute_result"
    },
    {
     "data": {
      "image/png": "[encoded data removed]",
      "text/plain": [
       "<Figure size 576x396 with 1 Axes>"
      ]
     },
     "metadata": {},
     "output_type": "display_data"
    }
   ],
   "source": [
    "# Exploring which fuel types are responsible for the spikes:\n",
    "\n",
    "# https://stackoverflow.com/questions/53997862/pandas-groupby-two-columns-and-plot\n",
    "# https://matplotlib.org/stable/tutorials/colors/colors.html\n",
    "\n",
    "pd.crosstab(newpp[\"commissioning_year\"],newpp[\"primary_fuel\"]).plot(color = ['green','brown','grey','coral','orange','blue','lime','red','white','darkblue','yellow','violet','beige','cyan'])"
   ]
  },
  {
   "cell_type": "markdown",
   "metadata": {},
   "source": [
    "**Interpretation:**"
   ]
  },
  {
   "cell_type": "code",
   "execution_count": 55,
   "metadata": {},
   "outputs": [
    {
     "data": {
      "text/html": [
       "<div>\n",
       "<style scoped>\n",
       "    .dataframe tbody tr th:only-of-type {\n",
       "        vertical-align: middle;\n",
       "    }\n",
       "\n",
       "    .dataframe tbody tr th {\n",
       "        vertical-align: top;\n",
       "    }\n",
       "\n",
       "    .dataframe thead th {\n",
       "        text-align: right;\n",
       "    }\n",
       "</style>\n",
       "<table border=\"1\" class=\"dataframe\">\n",
       "  <thead>\n",
       "    <tr style=\"text-align: right;\">\n",
       "      <th></th>\n",
       "      <th>gppd_idnr</th>\n",
       "      <th>country</th>\n",
       "      <th>primary_fuel</th>\n",
       "      <th>commissioning_year</th>\n",
       "    </tr>\n",
       "  </thead>\n",
       "  <tbody>\n",
       "    <tr>\n",
       "      <th>1549</th>\n",
       "      <td>BRA0031760</td>\n",
       "      <td>BRA</td>\n",
       "      <td>Solar</td>\n",
       "      <td>2014</td>\n",
       "    </tr>\n",
       "    <tr>\n",
       "      <th>2417</th>\n",
       "      <td>BRA0031430</td>\n",
       "      <td>BRA</td>\n",
       "      <td>Solar</td>\n",
       "      <td>2014</td>\n",
       "    </tr>\n",
       "    <tr>\n",
       "      <th>3093</th>\n",
       "      <td>BRA0030060</td>\n",
       "      <td>BRA</td>\n",
       "      <td>Solar</td>\n",
       "      <td>2011</td>\n",
       "    </tr>\n",
       "    <tr>\n",
       "      <th>6460</th>\n",
       "      <td>WRI1029337</td>\n",
       "      <td>CHN</td>\n",
       "      <td>Solar</td>\n",
       "      <td>2011</td>\n",
       "    </tr>\n",
       "    <tr>\n",
       "      <th>8487</th>\n",
       "      <td>WRI1030005</td>\n",
       "      <td>DNK</td>\n",
       "      <td>Solar</td>\n",
       "      <td>2016</td>\n",
       "    </tr>\n",
       "    <tr>\n",
       "      <th>...</th>\n",
       "      <td>...</td>\n",
       "      <td>...</td>\n",
       "      <td>...</td>\n",
       "      <td>...</td>\n",
       "    </tr>\n",
       "    <tr>\n",
       "      <th>29505</th>\n",
       "      <td>USA0057422</td>\n",
       "      <td>USA</td>\n",
       "      <td>Solar</td>\n",
       "      <td>2011</td>\n",
       "    </tr>\n",
       "    <tr>\n",
       "      <th>29512</th>\n",
       "      <td>USA0060107</td>\n",
       "      <td>USA</td>\n",
       "      <td>Solar</td>\n",
       "      <td>2015</td>\n",
       "    </tr>\n",
       "    <tr>\n",
       "      <th>29521</th>\n",
       "      <td>USA0060980</td>\n",
       "      <td>USA</td>\n",
       "      <td>Solar</td>\n",
       "      <td>2016</td>\n",
       "    </tr>\n",
       "    <tr>\n",
       "      <th>29522</th>\n",
       "      <td>USA0061257</td>\n",
       "      <td>USA</td>\n",
       "      <td>Solar</td>\n",
       "      <td>2017</td>\n",
       "    </tr>\n",
       "    <tr>\n",
       "      <th>29523</th>\n",
       "      <td>USA0060549</td>\n",
       "      <td>USA</td>\n",
       "      <td>Solar</td>\n",
       "      <td>2016</td>\n",
       "    </tr>\n",
       "  </tbody>\n",
       "</table>\n",
       "<p>2367 rows × 4 columns</p>\n",
       "</div>"
      ],
      "text/plain": [
       "        gppd_idnr country primary_fuel  commissioning_year\n",
       "1549   BRA0031760     BRA        Solar                2014\n",
       "2417   BRA0031430     BRA        Solar                2014\n",
       "3093   BRA0030060     BRA        Solar                2011\n",
       "6460   WRI1029337     CHN        Solar                2011\n",
       "8487   WRI1030005     DNK        Solar                2016\n",
       "...           ...     ...          ...                 ...\n",
       "29505  USA0057422     USA        Solar                2011\n",
       "29512  USA0060107     USA        Solar                2015\n",
       "29521  USA0060980     USA        Solar                2016\n",
       "29522  USA0061257     USA        Solar                2017\n",
       "29523  USA0060549     USA        Solar                2016\n",
       "\n",
       "[2367 rows x 4 columns]"
      ]
     },
     "execution_count": 55,
     "metadata": {},
     "output_type": "execute_result"
    }
   ],
   "source": [
    "# Exploring which countries are responsible for the spike in solar power plants:\n",
    "masksolar = newpp[\"primary_fuel\"] == 'Solar'\n",
    "newsolar = newpp[masksolar]"
   ]
  },
  {
   "cell_type": "code",
   "execution_count": 59,
   "metadata": {
    "scrolled": true
   },
   "outputs": [
    {
     "ename": "TypeError",
     "evalue": "'int' object is not callable",
     "output_type": "error",
     "traceback": [
      "\u001b[1;31m---------------------------------------------------------------------------\u001b[0m",
      "\u001b[1;31mTypeError\u001b[0m                                 Traceback (most recent call last)",
      "\u001b[1;32m<ipython-input-59-29001e42a482>\u001b[0m in \u001b[0;36m<module>\u001b[1;34m\u001b[0m\n\u001b[0;32m      1\u001b[0m \u001b[0mpd\u001b[0m\u001b[1;33m.\u001b[0m\u001b[0mcrosstab\u001b[0m\u001b[1;33m(\u001b[0m\u001b[0mnewsolar\u001b[0m\u001b[1;33m[\u001b[0m\u001b[1;34m\"commissioning_year\"\u001b[0m\u001b[1;33m]\u001b[0m\u001b[1;33m,\u001b[0m \u001b[0mnewsolar\u001b[0m\u001b[1;33m[\u001b[0m\u001b[1;34m\"country\"\u001b[0m\u001b[1;33m]\u001b[0m\u001b[1;33m)\u001b[0m\u001b[1;33m.\u001b[0m\u001b[0mplot\u001b[0m\u001b[1;33m(\u001b[0m\u001b[0mcolor\u001b[0m \u001b[1;33m=\u001b[0m \u001b[1;33m[\u001b[0m\u001b[1;34m'grey'\u001b[0m\u001b[1;33m,\u001b[0m\u001b[1;34m'grey'\u001b[0m\u001b[1;33m,\u001b[0m\u001b[1;34m'grey'\u001b[0m\u001b[1;33m,\u001b[0m\u001b[1;34m'grey'\u001b[0m\u001b[1;33m,\u001b[0m\u001b[1;34m'darkblue'\u001b[0m\u001b[1;33m,\u001b[0m\u001b[1;34m'grey'\u001b[0m\u001b[1;33m,\u001b[0m\u001b[1;34m'grey'\u001b[0m\u001b[1;33m,\u001b[0m\u001b[1;34m'grey'\u001b[0m\u001b[1;33m,\u001b[0m\u001b[1;34m'grey'\u001b[0m\u001b[1;33m,\u001b[0m\u001b[1;34m'grey'\u001b[0m\u001b[1;33m,\u001b[0m\u001b[1;34m'grey'\u001b[0m\u001b[1;33m,\u001b[0m\u001b[1;34m'grey'\u001b[0m\u001b[1;33m,\u001b[0m\u001b[1;34m'grey'\u001b[0m\u001b[1;33m,\u001b[0m\u001b[1;34m'grey'\u001b[0m\u001b[1;33m,\u001b[0m\u001b[1;34m'grey'\u001b[0m\u001b[1;33m,\u001b[0m\u001b[1;34m'darkviolet'\u001b[0m\u001b[1;33m,\u001b[0m\u001b[1;34m'grey'\u001b[0m\u001b[1;33m,\u001b[0m\u001b[1;34m'yellow'\u001b[0m\u001b[1;33m,\u001b[0m\u001b[1;34m'grey'\u001b[0m\u001b[1;33m,\u001b[0m\u001b[1;34m'grey'\u001b[0m\u001b[1;33m,\u001b[0m\u001b[1;34m'grey'\u001b[0m\u001b[1;33m,\u001b[0m\u001b[1;34m'grey'\u001b[0m\u001b[1;33m,\u001b[0m\u001b[1;34m'red'\u001b[0m\u001b[1;33m,\u001b[0m\u001b[1;34m'orange'\u001b[0m\u001b[1;33m]\u001b[0m\u001b[1;33m)\u001b[0m\u001b[1;33m\u001b[0m\u001b[1;33m\u001b[0m\u001b[0m\n\u001b[1;32m----> 2\u001b[1;33m \u001b[0mplt\u001b[0m\u001b[1;33m.\u001b[0m\u001b[0mylim\u001b[0m\u001b[1;33m(\u001b[0m\u001b[1;36m0\u001b[0m\u001b[1;33m,\u001b[0m\u001b[1;36m250\u001b[0m\u001b[1;33m)\u001b[0m\u001b[1;33m\u001b[0m\u001b[1;33m\u001b[0m\u001b[0m\n\u001b[0m\u001b[0;32m      3\u001b[0m \u001b[0mplt\u001b[0m\u001b[1;33m.\u001b[0m\u001b[0mlegend\u001b[0m\u001b[1;33m(\u001b[0m\u001b[0mbbox_to_anchor\u001b[0m\u001b[1;33m=\u001b[0m\u001b[1;33m(\u001b[0m\u001b[1;36m1.2\u001b[0m\u001b[1;33m,\u001b[0m\u001b[1;36m1.1\u001b[0m\u001b[1;33m)\u001b[0m\u001b[1;33m)\u001b[0m\u001b[1;33m\u001b[0m\u001b[1;33m\u001b[0m\u001b[0m\n",
      "\u001b[1;31mTypeError\u001b[0m: 'int' object is not callable"
     ]
    },
    {
     "data": {
      "image/png": "[encoded data removed]",
      "text/plain": [
       "<Figure size 576x396 with 1 Axes>"
      ]
     },
     "metadata": {},
     "output_type": "display_data"
    }
   ],
   "source": [
    "pd.crosstab(newsolar[\"commissioning_year\"], newsolar[\"country\"]).plot(color = ['grey','grey','grey','grey','darkblue','grey','grey','grey','grey','grey','grey','grey','grey','grey','grey','darkviolet','grey','yellow','grey','grey','grey','grey','red','orange'])\n",
    "#plt.ylim(0,250) DO LATER\n",
    "plt.legend(bbox_to_anchor=(1.2,1.1))"
   ]
  },
  {
   "cell_type": "markdown",
   "metadata": {},
   "source": [
    "# Maps on full dataset"
   ]
  },
  {
   "cell_type": "code",
   "execution_count": 68,
   "metadata": {},
   "outputs": [],
   "source": [
    "#fig = px.scatter_geo(df_all,\n",
    "#                    lat=df_all[\"latitude\"],\n",
    "#                    lon=df_all[\"longitude\"],\n",
    "#                    hover_name=df_all[\"name\"],\n",
    "#                    color = df_all[\"primary_fuel\"])\n",
    "#fig.show(#)"
   ]
  },
  {
   "cell_type": "code",
   "execution_count": 70,
   "metadata": {},
   "outputs": [],
   "source": [
    "#df = df.groupby(['country', 'primary_fuel'], as_index = False)[[\"capacity_mw\"]].sum() # groups countries by primary fuel types along with their aggregate capacity\n",
    "#df = df.sort_values(['country','capacity_mw'], ascending = [True, False], ignore_index = True) # sorts countries by maximum capacity for each fuel type\n",
    "#df = df.drop_duplicates(subset=['country'], keep='first', ignore_index = True) # only keeps the fuel type with highest maximum capacity\n",
    "#df\n",
    "\n",
    "df_pf = (df_all.groupby(['country', 'primary_fuel'], as_index = False)[[\"capacity_mw\"]].sum()\n",
    "        .sort_values(['country','capacity_mw'], ascending = [True, False], ignore_index = True)\n",
    "        .drop_duplicates(subset=['country'], keep='first', ignore_index = True))"
   ]
  },
  {
   "cell_type": "code",
   "execution_count": 77,
   "metadata": {},
   "outputs": [
    {
     "data": {
      "application/vnd.plotly.v1+json": {
       "config": {
        "plotlyServerURL": "https://plot.ly"
       },
       "data": [
        {
         "colorscale": [
          [
           0,
           "#636efa"
          ],
          [
           1,
           "#636efa"
          ]
         ],
         "geo": "geo",
         "hovertemplate": "<b>%{hovertext}</b><br><br>primary_fuel=Hydro<br>country=%{location}<extra></extra>",
         "hovertext": [
          "AFG",
          "AGO",
          "ALB",
          "AUT",
          "BDI",
          "BIH",
          "BRA",
          "BTN",
          "CAF",
          "CAN",
          "CHE",
          "CHL",
          "CMR",
          "COD",
          "COL",
          "CRI",
          "ECU",
          "ETH",
          "FJI",
          "GAB",
          "GEO",
          "GHA",
          "GIN",
          "GNQ",
          "GTM",
          "GUF",
          "HRV",
          "ISL",
          "KEN",
          "KGZ",
          "KHM",
          "LAO",
          "LBR",
          "LKA",
          "LSO",
          "LUX",
          "LVA",
          "MLI",
          "MMR",
          "MNE",
          "MOZ",
          "MWI",
          "NAM",
          "NOR",
          "NPL",
          "NZL",
          "PAK",
          "PAN",
          "PNG",
          "PRY",
          "RWA",
          "SDN",
          "SVK",
          "SWE",
          "SWZ",
          "TJK",
          "TZA",
          "UGA",
          "URY",
          "VEN",
          "VNM",
          "ZMB"
         ],
         "locations": [
          "AFG",
          "AGO",
          "ALB",
          "AUT",
          "BDI",
          "BIH",
          "BRA",
          "BTN",
          "CAF",
          "CAN",
          "CHE",
          "CHL",
          "CMR",
          "COD",
          "COL",
          "CRI",
          "ECU",
          "ETH",
          "FJI",
          "GAB",
          "GEO",
          "GHA",
          "GIN",
          "GNQ",
          "GTM",
          "GUF",
          "HRV",
          "ISL",
          "KEN",
          "KGZ",
          "KHM",
          "LAO",
          "LBR",
          "LKA",
          "LSO",
          "LUX",
          "LVA",
          "MLI",
          "MMR",
          "MNE",
          "MOZ",
          "MWI",
          "NAM",
          "NOR",
          "NPL",
          "NZL",
          "PAK",
          "PAN",
          "PNG",
          "PRY",
          "RWA",
          "SDN",
          "SVK",
          "SWE",
          "SWZ",
          "TJK",
          "TZA",
          "UGA",
          "URY",
          "VEN",
          "VNM",
          "ZMB"
         ],
         "name": "Hydro",
         "showlegend": true,
         "showscale": false,
         "type": "choropleth",
         "z": [
          1,
          1,
          1,
          1,
          1,
          1,
          1,
          1,
          1,
          1,
          1,
          1,
          1,
          1,
          1,
          1,
          1,
          1,
          1,
          1,
          1,
          1,
          1,
          1,
          1,
          1,
          1,
          1,
          1,
          1,
          1,
          1,
          1,
          1,
          1,
          1,
          1,
          1,
          1,
          1,
          1,
          1,
          1,
          1,
          1,
          1,
          1,
          1,
          1,
          1,
          1,
          1,
          1,
          1,
          1,
          1,
          1,
          1,
          1,
          1,
          1,
          1
         ]
        },
        {
         "colorscale": [
          [
           0,
           "#EF553B"
          ],
          [
           1,
           "#EF553B"
          ]
         ],
         "geo": "geo",
         "hovertemplate": "<b>%{hovertext}</b><br><br>primary_fuel=Gas<br>country=%{location}<extra></extra>",
         "hovertext": [
          "ARE",
          "ARG",
          "ARM",
          "BEN",
          "BGD",
          "BHR",
          "BLR",
          "BOL",
          "BRN",
          "CIV",
          "COG",
          "CYP",
          "DZA",
          "EGY",
          "ESP",
          "GBR",
          "GRC",
          "HUN",
          "IRL",
          "IRN",
          "IRQ",
          "ISR",
          "ITA",
          "JOR",
          "JPN",
          "KWT",
          "LBY",
          "LTU",
          "MEX",
          "MYS",
          "NGA",
          "NLD",
          "OMN",
          "PER",
          "QAT",
          "RUS",
          "SGP",
          "THA",
          "TTO",
          "TUN",
          "USA",
          "UZB"
         ],
         "locations": [
          "ARE",
          "ARG",
          "ARM",
          "BEN",
          "BGD",
          "BHR",
          "BLR",
          "BOL",
          "BRN",
          "CIV",
          "COG",
          "CYP",
          "DZA",
          "EGY",
          "ESP",
          "GBR",
          "GRC",
          "HUN",
          "IRL",
          "IRN",
          "IRQ",
          "ISR",
          "ITA",
          "JOR",
          "JPN",
          "KWT",
          "LBY",
          "LTU",
          "MEX",
          "MYS",
          "NGA",
          "NLD",
          "OMN",
          "PER",
          "QAT",
          "RUS",
          "SGP",
          "THA",
          "TTO",
          "TUN",
          "USA",
          "UZB"
         ],
         "name": "Gas",
         "showlegend": true,
         "showscale": false,
         "type": "choropleth",
         "z": [
          1,
          1,
          1,
          1,
          1,
          1,
          1,
          1,
          1,
          1,
          1,
          1,
          1,
          1,
          1,
          1,
          1,
          1,
          1,
          1,
          1,
          1,
          1,
          1,
          1,
          1,
          1,
          1,
          1,
          1,
          1,
          1,
          1,
          1,
          1,
          1,
          1,
          1,
          1,
          1,
          1,
          1
         ]
        },
        {
         "colorscale": [
          [
           0,
           "#00cc96"
          ],
          [
           1,
           "#00cc96"
          ]
         ],
         "geo": "geo",
         "hovertemplate": "<b>%{hovertext}</b><br><br>primary_fuel=Oil<br>country=%{location}<extra></extra>",
         "hovertext": [
          "ATA",
          "AZE",
          "BFA",
          "CPV",
          "CUB",
          "DJI",
          "DOM",
          "ERI",
          "ESH",
          "EST",
          "GMB",
          "GNB",
          "GUY",
          "HND",
          "JAM",
          "LBN",
          "MRT",
          "MUS",
          "NER",
          "NIC",
          "SAU",
          "SEN",
          "SLE",
          "SLV",
          "SYR",
          "TGO",
          "TKM",
          "YEM"
         ],
         "locations": [
          "ATA",
          "AZE",
          "BFA",
          "CPV",
          "CUB",
          "DJI",
          "DOM",
          "ERI",
          "ESH",
          "EST",
          "GMB",
          "GNB",
          "GUY",
          "HND",
          "JAM",
          "LBN",
          "MRT",
          "MUS",
          "NER",
          "NIC",
          "SAU",
          "SEN",
          "SLE",
          "SLV",
          "SYR",
          "TGO",
          "TKM",
          "YEM"
         ],
         "name": "Oil",
         "showlegend": true,
         "showscale": false,
         "type": "choropleth",
         "z": [
          1,
          1,
          1,
          1,
          1,
          1,
          1,
          1,
          1,
          1,
          1,
          1,
          1,
          1,
          1,
          1,
          1,
          1,
          1,
          1,
          1,
          1,
          1,
          1,
          1,
          1,
          1,
          1
         ]
        },
        {
         "colorscale": [
          [
           0,
           "#ab63fa"
          ],
          [
           1,
           "#ab63fa"
          ]
         ],
         "geo": "geo",
         "hovertemplate": "<b>%{hovertext}</b><br><br>primary_fuel=Coal<br>country=%{location}<extra></extra>",
         "hovertext": [
          "AUS",
          "BGR",
          "BWA",
          "CHN",
          "CZE",
          "DEU",
          "DNK",
          "IDN",
          "IND",
          "KAZ",
          "KOR",
          "KOS",
          "MAR",
          "MDA",
          "MDG",
          "MKD",
          "MNG",
          "PHL",
          "POL",
          "PRK",
          "ROU",
          "SRB",
          "SVN",
          "TUR",
          "TWN",
          "UKR",
          "ZAF",
          "ZWE"
         ],
         "locations": [
          "AUS",
          "BGR",
          "BWA",
          "CHN",
          "CZE",
          "DEU",
          "DNK",
          "IDN",
          "IND",
          "KAZ",
          "KOR",
          "KOS",
          "MAR",
          "MDA",
          "MDG",
          "MKD",
          "MNG",
          "PHL",
          "POL",
          "PRK",
          "ROU",
          "SRB",
          "SVN",
          "TUR",
          "TWN",
          "UKR",
          "ZAF",
          "ZWE"
         ],
         "name": "Coal",
         "showlegend": true,
         "showscale": false,
         "type": "choropleth",
         "z": [
          1,
          1,
          1,
          1,
          1,
          1,
          1,
          1,
          1,
          1,
          1,
          1,
          1,
          1,
          1,
          1,
          1,
          1,
          1,
          1,
          1,
          1,
          1,
          1,
          1,
          1,
          1,
          1
         ]
        },
        {
         "colorscale": [
          [
           0,
           "#FFA15A"
          ],
          [
           1,
           "#FFA15A"
          ]
         ],
         "geo": "geo",
         "hovertemplate": "<b>%{hovertext}</b><br><br>primary_fuel=Nuclear<br>country=%{location}<extra></extra>",
         "hovertext": [
          "BEL",
          "FIN",
          "FRA"
         ],
         "locations": [
          "BEL",
          "FIN",
          "FRA"
         ],
         "name": "Nuclear",
         "showlegend": true,
         "showscale": false,
         "type": "choropleth",
         "z": [
          1,
          1,
          1
         ]
        },
        {
         "colorscale": [
          [
           0,
           "#19d3f3"
          ],
          [
           1,
           "#19d3f3"
          ]
         ],
         "geo": "geo",
         "hovertemplate": "<b>%{hovertext}</b><br><br>primary_fuel=Wind<br>country=%{location}<extra></extra>",
         "hovertext": [
          "PRT"
         ],
         "locations": [
          "PRT"
         ],
         "name": "Wind",
         "showlegend": true,
         "showscale": false,
         "type": "choropleth",
         "z": [
          1
         ]
        }
       ],
       "layout": {
        "geo": {
         "center": {},
         "domain": {
          "x": [
           0,
           1
          ],
          "y": [
           0,
           1
          ]
         }
        },
        "legend": {
         "title": {
          "text": "primary_fuel"
         },
         "tracegroupgap": 0
        },
        "margin": {
         "t": 60
        },
        "template": {
         "data": {
          "bar": [
           {
            "error_x": {
             "color": "#2a3f5f"
            },
            "error_y": {
             "color": "#2a3f5f"
            },
            "marker": {
             "line": {
              "color": "#E5ECF6",
              "width": 0.5
             }
            },
            "type": "bar"
           }
          ],
          "barpolar": [
           {
            "marker": {
             "line": {
              "color": "#E5ECF6",
              "width": 0.5
             }
            },
            "type": "barpolar"
           }
          ],
          "carpet": [
           {
            "aaxis": {
             "endlinecolor": "#2a3f5f",
             "gridcolor": "white",
             "linecolor": "white",
             "minorgridcolor": "white",
             "startlinecolor": "#2a3f5f"
            },
            "baxis": {
             "endlinecolor": "#2a3f5f",
             "gridcolor": "white",
             "linecolor": "white",
             "minorgridcolor": "white",
             "startlinecolor": "#2a3f5f"
            },
            "type": "carpet"
           }
          ],
          "choropleth": [
           {
            "colorbar": {
             "outlinewidth": 0,
             "ticks": ""
            },
            "type": "choropleth"
           }
          ],
          "contour": [
           {
            "colorbar": {
             "outlinewidth": 0,
             "ticks": ""
            },
            "colorscale": [
             [
              0,
              "#0d0887"
             ],
             [
              0.1111111111111111,
              "#46039f"
             ],
             [
              0.2222222222222222,
              "#7201a8"
             ],
             [
              0.3333333333333333,
              "#9c179e"
             ],
             [
              0.4444444444444444,
              "#bd3786"
             ],
             [
              0.5555555555555556,
              "#d8576b"
             ],
             [
              0.6666666666666666,
              "#ed7953"
             ],
             [
              0.7777777777777778,
              "#fb9f3a"
             ],
             [
              0.8888888888888888,
              "#fdca26"
             ],
             [
              1,
              "#f0f921"
             ]
            ],
            "type": "contour"
           }
          ],
          "contourcarpet": [
           {
            "colorbar": {
             "outlinewidth": 0,
             "ticks": ""
            },
            "type": "contourcarpet"
           }
          ],
          "heatmap": [
           {
            "colorbar": {
             "outlinewidth": 0,
             "ticks": ""
            },
            "colorscale": [
             [
              0,
              "#0d0887"
             ],
             [
              0.1111111111111111,
              "#46039f"
             ],
             [
              0.2222222222222222,
              "#7201a8"
             ],
             [
              0.3333333333333333,
              "#9c179e"
             ],
             [
              0.4444444444444444,
              "#bd3786"
             ],
             [
              0.5555555555555556,
              "#d8576b"
             ],
             [
              0.6666666666666666,
              "#ed7953"
             ],
             [
              0.7777777777777778,
              "#fb9f3a"
             ],
             [
              0.8888888888888888,
              "#fdca26"
             ],
             [
              1,
              "#f0f921"
             ]
            ],
            "type": "heatmap"
           }
          ],
          "heatmapgl": [
           {
            "colorbar": {
             "outlinewidth": 0,
             "ticks": ""
            },
            "colorscale": [
             [
              0,
              "#0d0887"
             ],
             [
              0.1111111111111111,
              "#46039f"
             ],
             [
              0.2222222222222222,
              "#7201a8"
             ],
             [
              0.3333333333333333,
              "#9c179e"
             ],
             [
              0.4444444444444444,
              "#bd3786"
             ],
             [
              0.5555555555555556,
              "#d8576b"
             ],
             [
              0.6666666666666666,
              "#ed7953"
             ],
             [
              0.7777777777777778,
              "#fb9f3a"
             ],
             [
              0.8888888888888888,
              "#fdca26"
             ],
             [
              1,
              "#f0f921"
             ]
            ],
            "type": "heatmapgl"
           }
          ],
          "histogram": [
           {
            "marker": {
             "colorbar": {
              "outlinewidth": 0,
              "ticks": ""
             }
            },
            "type": "histogram"
           }
          ],
          "histogram2d": [
           {
            "colorbar": {
             "outlinewidth": 0,
             "ticks": ""
            },
            "colorscale": [
             [
              0,
              "#0d0887"
             ],
             [
              0.1111111111111111,
              "#46039f"
             ],
             [
              0.2222222222222222,
              "#7201a8"
             ],
             [
              0.3333333333333333,
              "#9c179e"
             ],
             [
              0.4444444444444444,
              "#bd3786"
             ],
             [
              0.5555555555555556,
              "#d8576b"
             ],
             [
              0.6666666666666666,
              "#ed7953"
             ],
             [
              0.7777777777777778,
              "#fb9f3a"
             ],
             [
              0.8888888888888888,
              "#fdca26"
             ],
             [
              1,
              "#f0f921"
             ]
            ],
            "type": "histogram2d"
           }
          ],
          "histogram2dcontour": [
           {
            "colorbar": {
             "outlinewidth": 0,
             "ticks": ""
            },
            "colorscale": [
             [
              0,
              "#0d0887"
             ],
             [
              0.1111111111111111,
              "#46039f"
             ],
             [
              0.2222222222222222,
              "#7201a8"
             ],
             [
              0.3333333333333333,
              "#9c179e"
             ],
             [
              0.4444444444444444,
              "#bd3786"
             ],
             [
              0.5555555555555556,
              "#d8576b"
             ],
             [
              0.6666666666666666,
              "#ed7953"
             ],
             [
              0.7777777777777778,
              "#fb9f3a"
             ],
             [
              0.8888888888888888,
              "#fdca26"
             ],
             [
              1,
              "#f0f921"
             ]
            ],
            "type": "histogram2dcontour"
           }
          ],
          "mesh3d": [
           {
            "colorbar": {
             "outlinewidth": 0,
             "ticks": ""
            },
            "type": "mesh3d"
           }
          ],
          "parcoords": [
           {
            "line": {
             "colorbar": {
              "outlinewidth": 0,
              "ticks": ""
             }
            },
            "type": "parcoords"
           }
          ],
          "pie": [
           {
            "automargin": true,
            "type": "pie"
           }
          ],
          "scatter": [
           {
            "marker": {
             "colorbar": {
              "outlinewidth": 0,
              "ticks": ""
             }
            },
            "type": "scatter"
           }
          ],
          "scatter3d": [
           {
            "line": {
             "colorbar": {
              "outlinewidth": 0,
              "ticks": ""
             }
            },
            "marker": {
             "colorbar": {
              "outlinewidth": 0,
              "ticks": ""
             }
            },
            "type": "scatter3d"
           }
          ],
          "scattercarpet": [
           {
            "marker": {
             "colorbar": {
              "outlinewidth": 0,
              "ticks": ""
             }
            },
            "type": "scattercarpet"
           }
          ],
          "scattergeo": [
           {
            "marker": {
             "colorbar": {
              "outlinewidth": 0,
              "ticks": ""
             }
            },
            "type": "scattergeo"
           }
          ],
          "scattergl": [
           {
            "marker": {
             "colorbar": {
              "outlinewidth": 0,
              "ticks": ""
             }
            },
            "type": "scattergl"
           }
          ],
          "scattermapbox": [
           {
            "marker": {
             "colorbar": {
              "outlinewidth": 0,
              "ticks": ""
             }
            },
            "type": "scattermapbox"
           }
          ],
          "scatterpolar": [
           {
            "marker": {
             "colorbar": {
              "outlinewidth": 0,
              "ticks": ""
             }
            },
            "type": "scatterpolar"
           }
          ],
          "scatterpolargl": [
           {
            "marker": {
             "colorbar": {
              "outlinewidth": 0,
              "ticks": ""
             }
            },
            "type": "scatterpolargl"
           }
          ],
          "scatterternary": [
           {
            "marker": {
             "colorbar": {
              "outlinewidth": 0,
              "ticks": ""
             }
            },
            "type": "scatterternary"
           }
          ],
          "surface": [
           {
            "colorbar": {
             "outlinewidth": 0,
             "ticks": ""
            },
            "colorscale": [
             [
              0,
              "#0d0887"
             ],
             [
              0.1111111111111111,
              "#46039f"
             ],
             [
              0.2222222222222222,
              "#7201a8"
             ],
             [
              0.3333333333333333,
              "#9c179e"
             ],
             [
              0.4444444444444444,
              "#bd3786"
             ],
             [
              0.5555555555555556,
              "#d8576b"
             ],
             [
              0.6666666666666666,
              "#ed7953"
             ],
             [
              0.7777777777777778,
              "#fb9f3a"
             ],
             [
              0.8888888888888888,
              "#fdca26"
             ],
             [
              1,
              "#f0f921"
             ]
            ],
            "type": "surface"
           }
          ],
          "table": [
           {
            "cells": {
             "fill": {
              "color": "#EBF0F8"
             },
             "line": {
              "color": "white"
             }
            },
            "header": {
             "fill": {
              "color": "#C8D4E3"
             },
             "line": {
              "color": "white"
             }
            },
            "type": "table"
           }
          ]
         },
         "layout": {
          "annotationdefaults": {
           "arrowcolor": "#2a3f5f",
           "arrowhead": 0,
           "arrowwidth": 1
          },
          "autotypenumbers": "strict",
          "coloraxis": {
           "colorbar": {
            "outlinewidth": 0,
            "ticks": ""
           }
          },
          "colorscale": {
           "diverging": [
            [
             0,
             "#8e0152"
            ],
            [
             0.1,
             "#c51b7d"
            ],
            [
             0.2,
             "#de77ae"
            ],
            [
             0.3,
             "#f1b6da"
            ],
            [
             0.4,
             "#fde0ef"
            ],
            [
             0.5,
             "#f7f7f7"
            ],
            [
             0.6,
             "#e6f5d0"
            ],
            [
             0.7,
             "#b8e186"
            ],
            [
             0.8,
             "#7fbc41"
            ],
            [
             0.9,
             "#4d9221"
            ],
            [
             1,
             "#276419"
            ]
           ],
           "sequential": [
            [
             0,
             "#0d0887"
            ],
            [
             0.1111111111111111,
             "#46039f"
            ],
            [
             0.2222222222222222,
             "#7201a8"
            ],
            [
             0.3333333333333333,
             "#9c179e"
            ],
            [
             0.4444444444444444,
             "#bd3786"
            ],
            [
             0.5555555555555556,
             "#d8576b"
            ],
            [
             0.6666666666666666,
             "#ed7953"
            ],
            [
             0.7777777777777778,
             "#fb9f3a"
            ],
            [
             0.8888888888888888,
             "#fdca26"
            ],
            [
             1,
             "#f0f921"
            ]
           ],
           "sequentialminus": [
            [
             0,
             "#0d0887"
            ],
            [
             0.1111111111111111,
             "#46039f"
            ],
            [
             0.2222222222222222,
             "#7201a8"
            ],
            [
             0.3333333333333333,
             "#9c179e"
            ],
            [
             0.4444444444444444,
             "#bd3786"
            ],
            [
             0.5555555555555556,
             "#d8576b"
            ],
            [
             0.6666666666666666,
             "#ed7953"
            ],
            [
             0.7777777777777778,
             "#fb9f3a"
            ],
            [
             0.8888888888888888,
             "#fdca26"
            ],
            [
             1,
             "#f0f921"
            ]
           ]
          },
          "colorway": [
           "#636efa",
           "#EF553B",
           "#00cc96",
           "#ab63fa",
           "#FFA15A",
           "#19d3f3",
           "#FF6692",
           "#B6E880",
           "#FF97FF",
           "#FECB52"
          ],
          "font": {
           "color": "#2a3f5f"
          },
          "geo": {
           "bgcolor": "white",
           "lakecolor": "white",
           "landcolor": "#E5ECF6",
           "showlakes": true,
           "showland": true,
           "subunitcolor": "white"
          },
          "hoverlabel": {
           "align": "left"
          },
          "hovermode": "closest",
          "mapbox": {
           "style": "light"
          },
          "paper_bgcolor": "white",
          "plot_bgcolor": "#E5ECF6",
          "polar": {
           "angularaxis": {
            "gridcolor": "white",
            "linecolor": "white",
            "ticks": ""
           },
           "bgcolor": "#E5ECF6",
           "radialaxis": {
            "gridcolor": "white",
            "linecolor": "white",
            "ticks": ""
           }
          },
          "scene": {
           "xaxis": {
            "backgroundcolor": "#E5ECF6",
            "gridcolor": "white",
            "gridwidth": 2,
            "linecolor": "white",
            "showbackground": true,
            "ticks": "",
            "zerolinecolor": "white"
           },
           "yaxis": {
            "backgroundcolor": "#E5ECF6",
            "gridcolor": "white",
            "gridwidth": 2,
            "linecolor": "white",
            "showbackground": true,
            "ticks": "",
            "zerolinecolor": "white"
           },
           "zaxis": {
            "backgroundcolor": "#E5ECF6",
            "gridcolor": "white",
            "gridwidth": 2,
            "linecolor": "white",
            "showbackground": true,
            "ticks": "",
            "zerolinecolor": "white"
           }
          },
          "shapedefaults": {
           "line": {
            "color": "#2a3f5f"
           }
          },
          "ternary": {
           "aaxis": {
            "gridcolor": "white",
            "linecolor": "white",
            "ticks": ""
           },
           "baxis": {
            "gridcolor": "white",
            "linecolor": "white",
            "ticks": ""
           },
           "bgcolor": "#E5ECF6",
           "caxis": {
            "gridcolor": "white",
            "linecolor": "white",
            "ticks": ""
           }
          },
          "title": {
           "x": 0.05
          },
          "xaxis": {
           "automargin": true,
           "gridcolor": "white",
           "linecolor": "white",
           "ticks": "",
           "title": {
            "standoff": 15
           },
           "zerolinecolor": "white",
           "zerolinewidth": 2
          },
          "yaxis": {
           "automargin": true,
           "gridcolor": "white",
           "linecolor": "white",
           "ticks": "",
           "title": {
            "standoff": 15
           },
           "zerolinecolor": "white",
           "zerolinewidth": 2
          }
         }
        }
       }
      },
      "text/html": [
       "<div>                            <div id=\"d7e8b59e-ecf2-48b8-b583-e57a7b25c95c\" class=\"plotly-graph-div\" style=\"height:525px; width:100%;\"></div>            <script type=\"text/javascript\">                require([\"plotly\"], function(Plotly) {                    window.PLOTLYENV=window.PLOTLYENV || {};                                    if (document.getElementById(\"d7e8b59e-ecf2-48b8-b583-e57a7b25c95c\")) {                    Plotly.newPlot(                        \"d7e8b59e-ecf2-48b8-b583-e57a7b25c95c\",                        [{\"colorscale\": [[0.0, \"#636efa\"], [1.0, \"#636efa\"]], \"geo\": \"geo\", \"hovertemplate\": \"<b>%{hovertext}</b><br><br>primary_fuel=Hydro<br>country=%{location}<extra></extra>\", \"hovertext\": [\"AFG\", \"AGO\", \"ALB\", \"AUT\", \"BDI\", \"BIH\", \"BRA\", \"BTN\", \"CAF\", \"CAN\", \"CHE\", \"CHL\", \"CMR\", \"COD\", \"COL\", \"CRI\", \"ECU\", \"ETH\", \"FJI\", \"GAB\", \"GEO\", \"GHA\", \"GIN\", \"GNQ\", \"GTM\", \"GUF\", \"HRV\", \"ISL\", \"KEN\", \"KGZ\", \"KHM\", \"LAO\", \"LBR\", \"LKA\", \"LSO\", \"LUX\", \"LVA\", \"MLI\", \"MMR\", \"MNE\", \"MOZ\", \"MWI\", \"NAM\", \"NOR\", \"NPL\", \"NZL\", \"PAK\", \"PAN\", \"PNG\", \"PRY\", \"RWA\", \"SDN\", \"SVK\", \"SWE\", \"SWZ\", \"TJK\", \"TZA\", \"UGA\", \"URY\", \"VEN\", \"VNM\", \"ZMB\"], \"locations\": [\"AFG\", \"AGO\", \"ALB\", \"AUT\", \"BDI\", \"BIH\", \"BRA\", \"BTN\", \"CAF\", \"CAN\", \"CHE\", \"CHL\", \"CMR\", \"COD\", \"COL\", \"CRI\", \"ECU\", \"ETH\", \"FJI\", \"GAB\", \"GEO\", \"GHA\", \"GIN\", \"GNQ\", \"GTM\", \"GUF\", \"HRV\", \"ISL\", \"KEN\", \"KGZ\", \"KHM\", \"LAO\", \"LBR\", \"LKA\", \"LSO\", \"LUX\", \"LVA\", \"MLI\", \"MMR\", \"MNE\", \"MOZ\", \"MWI\", \"NAM\", \"NOR\", \"NPL\", \"NZL\", \"PAK\", \"PAN\", \"PNG\", \"PRY\", \"RWA\", \"SDN\", \"SVK\", \"SWE\", \"SWZ\", \"TJK\", \"TZA\", \"UGA\", \"URY\", \"VEN\", \"VNM\", \"ZMB\"], \"name\": \"Hydro\", \"showlegend\": true, \"showscale\": false, \"type\": \"choropleth\", \"z\": [1, 1, 1, 1, 1, 1, 1, 1, 1, 1, 1, 1, 1, 1, 1, 1, 1, 1, 1, 1, 1, 1, 1, 1, 1, 1, 1, 1, 1, 1, 1, 1, 1, 1, 1, 1, 1, 1, 1, 1, 1, 1, 1, 1, 1, 1, 1, 1, 1, 1, 1, 1, 1, 1, 1, 1, 1, 1, 1, 1, 1, 1]}, {\"colorscale\": [[0.0, \"#EF553B\"], [1.0, \"#EF553B\"]], \"geo\": \"geo\", \"hovertemplate\": \"<b>%{hovertext}</b><br><br>primary_fuel=Gas<br>country=%{location}<extra></extra>\", \"hovertext\": [\"ARE\", \"ARG\", \"ARM\", \"BEN\", \"BGD\", \"BHR\", \"BLR\", \"BOL\", \"BRN\", \"CIV\", \"COG\", \"CYP\", \"DZA\", \"EGY\", \"ESP\", \"GBR\", \"GRC\", \"HUN\", \"IRL\", \"IRN\", \"IRQ\", \"ISR\", \"ITA\", \"JOR\", \"JPN\", \"KWT\", \"LBY\", \"LTU\", \"MEX\", \"MYS\", \"NGA\", \"NLD\", \"OMN\", \"PER\", \"QAT\", \"RUS\", \"SGP\", \"THA\", \"TTO\", \"TUN\", \"USA\", \"UZB\"], \"locations\": [\"ARE\", \"ARG\", \"ARM\", \"BEN\", \"BGD\", \"BHR\", \"BLR\", \"BOL\", \"BRN\", \"CIV\", \"COG\", \"CYP\", \"DZA\", \"EGY\", \"ESP\", \"GBR\", \"GRC\", \"HUN\", \"IRL\", \"IRN\", \"IRQ\", \"ISR\", \"ITA\", \"JOR\", \"JPN\", \"KWT\", \"LBY\", \"LTU\", \"MEX\", \"MYS\", \"NGA\", \"NLD\", \"OMN\", \"PER\", \"QAT\", \"RUS\", \"SGP\", \"THA\", \"TTO\", \"TUN\", \"USA\", \"UZB\"], \"name\": \"Gas\", \"showlegend\": true, \"showscale\": false, \"type\": \"choropleth\", \"z\": [1, 1, 1, 1, 1, 1, 1, 1, 1, 1, 1, 1, 1, 1, 1, 1, 1, 1, 1, 1, 1, 1, 1, 1, 1, 1, 1, 1, 1, 1, 1, 1, 1, 1, 1, 1, 1, 1, 1, 1, 1, 1]}, {\"colorscale\": [[0.0, \"#00cc96\"], [1.0, \"#00cc96\"]], \"geo\": \"geo\", \"hovertemplate\": \"<b>%{hovertext}</b><br><br>primary_fuel=Oil<br>country=%{location}<extra></extra>\", \"hovertext\": [\"ATA\", \"AZE\", \"BFA\", \"CPV\", \"CUB\", \"DJI\", \"DOM\", \"ERI\", \"ESH\", \"EST\", \"GMB\", \"GNB\", \"GUY\", \"HND\", \"JAM\", \"LBN\", \"MRT\", \"MUS\", \"NER\", \"NIC\", \"SAU\", \"SEN\", \"SLE\", \"SLV\", \"SYR\", \"TGO\", \"TKM\", \"YEM\"], \"locations\": [\"ATA\", \"AZE\", \"BFA\", \"CPV\", \"CUB\", \"DJI\", \"DOM\", \"ERI\", \"ESH\", \"EST\", \"GMB\", \"GNB\", \"GUY\", \"HND\", \"JAM\", \"LBN\", \"MRT\", \"MUS\", \"NER\", \"NIC\", \"SAU\", \"SEN\", \"SLE\", \"SLV\", \"SYR\", \"TGO\", \"TKM\", \"YEM\"], \"name\": \"Oil\", \"showlegend\": true, \"showscale\": false, \"type\": \"choropleth\", \"z\": [1, 1, 1, 1, 1, 1, 1, 1, 1, 1, 1, 1, 1, 1, 1, 1, 1, 1, 1, 1, 1, 1, 1, 1, 1, 1, 1, 1]}, {\"colorscale\": [[0.0, \"#ab63fa\"], [1.0, \"#ab63fa\"]], \"geo\": \"geo\", \"hovertemplate\": \"<b>%{hovertext}</b><br><br>primary_fuel=Coal<br>country=%{location}<extra></extra>\", \"hovertext\": [\"AUS\", \"BGR\", \"BWA\", \"CHN\", \"CZE\", \"DEU\", \"DNK\", \"IDN\", \"IND\", \"KAZ\", \"KOR\", \"KOS\", \"MAR\", \"MDA\", \"MDG\", \"MKD\", \"MNG\", \"PHL\", \"POL\", \"PRK\", \"ROU\", \"SRB\", \"SVN\", \"TUR\", \"TWN\", \"UKR\", \"ZAF\", \"ZWE\"], \"locations\": [\"AUS\", \"BGR\", \"BWA\", \"CHN\", \"CZE\", \"DEU\", \"DNK\", \"IDN\", \"IND\", \"KAZ\", \"KOR\", \"KOS\", \"MAR\", \"MDA\", \"MDG\", \"MKD\", \"MNG\", \"PHL\", \"POL\", \"PRK\", \"ROU\", \"SRB\", \"SVN\", \"TUR\", \"TWN\", \"UKR\", \"ZAF\", \"ZWE\"], \"name\": \"Coal\", \"showlegend\": true, \"showscale\": false, \"type\": \"choropleth\", \"z\": [1, 1, 1, 1, 1, 1, 1, 1, 1, 1, 1, 1, 1, 1, 1, 1, 1, 1, 1, 1, 1, 1, 1, 1, 1, 1, 1, 1]}, {\"colorscale\": [[0.0, \"#FFA15A\"], [1.0, \"#FFA15A\"]], \"geo\": \"geo\", \"hovertemplate\": \"<b>%{hovertext}</b><br><br>primary_fuel=Nuclear<br>country=%{location}<extra></extra>\", \"hovertext\": [\"BEL\", \"FIN\", \"FRA\"], \"locations\": [\"BEL\", \"FIN\", \"FRA\"], \"name\": \"Nuclear\", \"showlegend\": true, \"showscale\": false, \"type\": \"choropleth\", \"z\": [1, 1, 1]}, {\"colorscale\": [[0.0, \"#19d3f3\"], [1.0, \"#19d3f3\"]], \"geo\": \"geo\", \"hovertemplate\": \"<b>%{hovertext}</b><br><br>primary_fuel=Wind<br>country=%{location}<extra></extra>\", \"hovertext\": [\"PRT\"], \"locations\": [\"PRT\"], \"name\": \"Wind\", \"showlegend\": true, \"showscale\": false, \"type\": \"choropleth\", \"z\": [1]}],                        {\"geo\": {\"center\": {}, \"domain\": {\"x\": [0.0, 1.0], \"y\": [0.0, 1.0]}}, \"legend\": {\"title\": {\"text\": \"primary_fuel\"}, \"tracegroupgap\": 0}, \"margin\": {\"t\": 60}, \"template\": {\"data\": {\"bar\": [{\"error_x\": {\"color\": \"#2a3f5f\"}, \"error_y\": {\"color\": \"#2a3f5f\"}, \"marker\": {\"line\": {\"color\": \"#E5ECF6\", \"width\": 0.5}}, \"type\": \"bar\"}], \"barpolar\": [{\"marker\": {\"line\": {\"color\": \"#E5ECF6\", \"width\": 0.5}}, \"type\": \"barpolar\"}], \"carpet\": [{\"aaxis\": {\"endlinecolor\": \"#2a3f5f\", \"gridcolor\": \"white\", \"linecolor\": \"white\", \"minorgridcolor\": \"white\", \"startlinecolor\": \"#2a3f5f\"}, \"baxis\": {\"endlinecolor\": \"#2a3f5f\", \"gridcolor\": \"white\", \"linecolor\": \"white\", \"minorgridcolor\": \"white\", \"startlinecolor\": \"#2a3f5f\"}, \"type\": \"carpet\"}], \"choropleth\": [{\"colorbar\": {\"outlinewidth\": 0, \"ticks\": \"\"}, \"type\": \"choropleth\"}], \"contour\": [{\"colorbar\": {\"outlinewidth\": 0, \"ticks\": \"\"}, \"colorscale\": [[0.0, \"#0d0887\"], [0.1111111111111111, \"#46039f\"], [0.2222222222222222, \"#7201a8\"], [0.3333333333333333, \"#9c179e\"], [0.4444444444444444, \"#bd3786\"], [0.5555555555555556, \"#d8576b\"], [0.6666666666666666, \"#ed7953\"], [0.7777777777777778, \"#fb9f3a\"], [0.8888888888888888, \"#fdca26\"], [1.0, \"#f0f921\"]], \"type\": \"contour\"}], \"contourcarpet\": [{\"colorbar\": {\"outlinewidth\": 0, \"ticks\": \"\"}, \"type\": \"contourcarpet\"}], \"heatmap\": [{\"colorbar\": {\"outlinewidth\": 0, \"ticks\": \"\"}, \"colorscale\": [[0.0, \"#0d0887\"], [0.1111111111111111, \"#46039f\"], [0.2222222222222222, \"#7201a8\"], [0.3333333333333333, \"#9c179e\"], [0.4444444444444444, \"#bd3786\"], [0.5555555555555556, \"#d8576b\"], [0.6666666666666666, \"#ed7953\"], [0.7777777777777778, \"#fb9f3a\"], [0.8888888888888888, \"#fdca26\"], [1.0, \"#f0f921\"]], \"type\": \"heatmap\"}], \"heatmapgl\": [{\"colorbar\": {\"outlinewidth\": 0, \"ticks\": \"\"}, \"colorscale\": [[0.0, \"#0d0887\"], [0.1111111111111111, \"#46039f\"], [0.2222222222222222, \"#7201a8\"], [0.3333333333333333, \"#9c179e\"], [0.4444444444444444, \"#bd3786\"], [0.5555555555555556, \"#d8576b\"], [0.6666666666666666, \"#ed7953\"], [0.7777777777777778, \"#fb9f3a\"], [0.8888888888888888, \"#fdca26\"], [1.0, \"#f0f921\"]], \"type\": \"heatmapgl\"}], \"histogram\": [{\"marker\": {\"colorbar\": {\"outlinewidth\": 0, \"ticks\": \"\"}}, \"type\": \"histogram\"}], \"histogram2d\": [{\"colorbar\": {\"outlinewidth\": 0, \"ticks\": \"\"}, \"colorscale\": [[0.0, \"#0d0887\"], [0.1111111111111111, \"#46039f\"], [0.2222222222222222, \"#7201a8\"], [0.3333333333333333, \"#9c179e\"], [0.4444444444444444, \"#bd3786\"], [0.5555555555555556, \"#d8576b\"], [0.6666666666666666, \"#ed7953\"], [0.7777777777777778, \"#fb9f3a\"], [0.8888888888888888, \"#fdca26\"], [1.0, \"#f0f921\"]], \"type\": \"histogram2d\"}], \"histogram2dcontour\": [{\"colorbar\": {\"outlinewidth\": 0, \"ticks\": \"\"}, \"colorscale\": [[0.0, \"#0d0887\"], [0.1111111111111111, \"#46039f\"], [0.2222222222222222, \"#7201a8\"], [0.3333333333333333, \"#9c179e\"], [0.4444444444444444, \"#bd3786\"], [0.5555555555555556, \"#d8576b\"], [0.6666666666666666, \"#ed7953\"], [0.7777777777777778, \"#fb9f3a\"], [0.8888888888888888, \"#fdca26\"], [1.0, \"#f0f921\"]], \"type\": \"histogram2dcontour\"}], \"mesh3d\": [{\"colorbar\": {\"outlinewidth\": 0, \"ticks\": \"\"}, \"type\": \"mesh3d\"}], \"parcoords\": [{\"line\": {\"colorbar\": {\"outlinewidth\": 0, \"ticks\": \"\"}}, \"type\": \"parcoords\"}], \"pie\": [{\"automargin\": true, \"type\": \"pie\"}], \"scatter\": [{\"marker\": {\"colorbar\": {\"outlinewidth\": 0, \"ticks\": \"\"}}, \"type\": \"scatter\"}], \"scatter3d\": [{\"line\": {\"colorbar\": {\"outlinewidth\": 0, \"ticks\": \"\"}}, \"marker\": {\"colorbar\": {\"outlinewidth\": 0, \"ticks\": \"\"}}, \"type\": \"scatter3d\"}], \"scattercarpet\": [{\"marker\": {\"colorbar\": {\"outlinewidth\": 0, \"ticks\": \"\"}}, \"type\": \"scattercarpet\"}], \"scattergeo\": [{\"marker\": {\"colorbar\": {\"outlinewidth\": 0, \"ticks\": \"\"}}, \"type\": \"scattergeo\"}], \"scattergl\": [{\"marker\": {\"colorbar\": {\"outlinewidth\": 0, \"ticks\": \"\"}}, \"type\": \"scattergl\"}], \"scattermapbox\": [{\"marker\": {\"colorbar\": {\"outlinewidth\": 0, \"ticks\": \"\"}}, \"type\": \"scattermapbox\"}], \"scatterpolar\": [{\"marker\": {\"colorbar\": {\"outlinewidth\": 0, \"ticks\": \"\"}}, \"type\": \"scatterpolar\"}], \"scatterpolargl\": [{\"marker\": {\"colorbar\": {\"outlinewidth\": 0, \"ticks\": \"\"}}, \"type\": \"scatterpolargl\"}], \"scatterternary\": [{\"marker\": {\"colorbar\": {\"outlinewidth\": 0, \"ticks\": \"\"}}, \"type\": \"scatterternary\"}], \"surface\": [{\"colorbar\": {\"outlinewidth\": 0, \"ticks\": \"\"}, \"colorscale\": [[0.0, \"#0d0887\"], [0.1111111111111111, \"#46039f\"], [0.2222222222222222, \"#7201a8\"], [0.3333333333333333, \"#9c179e\"], [0.4444444444444444, \"#bd3786\"], [0.5555555555555556, \"#d8576b\"], [0.6666666666666666, \"#ed7953\"], [0.7777777777777778, \"#fb9f3a\"], [0.8888888888888888, \"#fdca26\"], [1.0, \"#f0f921\"]], \"type\": \"surface\"}], \"table\": [{\"cells\": {\"fill\": {\"color\": \"#EBF0F8\"}, \"line\": {\"color\": \"white\"}}, \"header\": {\"fill\": {\"color\": \"#C8D4E3\"}, \"line\": {\"color\": \"white\"}}, \"type\": \"table\"}]}, \"layout\": {\"annotationdefaults\": {\"arrowcolor\": \"#2a3f5f\", \"arrowhead\": 0, \"arrowwidth\": 1}, \"autotypenumbers\": \"strict\", \"coloraxis\": {\"colorbar\": {\"outlinewidth\": 0, \"ticks\": \"\"}}, \"colorscale\": {\"diverging\": [[0, \"#8e0152\"], [0.1, \"#c51b7d\"], [0.2, \"#de77ae\"], [0.3, \"#f1b6da\"], [0.4, \"#fde0ef\"], [0.5, \"#f7f7f7\"], [0.6, \"#e6f5d0\"], [0.7, \"#b8e186\"], [0.8, \"#7fbc41\"], [0.9, \"#4d9221\"], [1, \"#276419\"]], \"sequential\": [[0.0, \"#0d0887\"], [0.1111111111111111, \"#46039f\"], [0.2222222222222222, \"#7201a8\"], [0.3333333333333333, \"#9c179e\"], [0.4444444444444444, \"#bd3786\"], [0.5555555555555556, \"#d8576b\"], [0.6666666666666666, \"#ed7953\"], [0.7777777777777778, \"#fb9f3a\"], [0.8888888888888888, \"#fdca26\"], [1.0, \"#f0f921\"]], \"sequentialminus\": [[0.0, \"#0d0887\"], [0.1111111111111111, \"#46039f\"], [0.2222222222222222, \"#7201a8\"], [0.3333333333333333, \"#9c179e\"], [0.4444444444444444, \"#bd3786\"], [0.5555555555555556, \"#d8576b\"], [0.6666666666666666, \"#ed7953\"], [0.7777777777777778, \"#fb9f3a\"], [0.8888888888888888, \"#fdca26\"], [1.0, \"#f0f921\"]]}, \"colorway\": [\"#636efa\", \"#EF553B\", \"#00cc96\", \"#ab63fa\", \"#FFA15A\", \"#19d3f3\", \"#FF6692\", \"#B6E880\", \"#FF97FF\", \"#FECB52\"], \"font\": {\"color\": \"#2a3f5f\"}, \"geo\": {\"bgcolor\": \"white\", \"lakecolor\": \"white\", \"landcolor\": \"#E5ECF6\", \"showlakes\": true, \"showland\": true, \"subunitcolor\": \"white\"}, \"hoverlabel\": {\"align\": \"left\"}, \"hovermode\": \"closest\", \"mapbox\": {\"style\": \"light\"}, \"paper_bgcolor\": \"white\", \"plot_bgcolor\": \"#E5ECF6\", \"polar\": {\"angularaxis\": {\"gridcolor\": \"white\", \"linecolor\": \"white\", \"ticks\": \"\"}, \"bgcolor\": \"#E5ECF6\", \"radialaxis\": {\"gridcolor\": \"white\", \"linecolor\": \"white\", \"ticks\": \"\"}}, \"scene\": {\"xaxis\": {\"backgroundcolor\": \"#E5ECF6\", \"gridcolor\": \"white\", \"gridwidth\": 2, \"linecolor\": \"white\", \"showbackground\": true, \"ticks\": \"\", \"zerolinecolor\": \"white\"}, \"yaxis\": {\"backgroundcolor\": \"#E5ECF6\", \"gridcolor\": \"white\", \"gridwidth\": 2, \"linecolor\": \"white\", \"showbackground\": true, \"ticks\": \"\", \"zerolinecolor\": \"white\"}, \"zaxis\": {\"backgroundcolor\": \"#E5ECF6\", \"gridcolor\": \"white\", \"gridwidth\": 2, \"linecolor\": \"white\", \"showbackground\": true, \"ticks\": \"\", \"zerolinecolor\": \"white\"}}, \"shapedefaults\": {\"line\": {\"color\": \"#2a3f5f\"}}, \"ternary\": {\"aaxis\": {\"gridcolor\": \"white\", \"linecolor\": \"white\", \"ticks\": \"\"}, \"baxis\": {\"gridcolor\": \"white\", \"linecolor\": \"white\", \"ticks\": \"\"}, \"bgcolor\": \"#E5ECF6\", \"caxis\": {\"gridcolor\": \"white\", \"linecolor\": \"white\", \"ticks\": \"\"}}, \"title\": {\"x\": 0.05}, \"xaxis\": {\"automargin\": true, \"gridcolor\": \"white\", \"linecolor\": \"white\", \"ticks\": \"\", \"title\": {\"standoff\": 15}, \"zerolinecolor\": \"white\", \"zerolinewidth\": 2}, \"yaxis\": {\"automargin\": true, \"gridcolor\": \"white\", \"linecolor\": \"white\", \"ticks\": \"\", \"title\": {\"standoff\": 15}, \"zerolinecolor\": \"white\", \"zerolinewidth\": 2}}}},                        {\"responsive\": true}                    ).then(function(){\n",
       "                            \n",
       "var gd = document.getElementById('d7e8b59e-ecf2-48b8-b583-e57a7b25c95c');\n",
       "var x = new MutationObserver(function (mutations, observer) {{\n",
       "        var display = window.getComputedStyle(gd).display;\n",
       "        if (!display || display === 'none') {{\n",
       "            console.log([gd, 'removed!']);\n",
       "            Plotly.purge(gd);\n",
       "            observer.disconnect();\n",
       "        }}\n",
       "}});\n",
       "\n",
       "// Listen for the removal of the full notebook cells\n",
       "var notebookContainer = gd.closest('#notebook-container');\n",
       "if (notebookContainer) {{\n",
       "    x.observe(notebookContainer, {childList: true});\n",
       "}}\n",
       "\n",
       "// Listen for the clearing of the current output cell\n",
       "var outputEl = gd.closest('.output');\n",
       "if (outputEl) {{\n",
       "    x.observe(outputEl, {childList: true});\n",
       "}}\n",
       "\n",
       "                        })                };                });            </script>        </div>"
      ]
     },
     "metadata": {},
     "output_type": "display_data"
    }
   ],
   "source": [
    "\n",
    "# Try with dictionary???\n",
    "colors = {'Solar':'yellow', \n",
    "          'Gas':'lightgreen', \n",
    "          'Oil':'olive', \n",
    "          'Wind':'cyan', \n",
    "          'Hydro':'blue', \n",
    "          'Coal':'black', \n",
    "          'Biomass':'green', \n",
    "          'Waste':'brown', \n",
    "          'Cogeneration':'bisque', \n",
    "          'Geothermal':'red', \n",
    "          'Nuclear':'orange', \n",
    "          'Petcoke':'teal', \n",
    "          'Other':'grey', \n",
    "          'Storage':'lime'}\n",
    "\n",
    "\n",
    "# plots the countries based on the most used primary fuel types\n",
    "fig = px.choropleth(df_pf, locations=df_pf[\"country\"],\n",
    "                    hover_name=df_pf[\"country\"],\n",
    "                    color = df_pf[\"primary_fuel\"],\n",
    "                    color_continuous_scale=px.colors.sequential.Plasma)\n",
    "fig.show()"
   ]
  },
  {
   "cell_type": "markdown",
   "metadata": {},
   "source": [
    "# Complete Time Series Analysis"
   ]
  },
  {
   "cell_type": "code",
   "execution_count": 14,
   "metadata": {},
   "outputs": [],
   "source": [
    "# Creates new column 'avg_annual_output' in df by\n",
    "#  - copying estimated_generation_gwh in rows where it is not NaN\n",
    "#  - averaging the time series in the remaining rows\n",
    "def annual_output(df):\n",
    "    df['avg_annual_output'] = df['estimated_generation_gwh']    \n",
    "    idx = df.index[df['estimated_generation_gwh'].isna()].tolist()    \n",
    "    df.loc[idx,'avg_annual_output'] = df[['generation_gwh_2013', 'generation_gwh_2014', 'generation_gwh_2015', 'generation_gwh_2016', 'generation_gwh_2017']].mean(axis=1)"
   ]
  },
  {
   "cell_type": "code",
   "execution_count": 16,
   "metadata": {},
   "outputs": [],
   "source": [
    "annual_output(df_ts_complete)"
   ]
  },
  {
   "cell_type": "code",
   "execution_count": 17,
   "metadata": {},
   "outputs": [
    {
     "data": {
      "text/html": [
       "<div>\n",
       "<style scoped>\n",
       "    .dataframe tbody tr th:only-of-type {\n",
       "        vertical-align: middle;\n",
       "    }\n",
       "\n",
       "    .dataframe tbody tr th {\n",
       "        vertical-align: top;\n",
       "    }\n",
       "\n",
       "    .dataframe thead th {\n",
       "        text-align: right;\n",
       "    }\n",
       "</style>\n",
       "<table border=\"1\" class=\"dataframe\">\n",
       "  <thead>\n",
       "    <tr style=\"text-align: right;\">\n",
       "      <th></th>\n",
       "      <th>country</th>\n",
       "      <th>capacity_mw</th>\n",
       "      <th>latitude</th>\n",
       "      <th>longitude</th>\n",
       "      <th>primary_fuel</th>\n",
       "      <th>other_fuel1</th>\n",
       "      <th>other_fuel2</th>\n",
       "      <th>other_fuel3</th>\n",
       "      <th>commissioning_year</th>\n",
       "      <th>owner</th>\n",
       "      <th>source</th>\n",
       "      <th>year_of_capacity_data</th>\n",
       "      <th>generation_gwh_2013</th>\n",
       "      <th>generation_gwh_2014</th>\n",
       "      <th>generation_gwh_2015</th>\n",
       "      <th>generation_gwh_2016</th>\n",
       "      <th>generation_gwh_2017</th>\n",
       "      <th>estimated_generation_gwh</th>\n",
       "      <th>avg_annual_output</th>\n",
       "    </tr>\n",
       "    <tr>\n",
       "      <th>gppd_idnr</th>\n",
       "      <th></th>\n",
       "      <th></th>\n",
       "      <th></th>\n",
       "      <th></th>\n",
       "      <th></th>\n",
       "      <th></th>\n",
       "      <th></th>\n",
       "      <th></th>\n",
       "      <th></th>\n",
       "      <th></th>\n",
       "      <th></th>\n",
       "      <th></th>\n",
       "      <th></th>\n",
       "      <th></th>\n",
       "      <th></th>\n",
       "      <th></th>\n",
       "      <th></th>\n",
       "      <th></th>\n",
       "      <th></th>\n",
       "    </tr>\n",
       "  </thead>\n",
       "  <tbody>\n",
       "    <tr>\n",
       "      <th>AUS0000065</th>\n",
       "      <td>AUS</td>\n",
       "      <td>21.6</td>\n",
       "      <td>-35.0641</td>\n",
       "      <td>117.7977</td>\n",
       "      <td>Wind</td>\n",
       "      <td>NaN</td>\n",
       "      <td>NaN</td>\n",
       "      <td>NaN</td>\n",
       "      <td>NaN</td>\n",
       "      <td>Verve Energy</td>\n",
       "      <td>Australian Renewable Energy Mapping Infrastruc...</td>\n",
       "      <td>NaN</td>\n",
       "      <td>89.595278</td>\n",
       "      <td>102.642778</td>\n",
       "      <td>96.555556</td>\n",
       "      <td>95.872778</td>\n",
       "      <td>85.900278</td>\n",
       "      <td>NaN</td>\n",
       "      <td>94.113333</td>\n",
       "    </tr>\n",
       "    <tr>\n",
       "      <th>AUS0000264</th>\n",
       "      <td>AUS</td>\n",
       "      <td>55.6</td>\n",
       "      <td>-34.2082</td>\n",
       "      <td>150.7722</td>\n",
       "      <td>Gas</td>\n",
       "      <td>NaN</td>\n",
       "      <td>NaN</td>\n",
       "      <td>NaN</td>\n",
       "      <td>NaN</td>\n",
       "      <td>Energy Developments CSM (NSW) Pty Ltd</td>\n",
       "      <td>Australian Renewable Energy Mapping Infrastruc...</td>\n",
       "      <td>NaN</td>\n",
       "      <td>204.804444</td>\n",
       "      <td>238.294444</td>\n",
       "      <td>163.583611</td>\n",
       "      <td>158.933056</td>\n",
       "      <td>64.534722</td>\n",
       "      <td>NaN</td>\n",
       "      <td>166.030056</td>\n",
       "    </tr>\n",
       "    <tr>\n",
       "      <th>AUS0000049</th>\n",
       "      <td>AUS</td>\n",
       "      <td>1.1</td>\n",
       "      <td>-33.0250</td>\n",
       "      <td>151.5497</td>\n",
       "      <td>Waste</td>\n",
       "      <td>NaN</td>\n",
       "      <td>NaN</td>\n",
       "      <td>NaN</td>\n",
       "      <td>NaN</td>\n",
       "      <td>LMS Energy Generation Pty Ltd</td>\n",
       "      <td>Australian Renewable Energy Mapping Infrastruc...</td>\n",
       "      <td>NaN</td>\n",
       "      <td>7.655278</td>\n",
       "      <td>8.338611</td>\n",
       "      <td>9.172500</td>\n",
       "      <td>8.830000</td>\n",
       "      <td>8.085556</td>\n",
       "      <td>NaN</td>\n",
       "      <td>8.416389</td>\n",
       "    </tr>\n",
       "    <tr>\n",
       "      <th>AUS0000081</th>\n",
       "      <td>AUS</td>\n",
       "      <td>94.0</td>\n",
       "      <td>-37.8429</td>\n",
       "      <td>147.5639</td>\n",
       "      <td>Gas</td>\n",
       "      <td>NaN</td>\n",
       "      <td>NaN</td>\n",
       "      <td>NaN</td>\n",
       "      <td>NaN</td>\n",
       "      <td>Alinta DEBO</td>\n",
       "      <td>Australian Renewable Energy Mapping Infrastruc...</td>\n",
       "      <td>NaN</td>\n",
       "      <td>132.456667</td>\n",
       "      <td>154.885556</td>\n",
       "      <td>149.821111</td>\n",
       "      <td>197.540556</td>\n",
       "      <td>168.524444</td>\n",
       "      <td>NaN</td>\n",
       "      <td>160.645667</td>\n",
       "    </tr>\n",
       "    <tr>\n",
       "      <th>AUS0000113</th>\n",
       "      <td>AUS</td>\n",
       "      <td>3.0</td>\n",
       "      <td>-37.5596</td>\n",
       "      <td>143.8469</td>\n",
       "      <td>Gas</td>\n",
       "      <td>NaN</td>\n",
       "      <td>NaN</td>\n",
       "      <td>NaN</td>\n",
       "      <td>NaN</td>\n",
       "      <td>Ballarat Base Hospital</td>\n",
       "      <td>Australian Renewable Energy Mapping Infrastruc...</td>\n",
       "      <td>NaN</td>\n",
       "      <td>4.194444</td>\n",
       "      <td>4.213056</td>\n",
       "      <td>5.079444</td>\n",
       "      <td>6.831389</td>\n",
       "      <td>6.663333</td>\n",
       "      <td>NaN</td>\n",
       "      <td>5.396333</td>\n",
       "    </tr>\n",
       "    <tr>\n",
       "      <th>...</th>\n",
       "      <td>...</td>\n",
       "      <td>...</td>\n",
       "      <td>...</td>\n",
       "      <td>...</td>\n",
       "      <td>...</td>\n",
       "      <td>...</td>\n",
       "      <td>...</td>\n",
       "      <td>...</td>\n",
       "      <td>...</td>\n",
       "      <td>...</td>\n",
       "      <td>...</td>\n",
       "      <td>...</td>\n",
       "      <td>...</td>\n",
       "      <td>...</td>\n",
       "      <td>...</td>\n",
       "      <td>...</td>\n",
       "      <td>...</td>\n",
       "      <td>...</td>\n",
       "      <td>...</td>\n",
       "    </tr>\n",
       "    <tr>\n",
       "      <th>USA0055392</th>\n",
       "      <td>USA</td>\n",
       "      <td>596.7</td>\n",
       "      <td>42.4776</td>\n",
       "      <td>-87.8950</td>\n",
       "      <td>Gas</td>\n",
       "      <td>Oil</td>\n",
       "      <td>NaN</td>\n",
       "      <td>NaN</td>\n",
       "      <td>2002.333333</td>\n",
       "      <td>Zion Energy LLC</td>\n",
       "      <td>U.S. Energy Information Administration</td>\n",
       "      <td>2017.0</td>\n",
       "      <td>0.000000</td>\n",
       "      <td>63.656000</td>\n",
       "      <td>132.434005</td>\n",
       "      <td>435.493999</td>\n",
       "      <td>462.063000</td>\n",
       "      <td>NaN</td>\n",
       "      <td>218.729401</td>\n",
       "    </tr>\n",
       "    <tr>\n",
       "      <th>USA0056871</th>\n",
       "      <td>USA</td>\n",
       "      <td>7.0</td>\n",
       "      <td>42.4803</td>\n",
       "      <td>-87.8861</td>\n",
       "      <td>Waste</td>\n",
       "      <td>NaN</td>\n",
       "      <td>NaN</td>\n",
       "      <td>NaN</td>\n",
       "      <td>2003.000000</td>\n",
       "      <td>Energy Developments Inc</td>\n",
       "      <td>U.S. Energy Information Administration</td>\n",
       "      <td>2017.0</td>\n",
       "      <td>43.592000</td>\n",
       "      <td>49.134000</td>\n",
       "      <td>46.699000</td>\n",
       "      <td>42.480000</td>\n",
       "      <td>38.669000</td>\n",
       "      <td>NaN</td>\n",
       "      <td>44.114800</td>\n",
       "    </tr>\n",
       "    <tr>\n",
       "      <th>USA0001368</th>\n",
       "      <td>USA</td>\n",
       "      <td>18.0</td>\n",
       "      <td>38.2803</td>\n",
       "      <td>-85.7023</td>\n",
       "      <td>Gas</td>\n",
       "      <td>NaN</td>\n",
       "      <td>NaN</td>\n",
       "      <td>NaN</td>\n",
       "      <td>1969.000000</td>\n",
       "      <td>Louisville Gas &amp; Electric Co</td>\n",
       "      <td>U.S. Energy Information Administration</td>\n",
       "      <td>2017.0</td>\n",
       "      <td>0.203000</td>\n",
       "      <td>0.078000</td>\n",
       "      <td>1.058000</td>\n",
       "      <td>0.062000</td>\n",
       "      <td>0.015000</td>\n",
       "      <td>NaN</td>\n",
       "      <td>0.283200</td>\n",
       "    </tr>\n",
       "    <tr>\n",
       "      <th>USA0057648</th>\n",
       "      <td>USA</td>\n",
       "      <td>3.4</td>\n",
       "      <td>42.8869</td>\n",
       "      <td>-76.9683</td>\n",
       "      <td>Wind</td>\n",
       "      <td>NaN</td>\n",
       "      <td>NaN</td>\n",
       "      <td>NaN</td>\n",
       "      <td>2012.000000</td>\n",
       "      <td>Zotos International</td>\n",
       "      <td>U.S. Energy Information Administration</td>\n",
       "      <td>2017.0</td>\n",
       "      <td>3.671000</td>\n",
       "      <td>2.460150</td>\n",
       "      <td>2.489000</td>\n",
       "      <td>1.670000</td>\n",
       "      <td>1.233490</td>\n",
       "      <td>NaN</td>\n",
       "      <td>2.304728</td>\n",
       "    </tr>\n",
       "    <tr>\n",
       "      <th>USA0059281</th>\n",
       "      <td>USA</td>\n",
       "      <td>9.8</td>\n",
       "      <td>40.5606</td>\n",
       "      <td>-112.0478</td>\n",
       "      <td>Gas</td>\n",
       "      <td>NaN</td>\n",
       "      <td>NaN</td>\n",
       "      <td>NaN</td>\n",
       "      <td>2013.775510</td>\n",
       "      <td>Bloom Energy</td>\n",
       "      <td>U.S. Energy Information Administration</td>\n",
       "      <td>2017.0</td>\n",
       "      <td>12.968000</td>\n",
       "      <td>51.276000</td>\n",
       "      <td>71.505000</td>\n",
       "      <td>76.392000</td>\n",
       "      <td>76.631000</td>\n",
       "      <td>NaN</td>\n",
       "      <td>57.754400</td>\n",
       "    </tr>\n",
       "  </tbody>\n",
       "</table>\n",
       "<p>6817 rows × 19 columns</p>\n",
       "</div>"
      ],
      "text/plain": [
       "           country  capacity_mw  latitude  longitude primary_fuel other_fuel1  \\\n",
       "gppd_idnr                                                                       \n",
       "AUS0000065     AUS         21.6  -35.0641   117.7977         Wind         NaN   \n",
       "AUS0000264     AUS         55.6  -34.2082   150.7722          Gas         NaN   \n",
       "AUS0000049     AUS          1.1  -33.0250   151.5497        Waste         NaN   \n",
       "AUS0000081     AUS         94.0  -37.8429   147.5639          Gas         NaN   \n",
       "AUS0000113     AUS          3.0  -37.5596   143.8469          Gas         NaN   \n",
       "...            ...          ...       ...        ...          ...         ...   \n",
       "USA0055392     USA        596.7   42.4776   -87.8950          Gas         Oil   \n",
       "USA0056871     USA          7.0   42.4803   -87.8861        Waste         NaN   \n",
       "USA0001368     USA         18.0   38.2803   -85.7023          Gas         NaN   \n",
       "USA0057648     USA          3.4   42.8869   -76.9683         Wind         NaN   \n",
       "USA0059281     USA          9.8   40.5606  -112.0478          Gas         NaN   \n",
       "\n",
       "           other_fuel2 other_fuel3  commissioning_year  \\\n",
       "gppd_idnr                                                \n",
       "AUS0000065         NaN         NaN                 NaN   \n",
       "AUS0000264         NaN         NaN                 NaN   \n",
       "AUS0000049         NaN         NaN                 NaN   \n",
       "AUS0000081         NaN         NaN                 NaN   \n",
       "AUS0000113         NaN         NaN                 NaN   \n",
       "...                ...         ...                 ...   \n",
       "USA0055392         NaN         NaN         2002.333333   \n",
       "USA0056871         NaN         NaN         2003.000000   \n",
       "USA0001368         NaN         NaN         1969.000000   \n",
       "USA0057648         NaN         NaN         2012.000000   \n",
       "USA0059281         NaN         NaN         2013.775510   \n",
       "\n",
       "                                            owner  \\\n",
       "gppd_idnr                                           \n",
       "AUS0000065                           Verve Energy   \n",
       "AUS0000264  Energy Developments CSM (NSW) Pty Ltd   \n",
       "AUS0000049          LMS Energy Generation Pty Ltd   \n",
       "AUS0000081                            Alinta DEBO   \n",
       "AUS0000113                 Ballarat Base Hospital   \n",
       "...                                           ...   \n",
       "USA0055392                        Zion Energy LLC   \n",
       "USA0056871                Energy Developments Inc   \n",
       "USA0001368           Louisville Gas & Electric Co   \n",
       "USA0057648                    Zotos International   \n",
       "USA0059281                           Bloom Energy   \n",
       "\n",
       "                                                       source  \\\n",
       "gppd_idnr                                                       \n",
       "AUS0000065  Australian Renewable Energy Mapping Infrastruc...   \n",
       "AUS0000264  Australian Renewable Energy Mapping Infrastruc...   \n",
       "AUS0000049  Australian Renewable Energy Mapping Infrastruc...   \n",
       "AUS0000081  Australian Renewable Energy Mapping Infrastruc...   \n",
       "AUS0000113  Australian Renewable Energy Mapping Infrastruc...   \n",
       "...                                                       ...   \n",
       "USA0055392             U.S. Energy Information Administration   \n",
       "USA0056871             U.S. Energy Information Administration   \n",
       "USA0001368             U.S. Energy Information Administration   \n",
       "USA0057648             U.S. Energy Information Administration   \n",
       "USA0059281             U.S. Energy Information Administration   \n",
       "\n",
       "            year_of_capacity_data  generation_gwh_2013  generation_gwh_2014  \\\n",
       "gppd_idnr                                                                     \n",
       "AUS0000065                    NaN            89.595278           102.642778   \n",
       "AUS0000264                    NaN           204.804444           238.294444   \n",
       "AUS0000049                    NaN             7.655278             8.338611   \n",
       "AUS0000081                    NaN           132.456667           154.885556   \n",
       "AUS0000113                    NaN             4.194444             4.213056   \n",
       "...                           ...                  ...                  ...   \n",
       "USA0055392                 2017.0             0.000000            63.656000   \n",
       "USA0056871                 2017.0            43.592000            49.134000   \n",
       "USA0001368                 2017.0             0.203000             0.078000   \n",
       "USA0057648                 2017.0             3.671000             2.460150   \n",
       "USA0059281                 2017.0            12.968000            51.276000   \n",
       "\n",
       "            generation_gwh_2015  generation_gwh_2016  generation_gwh_2017  \\\n",
       "gppd_idnr                                                                   \n",
       "AUS0000065            96.555556            95.872778            85.900278   \n",
       "AUS0000264           163.583611           158.933056            64.534722   \n",
       "AUS0000049             9.172500             8.830000             8.085556   \n",
       "AUS0000081           149.821111           197.540556           168.524444   \n",
       "AUS0000113             5.079444             6.831389             6.663333   \n",
       "...                         ...                  ...                  ...   \n",
       "USA0055392           132.434005           435.493999           462.063000   \n",
       "USA0056871            46.699000            42.480000            38.669000   \n",
       "USA0001368             1.058000             0.062000             0.015000   \n",
       "USA0057648             2.489000             1.670000             1.233490   \n",
       "USA0059281            71.505000            76.392000            76.631000   \n",
       "\n",
       "            estimated_generation_gwh  avg_annual_output  \n",
       "gppd_idnr                                                \n",
       "AUS0000065                       NaN          94.113333  \n",
       "AUS0000264                       NaN         166.030056  \n",
       "AUS0000049                       NaN           8.416389  \n",
       "AUS0000081                       NaN         160.645667  \n",
       "AUS0000113                       NaN           5.396333  \n",
       "...                              ...                ...  \n",
       "USA0055392                       NaN         218.729401  \n",
       "USA0056871                       NaN          44.114800  \n",
       "USA0001368                       NaN           0.283200  \n",
       "USA0057648                       NaN           2.304728  \n",
       "USA0059281                       NaN          57.754400  \n",
       "\n",
       "[6817 rows x 19 columns]"
      ]
     },
     "execution_count": 17,
     "metadata": {},
     "output_type": "execute_result"
    }
   ],
   "source": [
    "df_ts_complete"
   ]
  },
  {
   "cell_type": "code",
   "execution_count": null,
   "metadata": {},
   "outputs": [],
   "source": [
    "fig = px.scatter_geo(df,\n",
    "                    lat=df[\"latitude\"],\n",
    "                    lon=df[\"longitude\"],\n",
    "                    hover_name=df[\"name\"],\n",
    "                    color = df[\"primary_fuel\"])\n",
    "fig.show()"
   ]
  }
 ],
 "metadata": {
  "kernelspec": {
   "display_name": "Python 3",
   "language": "python",
   "name": "python3"
  },
  "language_info": {
   "codemirror_mode": {
    "name": "ipython",
    "version": 3
   },
   "file_extension": ".py",
   "mimetype": "text/x-python",
   "name": "python",
   "nbconvert_exporter": "python",
   "pygments_lexer": "ipython3",
   "version": "3.7.6"
  }
 },
 "nbformat": 4,
 "nbformat_minor": 4
}
